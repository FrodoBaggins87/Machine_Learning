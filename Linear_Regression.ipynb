{
  "nbformat": 4,
  "nbformat_minor": 0,
  "metadata": {
    "colab": {
      "provenance": [],
      "authorship_tag": "ABX9TyNbcQlC58CWH5D5bD6yG4SF",
      "include_colab_link": true
    },
    "kernelspec": {
      "name": "python3",
      "display_name": "Python 3"
    },
    "language_info": {
      "name": "python"
    }
  },
  "cells": [
    {
      "cell_type": "markdown",
      "metadata": {
        "id": "view-in-github",
        "colab_type": "text"
      },
      "source": [
        "<a href=\"https://colab.research.google.com/github/FrodoBaggins87/Machine_Learning/blob/main/Linear_Regression.ipynb\" target=\"_parent\"><img src=\"https://colab.research.google.com/assets/colab-badge.svg\" alt=\"Open In Colab\"/></a>"
      ]
    },
    {
      "cell_type": "code",
      "execution_count": null,
      "metadata": {
        "id": "waDTDmy8Zk_P"
      },
      "outputs": [],
      "source": [
        "import torch\n",
        "from torch import nn\n",
        "import matplotlib.pyplot as plt"
      ]
    },
    {
      "cell_type": "code",
      "source": [
        "#creating known parameters\n",
        "weight= 0.7\n",
        "bias= 0.3\n",
        "#creating dataset\n",
        "start=0\n",
        "end=1\n",
        "step=0.02\n",
        "x=torch.arange(start, end, step).unsqueeze(dim=1)\n",
        "y=weight*x + bias"
      ],
      "metadata": {
        "id": "XvBwox4EefAn"
      },
      "execution_count": null,
      "outputs": []
    },
    {
      "cell_type": "code",
      "source": [
        "#dividing dataset into training and test dataset\n",
        "train_split=int(0.8*len(x))\n",
        "x_train,y_train=x[:train_split],y[:train_split]\n",
        "x_test,y_test=x[train_split:],y[train_split:]\n"
      ],
      "metadata": {
        "id": "JykEHEm0f7el"
      },
      "execution_count": null,
      "outputs": []
    },
    {
      "cell_type": "code",
      "source": [
        "len(x_train),len(y_train), len(x_test), len(y_test)"
      ],
      "metadata": {
        "id": "0K76tc4tokwq",
        "colab": {
          "base_uri": "https://localhost:8080/"
        },
        "outputId": "33c13a63-1f05-48a9-cdde-dc64403cfba9"
      },
      "execution_count": null,
      "outputs": [
        {
          "output_type": "execute_result",
          "data": {
            "text/plain": [
              "(40, 40, 10, 10)"
            ]
          },
          "metadata": {},
          "execution_count": 5
        }
      ]
    },
    {
      "cell_type": "markdown",
      "source": [
        "Now attemplting to visualize the data\n"
      ],
      "metadata": {
        "id": "Y4EVwlFCiNLi"
      }
    },
    {
      "cell_type": "code",
      "source": [
        "def plot_data(train_data=x_train, train_label=y_train,test_data=x_test, test_label=y_test, predictions=None):\n",
        "  plt.figure(figsize=(10,7))#dimensions of figure\n",
        "  #plot training data\n",
        "  plt.scatter(train_data, train_label, c='b',s=4, label=\"Training data\") #s gives the size of dots\n",
        "  #plot test data\n",
        "  plt.scatter(test_data, test_label, c='r',s=4, label=\"Test data\")\n",
        "  #plot predicted data if it exists\n",
        "  if predictions is not None:\n",
        "    plt.scatter(test_data, predictions, c='g', s=5, label=\"Predicted data\")\n",
        "  #plot legend\n",
        "  plt.legend(prop={\"size\":14})"
      ],
      "metadata": {
        "id": "zoCuHuFQiUnC"
      },
      "execution_count": null,
      "outputs": []
    },
    {
      "cell_type": "code",
      "source": [
        "plot_data()"
      ],
      "metadata": {
        "colab": {
          "base_uri": "https://localhost:8080/",
          "height": 599
        },
        "id": "MfzCYg5iocrX",
        "outputId": "27afbcf6-d9b7-4688-ca93-fdd7ffe7d091"
      },
      "execution_count": null,
      "outputs": [
        {
          "output_type": "display_data",
          "data": {
            "text/plain": [
              "<Figure size 1000x700 with 1 Axes>"
            ],
            "image/png": "[encoded data removed]"
          },
          "metadata": {}
        }
      ]
    },
    {
      "cell_type": "markdown",
      "source": [
        "Building Model\n"
      ],
      "metadata": {
        "id": "DKf_cbQUoyk9"
      }
    },
    {
      "cell_type": "code",
      "source": [
        "#make linear regression model class with parent class nn.Module\n",
        "class LinearRegressionModel(nn.Module):\n",
        "  def __init__(self):\n",
        "    super().__init__()\n",
        "    self.weights= nn.Parameter(torch.randn(1), #staring with a random weight\n",
        "                               requires_grad=True)\n",
        "    self.bias= nn.Parameter(torch.randn(1),#starting with a rnadom bias\n",
        "                               requires_grad=True)#grad is required here and in weights definintion for using gradient descent algorithm# pytorch works well with float32\n",
        "  def forward(self, x:torch.Tensor) -> torch.Tensor: #x is input data\n",
        "    return self.weights *x + self.bias #linear regression"
      ],
      "metadata": {
        "id": "wzSxKXbaoxIQ"
      },
      "execution_count": null,
      "outputs": []
    },
    {
      "cell_type": "code",
      "source": [
        "'''\n",
        "all model building essentials\n",
        "torch.nn: contains all computational graphs for building neural networks\n",
        "torch.nn.Parameter: which parameters are supposed to be learned by our model\n",
        "torch.nn.Module:base class for all neural networks, models built in its subclass\n",
        "torch.optim:optimizers in PyTorch live here(they help with optimizing algorithms e.g. gradient descent)\n",
        "def forward(): required by all nn.module subclasses, function to be calculated, defines what happens in the forward computation\n",
        "'''"
      ],
      "metadata": {
        "colab": {
          "base_uri": "https://localhost:8080/",
          "height": 70
        },
        "id": "0Vod9Wmm_0BI",
        "outputId": "ac1f00cc-948f-490a-faa3-4642450788b9"
      },
      "execution_count": null,
      "outputs": [
        {
          "output_type": "execute_result",
          "data": {
            "text/plain": [
              "'\\nall model building essentials\\ntorch.nn: contains all computational graphs for building neural networks\\ntorch.nn.Parameter: which parameters are supposed to be learned by our model\\ntorch.nn.Module:base class for all neural networks, models built in its subclass\\ntorch.optim:optimizers in PyTorch live here(they help with optimizing algorithms e.g. gradient descent)\\ndef forward(): required by all nn.module subclasses, function to be calculated, defines what happens in the forward computation\\n'"
            ],
            "application/vnd.google.colaboratory.intrinsic+json": {
              "type": "string"
            }
          },
          "metadata": {},
          "execution_count": 9
        }
      ]
    },
    {
      "cell_type": "code",
      "source": [
        "#creating instance of class LinearRegressionModel\n",
        "model_0=LinearRegressionModel()\n",
        "list(model_0.parameters())"
      ],
      "metadata": {
        "colab": {
          "base_uri": "https://localhost:8080/"
        },
        "id": "_Qvzg4jICn3A",
        "outputId": "86e159d1-717a-4659-a84c-13a9d0c07bb7"
      },
      "execution_count": null,
      "outputs": [
        {
          "output_type": "execute_result",
          "data": {
            "text/plain": [
              "[Parameter containing:\n",
              " tensor([1.0291], requires_grad=True),\n",
              " Parameter containing:\n",
              " tensor([0.4947], requires_grad=True)]"
            ]
          },
          "metadata": {},
          "execution_count": 22
        }
      ]
    },
    {
      "cell_type": "code",
      "source": [
        "with torch.inference_mode():\n",
        "  y_preds=model_0(x_test)"
      ],
      "metadata": {
        "id": "-D3ov3SMTxsb"
      },
      "execution_count": null,
      "outputs": []
    },
    {
      "cell_type": "code",
      "source": [
        "plot_data(predictions=y_preds)"
      ],
      "metadata": {
        "colab": {
          "base_uri": "https://localhost:8080/",
          "height": 599
        },
        "id": "MDlGoIUYURJx",
        "outputId": "1ff1aea2-816e-4fdb-9e05-3757307ea466"
      },
      "execution_count": null,
      "outputs": [
        {
          "output_type": "display_data",
          "data": {
            "text/plain": [
              "<Figure size 1000x700 with 1 Axes>"
            ],
            "image/png": "[encoded data removed]"
          },
          "metadata": {}
        }
      ]
    },
    {
      "cell_type": "code",
      "source": [
        "#setting up loss function\n",
        "loss_fn=nn.L1Loss()\n",
        "\n",
        "#set up optimizer\n",
        "optimizer=torch.optim.SGD(params=model_0.parameters(),#params specifies which parameters need to be optimized\n",
        "                          lr=0.001)#lr specifies the learning rate of the model(default is 0.1)"
      ],
      "metadata": {
        "colab": {
          "base_uri": "https://localhost:8080/"
        },
        "id": "4DubKDs4pwpi",
        "outputId": "33b96595-d0aa-40ff-a8a8-f3aee1ff15a1"
      },
      "execution_count": null,
      "outputs": [
        {
          "output_type": "execute_result",
          "data": {
            "text/plain": [
              "torch.nn.modules.loss.L1Loss"
            ]
          },
          "metadata": {},
          "execution_count": 26
        }
      ]
    },
    {
      "cell_type": "markdown",
      "source": [
        "Building a training loop for pytorch\n",
        "Things to be done:\n",
        "1. Loop through the data\n",
        "2. Forward Pass\n",
        "3. Calculate Loss\n",
        "4. Optimizer Zero Grad\n",
        "5. Loss Backward\n",
        "6. Optimizer Step"
      ],
      "metadata": {
        "id": "e_ygH-4ECCP0"
      }
    },
    {
      "cell_type": "code",
      "source": [
        " #epoch is a loop through the data\n",
        " epochs=1\n",
        " #Training through loop\n",
        " for epoch in range(epochs):\n",
        "  #set the model to training mode\n",
        "  model_0.train()\n",
        "  #forward pass\n",
        "  y_pred=model_0(X_train)\n",
        "  #calculate the loss\n",
        "  loss=loss_fn(y_pred,y_train)\n",
        "  #optimizer zero_grad\n",
        "  optimizer.zero_grad()\n",
        "  #perform backpropogation wrt parameters of the model\n",
        "  loss.backward()\n",
        "  #perform optimizer step from gradient descent\n",
        "  optimizer.step()\n",
        "  ###Testing\n",
        "  model_0.eval()"
      ],
      "metadata": {
        "colab": {
          "base_uri": "https://localhost:8080/",
          "height": 246
        },
        "id": "hZiRGqIfCDLH",
        "outputId": "14eeb03f-7421-43f3-ac17-99dbea85c290"
      },
      "execution_count": 1,
      "outputs": [
        {
          "output_type": "error",
          "ename": "NameError",
          "evalue": "ignored",
          "traceback": [
            "\u001b[0;31m---------------------------------------------------------------------------\u001b[0m",
            "\u001b[0;31mNameError\u001b[0m                                 Traceback (most recent call last)",
            "\u001b[0;32m<ipython-input-1-8472b6714e75>\u001b[0m in \u001b[0;36m<cell line: 4>\u001b[0;34m()\u001b[0m\n\u001b[1;32m      4\u001b[0m \u001b[0;32mfor\u001b[0m \u001b[0mepoch\u001b[0m \u001b[0;32min\u001b[0m \u001b[0mrange\u001b[0m\u001b[0;34m(\u001b[0m\u001b[0mepochs\u001b[0m\u001b[0;34m)\u001b[0m\u001b[0;34m:\u001b[0m\u001b[0;34m\u001b[0m\u001b[0;34m\u001b[0m\u001b[0m\n\u001b[1;32m      5\u001b[0m  \u001b[0;31m#set the model to training mode\u001b[0m\u001b[0;34m\u001b[0m\u001b[0;34m\u001b[0m\u001b[0m\n\u001b[0;32m----> 6\u001b[0;31m  \u001b[0mmodel_0\u001b[0m\u001b[0;34m.\u001b[0m\u001b[0mtrain\u001b[0m\u001b[0;34m(\u001b[0m\u001b[0;34m)\u001b[0m\u001b[0;34m\u001b[0m\u001b[0;34m\u001b[0m\u001b[0m\n\u001b[0m\u001b[1;32m      7\u001b[0m  \u001b[0;31m#forward pass\u001b[0m\u001b[0;34m\u001b[0m\u001b[0;34m\u001b[0m\u001b[0m\n\u001b[1;32m      8\u001b[0m  \u001b[0my_pred\u001b[0m\u001b[0;34m=\u001b[0m\u001b[0mmodel_0\u001b[0m\u001b[0;34m(\u001b[0m\u001b[0mX_train\u001b[0m\u001b[0;34m)\u001b[0m\u001b[0;34m\u001b[0m\u001b[0;34m\u001b[0m\u001b[0m\n",
            "\u001b[0;31mNameError\u001b[0m: name 'model_0' is not defined"
          ]
        }
      ]
    }
  ]
}
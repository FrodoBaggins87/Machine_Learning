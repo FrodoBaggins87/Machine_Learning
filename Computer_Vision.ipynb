{
  "nbformat": 4,
  "nbformat_minor": 0,
  "metadata": {
    "colab": {
      "provenance": [],
      "gpuType": "T4",
      "authorship_tag": "ABX9TyOYlbgc52yp2ZOBqu4TVI55",
      "include_colab_link": true
    },
    "kernelspec": {
      "name": "python3",
      "display_name": "Python 3"
    },
    "language_info": {
      "name": "python"
    },
    "widgets": {
      "application/vnd.jupyter.widget-state+json": {
        "5d75d2f559174aeb813b28764ceddca1": {
          "model_module": "@jupyter-widgets/controls",
          "model_name": "HBoxModel",
          "model_module_version": "1.5.0",
          "state": {
            "_dom_classes": [],
            "_model_module": "@jupyter-widgets/controls",
            "_model_module_version": "1.5.0",
            "_model_name": "HBoxModel",
            "_view_count": null,
            "_view_module": "@jupyter-widgets/controls",
            "_view_module_version": "1.5.0",
            "_view_name": "HBoxView",
            "box_style": "",
            "children": [
              "IPY_MODEL_31371617675a4350a409eef9d0ad0955",
              "IPY_MODEL_17968e35d66941b08443261693b3b3a6",
              "IPY_MODEL_c250389ee4fe45e1a2f7c9d57ea4c4b4"
            ],
            "layout": "IPY_MODEL_51d47a6dcbe3433c86e8dc61aa05cf7c"
          }
        },
        "31371617675a4350a409eef9d0ad0955": {
          "model_module": "@jupyter-widgets/controls",
          "model_name": "HTMLModel",
          "model_module_version": "1.5.0",
          "state": {
            "_dom_classes": [],
            "_model_module": "@jupyter-widgets/controls",
            "_model_module_version": "1.5.0",
            "_model_name": "HTMLModel",
            "_view_count": null,
            "_view_module": "@jupyter-widgets/controls",
            "_view_module_version": "1.5.0",
            "_view_name": "HTMLView",
            "description": "",
            "description_tooltip": null,
            "layout": "IPY_MODEL_a058445c35634e70b1ca3c3e8b1693a3",
            "placeholder": "​",
            "style": "IPY_MODEL_9f2701ebf51f404b8938c8bbc564d714",
            "value": "100%"
          }
        },
        "17968e35d66941b08443261693b3b3a6": {
          "model_module": "@jupyter-widgets/controls",
          "model_name": "FloatProgressModel",
          "model_module_version": "1.5.0",
          "state": {
            "_dom_classes": [],
            "_model_module": "@jupyter-widgets/controls",
            "_model_module_version": "1.5.0",
            "_model_name": "FloatProgressModel",
            "_view_count": null,
            "_view_module": "@jupyter-widgets/controls",
            "_view_module_version": "1.5.0",
            "_view_name": "ProgressView",
            "bar_style": "success",
            "description": "",
            "description_tooltip": null,
            "layout": "IPY_MODEL_c6ee398859554855864a60502ea3cd48",
            "max": 3,
            "min": 0,
            "orientation": "horizontal",
            "style": "IPY_MODEL_8c9133797b6446a69ece991258d732bc",
            "value": 3
          }
        },
        "c250389ee4fe45e1a2f7c9d57ea4c4b4": {
          "model_module": "@jupyter-widgets/controls",
          "model_name": "HTMLModel",
          "model_module_version": "1.5.0",
          "state": {
            "_dom_classes": [],
            "_model_module": "@jupyter-widgets/controls",
            "_model_module_version": "1.5.0",
            "_model_name": "HTMLModel",
            "_view_count": null,
            "_view_module": "@jupyter-widgets/controls",
            "_view_module_version": "1.5.0",
            "_view_name": "HTMLView",
            "description": "",
            "description_tooltip": null,
            "layout": "IPY_MODEL_a63e8e7a42124e54ae7c991d2023da60",
            "placeholder": "​",
            "style": "IPY_MODEL_687b2e139cc44d78bd4cbb86a4a2cdca",
            "value": " 3/3 [00:31&lt;00:00, 10.63s/it]"
          }
        },
        "51d47a6dcbe3433c86e8dc61aa05cf7c": {
          "model_module": "@jupyter-widgets/base",
          "model_name": "LayoutModel",
          "model_module_version": "1.2.0",
          "state": {
            "_model_module": "@jupyter-widgets/base",
            "_model_module_version": "1.2.0",
            "_model_name": "LayoutModel",
            "_view_count": null,
            "_view_module": "@jupyter-widgets/base",
            "_view_module_version": "1.2.0",
            "_view_name": "LayoutView",
            "align_content": null,
            "align_items": null,
            "align_self": null,
            "border": null,
            "bottom": null,
            "display": null,
            "flex": null,
            "flex_flow": null,
            "grid_area": null,
            "grid_auto_columns": null,
            "grid_auto_flow": null,
            "grid_auto_rows": null,
            "grid_column": null,
            "grid_gap": null,
            "grid_row": null,
            "grid_template_areas": null,
            "grid_template_columns": null,
            "grid_template_rows": null,
            "height": null,
            "justify_content": null,
            "justify_items": null,
            "left": null,
            "margin": null,
            "max_height": null,
            "max_width": null,
            "min_height": null,
            "min_width": null,
            "object_fit": null,
            "object_position": null,
            "order": null,
            "overflow": null,
            "overflow_x": null,
            "overflow_y": null,
            "padding": null,
            "right": null,
            "top": null,
            "visibility": null,
            "width": null
          }
        },
        "a058445c35634e70b1ca3c3e8b1693a3": {
          "model_module": "@jupyter-widgets/base",
          "model_name": "LayoutModel",
          "model_module_version": "1.2.0",
          "state": {
            "_model_module": "@jupyter-widgets/base",
            "_model_module_version": "1.2.0",
            "_model_name": "LayoutModel",
            "_view_count": null,
            "_view_module": "@jupyter-widgets/base",
            "_view_module_version": "1.2.0",
            "_view_name": "LayoutView",
            "align_content": null,
            "align_items": null,
            "align_self": null,
            "border": null,
            "bottom": null,
            "display": null,
            "flex": null,
            "flex_flow": null,
            "grid_area": null,
            "grid_auto_columns": null,
            "grid_auto_flow": null,
            "grid_auto_rows": null,
            "grid_column": null,
            "grid_gap": null,
            "grid_row": null,
            "grid_template_areas": null,
            "grid_template_columns": null,
            "grid_template_rows": null,
            "height": null,
            "justify_content": null,
            "justify_items": null,
            "left": null,
            "margin": null,
            "max_height": null,
            "max_width": null,
            "min_height": null,
            "min_width": null,
            "object_fit": null,
            "object_position": null,
            "order": null,
            "overflow": null,
            "overflow_x": null,
            "overflow_y": null,
            "padding": null,
            "right": null,
            "top": null,
            "visibility": null,
            "width": null
          }
        },
        "9f2701ebf51f404b8938c8bbc564d714": {
          "model_module": "@jupyter-widgets/controls",
          "model_name": "DescriptionStyleModel",
          "model_module_version": "1.5.0",
          "state": {
            "_model_module": "@jupyter-widgets/controls",
            "_model_module_version": "1.5.0",
            "_model_name": "DescriptionStyleModel",
            "_view_count": null,
            "_view_module": "@jupyter-widgets/base",
            "_view_module_version": "1.2.0",
            "_view_name": "StyleView",
            "description_width": ""
          }
        },
        "c6ee398859554855864a60502ea3cd48": {
          "model_module": "@jupyter-widgets/base",
          "model_name": "LayoutModel",
          "model_module_version": "1.2.0",
          "state": {
            "_model_module": "@jupyter-widgets/base",
            "_model_module_version": "1.2.0",
            "_model_name": "LayoutModel",
            "_view_count": null,
            "_view_module": "@jupyter-widgets/base",
            "_view_module_version": "1.2.0",
            "_view_name": "LayoutView",
            "align_content": null,
            "align_items": null,
            "align_self": null,
            "border": null,
            "bottom": null,
            "display": null,
            "flex": null,
            "flex_flow": null,
            "grid_area": null,
            "grid_auto_columns": null,
            "grid_auto_flow": null,
            "grid_auto_rows": null,
            "grid_column": null,
            "grid_gap": null,
            "grid_row": null,
            "grid_template_areas": null,
            "grid_template_columns": null,
            "grid_template_rows": null,
            "height": null,
            "justify_content": null,
            "justify_items": null,
            "left": null,
            "margin": null,
            "max_height": null,
            "max_width": null,
            "min_height": null,
            "min_width": null,
            "object_fit": null,
            "object_position": null,
            "order": null,
            "overflow": null,
            "overflow_x": null,
            "overflow_y": null,
            "padding": null,
            "right": null,
            "top": null,
            "visibility": null,
            "width": null
          }
        },
        "8c9133797b6446a69ece991258d732bc": {
          "model_module": "@jupyter-widgets/controls",
          "model_name": "ProgressStyleModel",
          "model_module_version": "1.5.0",
          "state": {
            "_model_module": "@jupyter-widgets/controls",
            "_model_module_version": "1.5.0",
            "_model_name": "ProgressStyleModel",
            "_view_count": null,
            "_view_module": "@jupyter-widgets/base",
            "_view_module_version": "1.2.0",
            "_view_name": "StyleView",
            "bar_color": null,
            "description_width": ""
          }
        },
        "a63e8e7a42124e54ae7c991d2023da60": {
          "model_module": "@jupyter-widgets/base",
          "model_name": "LayoutModel",
          "model_module_version": "1.2.0",
          "state": {
            "_model_module": "@jupyter-widgets/base",
            "_model_module_version": "1.2.0",
            "_model_name": "LayoutModel",
            "_view_count": null,
            "_view_module": "@jupyter-widgets/base",
            "_view_module_version": "1.2.0",
            "_view_name": "LayoutView",
            "align_content": null,
            "align_items": null,
            "align_self": null,
            "border": null,
            "bottom": null,
            "display": null,
            "flex": null,
            "flex_flow": null,
            "grid_area": null,
            "grid_auto_columns": null,
            "grid_auto_flow": null,
            "grid_auto_rows": null,
            "grid_column": null,
            "grid_gap": null,
            "grid_row": null,
            "grid_template_areas": null,
            "grid_template_columns": null,
            "grid_template_rows": null,
            "height": null,
            "justify_content": null,
            "justify_items": null,
            "left": null,
            "margin": null,
            "max_height": null,
            "max_width": null,
            "min_height": null,
            "min_width": null,
            "object_fit": null,
            "object_position": null,
            "order": null,
            "overflow": null,
            "overflow_x": null,
            "overflow_y": null,
            "padding": null,
            "right": null,
            "top": null,
            "visibility": null,
            "width": null
          }
        },
        "687b2e139cc44d78bd4cbb86a4a2cdca": {
          "model_module": "@jupyter-widgets/controls",
          "model_name": "DescriptionStyleModel",
          "model_module_version": "1.5.0",
          "state": {
            "_model_module": "@jupyter-widgets/controls",
            "_model_module_version": "1.5.0",
            "_model_name": "DescriptionStyleModel",
            "_view_count": null,
            "_view_module": "@jupyter-widgets/base",
            "_view_module_version": "1.2.0",
            "_view_name": "StyleView",
            "description_width": ""
          }
        },
        "8208ffd8cef94d48bf9c1260b63636f2": {
          "model_module": "@jupyter-widgets/controls",
          "model_name": "HBoxModel",
          "model_module_version": "1.5.0",
          "state": {
            "_dom_classes": [],
            "_model_module": "@jupyter-widgets/controls",
            "_model_module_version": "1.5.0",
            "_model_name": "HBoxModel",
            "_view_count": null,
            "_view_module": "@jupyter-widgets/controls",
            "_view_module_version": "1.5.0",
            "_view_name": "HBoxView",
            "box_style": "",
            "children": [
              "IPY_MODEL_1bfc9255d94545168f321a2757c4e7b7",
              "IPY_MODEL_cb29c14dcbac4de88e3671c3f822b185",
              "IPY_MODEL_06e0185cd6544f518561fa6820c638d8"
            ],
            "layout": "IPY_MODEL_4f53cc01fc764383942eda4075bde101"
          }
        },
        "1bfc9255d94545168f321a2757c4e7b7": {
          "model_module": "@jupyter-widgets/controls",
          "model_name": "HTMLModel",
          "model_module_version": "1.5.0",
          "state": {
            "_dom_classes": [],
            "_model_module": "@jupyter-widgets/controls",
            "_model_module_version": "1.5.0",
            "_model_name": "HTMLModel",
            "_view_count": null,
            "_view_module": "@jupyter-widgets/controls",
            "_view_module_version": "1.5.0",
            "_view_name": "HTMLView",
            "description": "",
            "description_tooltip": null,
            "layout": "IPY_MODEL_b00112a5b3334fadbb013bdc588221e5",
            "placeholder": "​",
            "style": "IPY_MODEL_1e81bdb8885f41f5a2d12ed13a3dc4a8",
            "value": "100%"
          }
        },
        "cb29c14dcbac4de88e3671c3f822b185": {
          "model_module": "@jupyter-widgets/controls",
          "model_name": "FloatProgressModel",
          "model_module_version": "1.5.0",
          "state": {
            "_dom_classes": [],
            "_model_module": "@jupyter-widgets/controls",
            "_model_module_version": "1.5.0",
            "_model_name": "FloatProgressModel",
            "_view_count": null,
            "_view_module": "@jupyter-widgets/controls",
            "_view_module_version": "1.5.0",
            "_view_name": "ProgressView",
            "bar_style": "success",
            "description": "",
            "description_tooltip": null,
            "layout": "IPY_MODEL_638e88a79c214ff595250c70364bf3c4",
            "max": 3,
            "min": 0,
            "orientation": "horizontal",
            "style": "IPY_MODEL_3155397c873841e0a5521173a46e1ade",
            "value": 3
          }
        },
        "06e0185cd6544f518561fa6820c638d8": {
          "model_module": "@jupyter-widgets/controls",
          "model_name": "HTMLModel",
          "model_module_version": "1.5.0",
          "state": {
            "_dom_classes": [],
            "_model_module": "@jupyter-widgets/controls",
            "_model_module_version": "1.5.0",
            "_model_name": "HTMLModel",
            "_view_count": null,
            "_view_module": "@jupyter-widgets/controls",
            "_view_module_version": "1.5.0",
            "_view_name": "HTMLView",
            "description": "",
            "description_tooltip": null,
            "layout": "IPY_MODEL_758e4e2008a848b1b0406d8a97f6a0c2",
            "placeholder": "​",
            "style": "IPY_MODEL_3d95c41dd79e43bc83f9227e3eb6d0df",
            "value": " 3/3 [00:36&lt;00:00, 12.14s/it]"
          }
        },
        "4f53cc01fc764383942eda4075bde101": {
          "model_module": "@jupyter-widgets/base",
          "model_name": "LayoutModel",
          "model_module_version": "1.2.0",
          "state": {
            "_model_module": "@jupyter-widgets/base",
            "_model_module_version": "1.2.0",
            "_model_name": "LayoutModel",
            "_view_count": null,
            "_view_module": "@jupyter-widgets/base",
            "_view_module_version": "1.2.0",
            "_view_name": "LayoutView",
            "align_content": null,
            "align_items": null,
            "align_self": null,
            "border": null,
            "bottom": null,
            "display": null,
            "flex": null,
            "flex_flow": null,
            "grid_area": null,
            "grid_auto_columns": null,
            "grid_auto_flow": null,
            "grid_auto_rows": null,
            "grid_column": null,
            "grid_gap": null,
            "grid_row": null,
            "grid_template_areas": null,
            "grid_template_columns": null,
            "grid_template_rows": null,
            "height": null,
            "justify_content": null,
            "justify_items": null,
            "left": null,
            "margin": null,
            "max_height": null,
            "max_width": null,
            "min_height": null,
            "min_width": null,
            "object_fit": null,
            "object_position": null,
            "order": null,
            "overflow": null,
            "overflow_x": null,
            "overflow_y": null,
            "padding": null,
            "right": null,
            "top": null,
            "visibility": null,
            "width": null
          }
        },
        "b00112a5b3334fadbb013bdc588221e5": {
          "model_module": "@jupyter-widgets/base",
          "model_name": "LayoutModel",
          "model_module_version": "1.2.0",
          "state": {
            "_model_module": "@jupyter-widgets/base",
            "_model_module_version": "1.2.0",
            "_model_name": "LayoutModel",
            "_view_count": null,
            "_view_module": "@jupyter-widgets/base",
            "_view_module_version": "1.2.0",
            "_view_name": "LayoutView",
            "align_content": null,
            "align_items": null,
            "align_self": null,
            "border": null,
            "bottom": null,
            "display": null,
            "flex": null,
            "flex_flow": null,
            "grid_area": null,
            "grid_auto_columns": null,
            "grid_auto_flow": null,
            "grid_auto_rows": null,
            "grid_column": null,
            "grid_gap": null,
            "grid_row": null,
            "grid_template_areas": null,
            "grid_template_columns": null,
            "grid_template_rows": null,
            "height": null,
            "justify_content": null,
            "justify_items": null,
            "left": null,
            "margin": null,
            "max_height": null,
            "max_width": null,
            "min_height": null,
            "min_width": null,
            "object_fit": null,
            "object_position": null,
            "order": null,
            "overflow": null,
            "overflow_x": null,
            "overflow_y": null,
            "padding": null,
            "right": null,
            "top": null,
            "visibility": null,
            "width": null
          }
        },
        "1e81bdb8885f41f5a2d12ed13a3dc4a8": {
          "model_module": "@jupyter-widgets/controls",
          "model_name": "DescriptionStyleModel",
          "model_module_version": "1.5.0",
          "state": {
            "_model_module": "@jupyter-widgets/controls",
            "_model_module_version": "1.5.0",
            "_model_name": "DescriptionStyleModel",
            "_view_count": null,
            "_view_module": "@jupyter-widgets/base",
            "_view_module_version": "1.2.0",
            "_view_name": "StyleView",
            "description_width": ""
          }
        },
        "638e88a79c214ff595250c70364bf3c4": {
          "model_module": "@jupyter-widgets/base",
          "model_name": "LayoutModel",
          "model_module_version": "1.2.0",
          "state": {
            "_model_module": "@jupyter-widgets/base",
            "_model_module_version": "1.2.0",
            "_model_name": "LayoutModel",
            "_view_count": null,
            "_view_module": "@jupyter-widgets/base",
            "_view_module_version": "1.2.0",
            "_view_name": "LayoutView",
            "align_content": null,
            "align_items": null,
            "align_self": null,
            "border": null,
            "bottom": null,
            "display": null,
            "flex": null,
            "flex_flow": null,
            "grid_area": null,
            "grid_auto_columns": null,
            "grid_auto_flow": null,
            "grid_auto_rows": null,
            "grid_column": null,
            "grid_gap": null,
            "grid_row": null,
            "grid_template_areas": null,
            "grid_template_columns": null,
            "grid_template_rows": null,
            "height": null,
            "justify_content": null,
            "justify_items": null,
            "left": null,
            "margin": null,
            "max_height": null,
            "max_width": null,
            "min_height": null,
            "min_width": null,
            "object_fit": null,
            "object_position": null,
            "order": null,
            "overflow": null,
            "overflow_x": null,
            "overflow_y": null,
            "padding": null,
            "right": null,
            "top": null,
            "visibility": null,
            "width": null
          }
        },
        "3155397c873841e0a5521173a46e1ade": {
          "model_module": "@jupyter-widgets/controls",
          "model_name": "ProgressStyleModel",
          "model_module_version": "1.5.0",
          "state": {
            "_model_module": "@jupyter-widgets/controls",
            "_model_module_version": "1.5.0",
            "_model_name": "ProgressStyleModel",
            "_view_count": null,
            "_view_module": "@jupyter-widgets/base",
            "_view_module_version": "1.2.0",
            "_view_name": "StyleView",
            "bar_color": null,
            "description_width": ""
          }
        },
        "758e4e2008a848b1b0406d8a97f6a0c2": {
          "model_module": "@jupyter-widgets/base",
          "model_name": "LayoutModel",
          "model_module_version": "1.2.0",
          "state": {
            "_model_module": "@jupyter-widgets/base",
            "_model_module_version": "1.2.0",
            "_model_name": "LayoutModel",
            "_view_count": null,
            "_view_module": "@jupyter-widgets/base",
            "_view_module_version": "1.2.0",
            "_view_name": "LayoutView",
            "align_content": null,
            "align_items": null,
            "align_self": null,
            "border": null,
            "bottom": null,
            "display": null,
            "flex": null,
            "flex_flow": null,
            "grid_area": null,
            "grid_auto_columns": null,
            "grid_auto_flow": null,
            "grid_auto_rows": null,
            "grid_column": null,
            "grid_gap": null,
            "grid_row": null,
            "grid_template_areas": null,
            "grid_template_columns": null,
            "grid_template_rows": null,
            "height": null,
            "justify_content": null,
            "justify_items": null,
            "left": null,
            "margin": null,
            "max_height": null,
            "max_width": null,
            "min_height": null,
            "min_width": null,
            "object_fit": null,
            "object_position": null,
            "order": null,
            "overflow": null,
            "overflow_x": null,
            "overflow_y": null,
            "padding": null,
            "right": null,
            "top": null,
            "visibility": null,
            "width": null
          }
        },
        "3d95c41dd79e43bc83f9227e3eb6d0df": {
          "model_module": "@jupyter-widgets/controls",
          "model_name": "DescriptionStyleModel",
          "model_module_version": "1.5.0",
          "state": {
            "_model_module": "@jupyter-widgets/controls",
            "_model_module_version": "1.5.0",
            "_model_name": "DescriptionStyleModel",
            "_view_count": null,
            "_view_module": "@jupyter-widgets/base",
            "_view_module_version": "1.2.0",
            "_view_name": "StyleView",
            "description_width": ""
          }
        },
        "5a296a32b2a8486cbf6dc937d1dad93b": {
          "model_module": "@jupyter-widgets/controls",
          "model_name": "HBoxModel",
          "model_module_version": "1.5.0",
          "state": {
            "_dom_classes": [],
            "_model_module": "@jupyter-widgets/controls",
            "_model_module_version": "1.5.0",
            "_model_name": "HBoxModel",
            "_view_count": null,
            "_view_module": "@jupyter-widgets/controls",
            "_view_module_version": "1.5.0",
            "_view_name": "HBoxView",
            "box_style": "",
            "children": [
              "IPY_MODEL_440f55ba0a7f48789386a67aa20cddf4",
              "IPY_MODEL_666d5bfdba6d4251830cb9591654d47d",
              "IPY_MODEL_ff471bb889974a0fa65ab5683caa3193"
            ],
            "layout": "IPY_MODEL_b55ffe14a7a5422889a3a3c20dbbbeae"
          }
        },
        "440f55ba0a7f48789386a67aa20cddf4": {
          "model_module": "@jupyter-widgets/controls",
          "model_name": "HTMLModel",
          "model_module_version": "1.5.0",
          "state": {
            "_dom_classes": [],
            "_model_module": "@jupyter-widgets/controls",
            "_model_module_version": "1.5.0",
            "_model_name": "HTMLModel",
            "_view_count": null,
            "_view_module": "@jupyter-widgets/controls",
            "_view_module_version": "1.5.0",
            "_view_name": "HTMLView",
            "description": "",
            "description_tooltip": null,
            "layout": "IPY_MODEL_17afa673a0e54bef84abe396d0f2042c",
            "placeholder": "​",
            "style": "IPY_MODEL_c3363b3870294294a097b6dde64e5bd7",
            "value": "100%"
          }
        },
        "666d5bfdba6d4251830cb9591654d47d": {
          "model_module": "@jupyter-widgets/controls",
          "model_name": "FloatProgressModel",
          "model_module_version": "1.5.0",
          "state": {
            "_dom_classes": [],
            "_model_module": "@jupyter-widgets/controls",
            "_model_module_version": "1.5.0",
            "_model_name": "FloatProgressModel",
            "_view_count": null,
            "_view_module": "@jupyter-widgets/controls",
            "_view_module_version": "1.5.0",
            "_view_name": "ProgressView",
            "bar_style": "success",
            "description": "",
            "description_tooltip": null,
            "layout": "IPY_MODEL_7b49616843974b8ba4db6ff062246910",
            "max": 3,
            "min": 0,
            "orientation": "horizontal",
            "style": "IPY_MODEL_245acf2583734c07b9b92903b9a9733e",
            "value": 3
          }
        },
        "ff471bb889974a0fa65ab5683caa3193": {
          "model_module": "@jupyter-widgets/controls",
          "model_name": "HTMLModel",
          "model_module_version": "1.5.0",
          "state": {
            "_dom_classes": [],
            "_model_module": "@jupyter-widgets/controls",
            "_model_module_version": "1.5.0",
            "_model_name": "HTMLModel",
            "_view_count": null,
            "_view_module": "@jupyter-widgets/controls",
            "_view_module_version": "1.5.0",
            "_view_name": "HTMLView",
            "description": "",
            "description_tooltip": null,
            "layout": "IPY_MODEL_c1dddb62501d455abda851e574535ccd",
            "placeholder": "​",
            "style": "IPY_MODEL_81ada5f44cf3413eb6799a2cf282cecf",
            "value": " 3/3 [00:42&lt;00:00, 14.25s/it]"
          }
        },
        "b55ffe14a7a5422889a3a3c20dbbbeae": {
          "model_module": "@jupyter-widgets/base",
          "model_name": "LayoutModel",
          "model_module_version": "1.2.0",
          "state": {
            "_model_module": "@jupyter-widgets/base",
            "_model_module_version": "1.2.0",
            "_model_name": "LayoutModel",
            "_view_count": null,
            "_view_module": "@jupyter-widgets/base",
            "_view_module_version": "1.2.0",
            "_view_name": "LayoutView",
            "align_content": null,
            "align_items": null,
            "align_self": null,
            "border": null,
            "bottom": null,
            "display": null,
            "flex": null,
            "flex_flow": null,
            "grid_area": null,
            "grid_auto_columns": null,
            "grid_auto_flow": null,
            "grid_auto_rows": null,
            "grid_column": null,
            "grid_gap": null,
            "grid_row": null,
            "grid_template_areas": null,
            "grid_template_columns": null,
            "grid_template_rows": null,
            "height": null,
            "justify_content": null,
            "justify_items": null,
            "left": null,
            "margin": null,
            "max_height": null,
            "max_width": null,
            "min_height": null,
            "min_width": null,
            "object_fit": null,
            "object_position": null,
            "order": null,
            "overflow": null,
            "overflow_x": null,
            "overflow_y": null,
            "padding": null,
            "right": null,
            "top": null,
            "visibility": null,
            "width": null
          }
        },
        "17afa673a0e54bef84abe396d0f2042c": {
          "model_module": "@jupyter-widgets/base",
          "model_name": "LayoutModel",
          "model_module_version": "1.2.0",
          "state": {
            "_model_module": "@jupyter-widgets/base",
            "_model_module_version": "1.2.0",
            "_model_name": "LayoutModel",
            "_view_count": null,
            "_view_module": "@jupyter-widgets/base",
            "_view_module_version": "1.2.0",
            "_view_name": "LayoutView",
            "align_content": null,
            "align_items": null,
            "align_self": null,
            "border": null,
            "bottom": null,
            "display": null,
            "flex": null,
            "flex_flow": null,
            "grid_area": null,
            "grid_auto_columns": null,
            "grid_auto_flow": null,
            "grid_auto_rows": null,
            "grid_column": null,
            "grid_gap": null,
            "grid_row": null,
            "grid_template_areas": null,
            "grid_template_columns": null,
            "grid_template_rows": null,
            "height": null,
            "justify_content": null,
            "justify_items": null,
            "left": null,
            "margin": null,
            "max_height": null,
            "max_width": null,
            "min_height": null,
            "min_width": null,
            "object_fit": null,
            "object_position": null,
            "order": null,
            "overflow": null,
            "overflow_x": null,
            "overflow_y": null,
            "padding": null,
            "right": null,
            "top": null,
            "visibility": null,
            "width": null
          }
        },
        "c3363b3870294294a097b6dde64e5bd7": {
          "model_module": "@jupyter-widgets/controls",
          "model_name": "DescriptionStyleModel",
          "model_module_version": "1.5.0",
          "state": {
            "_model_module": "@jupyter-widgets/controls",
            "_model_module_version": "1.5.0",
            "_model_name": "DescriptionStyleModel",
            "_view_count": null,
            "_view_module": "@jupyter-widgets/base",
            "_view_module_version": "1.2.0",
            "_view_name": "StyleView",
            "description_width": ""
          }
        },
        "7b49616843974b8ba4db6ff062246910": {
          "model_module": "@jupyter-widgets/base",
          "model_name": "LayoutModel",
          "model_module_version": "1.2.0",
          "state": {
            "_model_module": "@jupyter-widgets/base",
            "_model_module_version": "1.2.0",
            "_model_name": "LayoutModel",
            "_view_count": null,
            "_view_module": "@jupyter-widgets/base",
            "_view_module_version": "1.2.0",
            "_view_name": "LayoutView",
            "align_content": null,
            "align_items": null,
            "align_self": null,
            "border": null,
            "bottom": null,
            "display": null,
            "flex": null,
            "flex_flow": null,
            "grid_area": null,
            "grid_auto_columns": null,
            "grid_auto_flow": null,
            "grid_auto_rows": null,
            "grid_column": null,
            "grid_gap": null,
            "grid_row": null,
            "grid_template_areas": null,
            "grid_template_columns": null,
            "grid_template_rows": null,
            "height": null,
            "justify_content": null,
            "justify_items": null,
            "left": null,
            "margin": null,
            "max_height": null,
            "max_width": null,
            "min_height": null,
            "min_width": null,
            "object_fit": null,
            "object_position": null,
            "order": null,
            "overflow": null,
            "overflow_x": null,
            "overflow_y": null,
            "padding": null,
            "right": null,
            "top": null,
            "visibility": null,
            "width": null
          }
        },
        "245acf2583734c07b9b92903b9a9733e": {
          "model_module": "@jupyter-widgets/controls",
          "model_name": "ProgressStyleModel",
          "model_module_version": "1.5.0",
          "state": {
            "_model_module": "@jupyter-widgets/controls",
            "_model_module_version": "1.5.0",
            "_model_name": "ProgressStyleModel",
            "_view_count": null,
            "_view_module": "@jupyter-widgets/base",
            "_view_module_version": "1.2.0",
            "_view_name": "StyleView",
            "bar_color": null,
            "description_width": ""
          }
        },
        "c1dddb62501d455abda851e574535ccd": {
          "model_module": "@jupyter-widgets/base",
          "model_name": "LayoutModel",
          "model_module_version": "1.2.0",
          "state": {
            "_model_module": "@jupyter-widgets/base",
            "_model_module_version": "1.2.0",
            "_model_name": "LayoutModel",
            "_view_count": null,
            "_view_module": "@jupyter-widgets/base",
            "_view_module_version": "1.2.0",
            "_view_name": "LayoutView",
            "align_content": null,
            "align_items": null,
            "align_self": null,
            "border": null,
            "bottom": null,
            "display": null,
            "flex": null,
            "flex_flow": null,
            "grid_area": null,
            "grid_auto_columns": null,
            "grid_auto_flow": null,
            "grid_auto_rows": null,
            "grid_column": null,
            "grid_gap": null,
            "grid_row": null,
            "grid_template_areas": null,
            "grid_template_columns": null,
            "grid_template_rows": null,
            "height": null,
            "justify_content": null,
            "justify_items": null,
            "left": null,
            "margin": null,
            "max_height": null,
            "max_width": null,
            "min_height": null,
            "min_width": null,
            "object_fit": null,
            "object_position": null,
            "order": null,
            "overflow": null,
            "overflow_x": null,
            "overflow_y": null,
            "padding": null,
            "right": null,
            "top": null,
            "visibility": null,
            "width": null
          }
        },
        "81ada5f44cf3413eb6799a2cf282cecf": {
          "model_module": "@jupyter-widgets/controls",
          "model_name": "DescriptionStyleModel",
          "model_module_version": "1.5.0",
          "state": {
            "_model_module": "@jupyter-widgets/controls",
            "_model_module_version": "1.5.0",
            "_model_name": "DescriptionStyleModel",
            "_view_count": null,
            "_view_module": "@jupyter-widgets/base",
            "_view_module_version": "1.2.0",
            "_view_name": "StyleView",
            "description_width": ""
          }
        }
      }
    },
    "accelerator": "GPU"
  },
  "cells": [
    {
      "cell_type": "markdown",
      "metadata": {
        "id": "view-in-github",
        "colab_type": "text"
      },
      "source": [
        "<a href=\"https://colab.research.google.com/github/FrodoBaggins87/Machine_Learning/blob/main/Computer_Vision.ipynb\" target=\"_parent\"><img src=\"https://colab.research.google.com/assets/colab-badge.svg\" alt=\"Open In Colab\"/></a>"
      ]
    },
    {
      "cell_type": "markdown",
      "source": [
        "###All important libraries/modules that may be needed:\n",
        "1. torchvision\n",
        "2. torchvision.datasets: has a range of toy datasets for different purposes\n",
        "3. torchvision.models:\n",
        "4. torchvision.transforms\n",
        "5. torch.utils.data.Dataset\n",
        "6. torch.utils.data.Dataloader"
      ],
      "metadata": {
        "id": "pb9-qRn7kqTx"
      }
    },
    {
      "cell_type": "code",
      "source": [
        "!pip install torchmetrics\n"
      ],
      "metadata": {
        "colab": {
          "base_uri": "https://localhost:8080/"
        },
        "id": "11JnWVv2jsnJ",
        "outputId": "19438233-82da-40bd-dcaa-60029c2760e0"
      },
      "execution_count": 2,
      "outputs": [
        {
          "output_type": "stream",
          "name": "stdout",
          "text": [
            "Collecting torchmetrics\n",
            "  Downloading torchmetrics-1.3.0.post0-py3-none-any.whl (840 kB)\n",
            "\u001b[?25l     \u001b[90m━━━━━━━━━━━━━━━━━━━━━━━━━━━━━━━━━━━━━━━━\u001b[0m \u001b[32m0.0/840.2 kB\u001b[0m \u001b[31m?\u001b[0m eta \u001b[36m-:--:--\u001b[0m\r\u001b[2K     \u001b[91m━━━━━━━━━━━━\u001b[0m\u001b[90m╺\u001b[0m\u001b[90m━━━━━━━━━━━━━━━━━━━━━━━━━━━\u001b[0m \u001b[32m256.0/840.2 kB\u001b[0m \u001b[31m7.5 MB/s\u001b[0m eta \u001b[36m0:00:01\u001b[0m\r\u001b[2K     \u001b[91m━━━━━━━━━━━━━━━━━━━━━━━━━━━━━━━━━━━━\u001b[0m\u001b[90m╺\u001b[0m\u001b[90m━━━\u001b[0m \u001b[32m757.8/840.2 kB\u001b[0m \u001b[31m11.0 MB/s\u001b[0m eta \u001b[36m0:00:01\u001b[0m\r\u001b[2K     \u001b[90m━━━━━━━━━━━━━━━━━━━━━━━━━━━━━━━━━━━━━━━━\u001b[0m \u001b[32m840.2/840.2 kB\u001b[0m \u001b[31m9.9 MB/s\u001b[0m eta \u001b[36m0:00:00\u001b[0m\n",
            "\u001b[?25hRequirement already satisfied: numpy>1.20.0 in /usr/local/lib/python3.10/dist-packages (from torchmetrics) (1.23.5)\n",
            "Requirement already satisfied: packaging>17.1 in /usr/local/lib/python3.10/dist-packages (from torchmetrics) (23.2)\n",
            "Requirement already satisfied: torch>=1.10.0 in /usr/local/lib/python3.10/dist-packages (from torchmetrics) (2.1.0+cu121)\n",
            "Collecting lightning-utilities>=0.8.0 (from torchmetrics)\n",
            "  Downloading lightning_utilities-0.10.1-py3-none-any.whl (24 kB)\n",
            "Requirement already satisfied: setuptools in /usr/local/lib/python3.10/dist-packages (from lightning-utilities>=0.8.0->torchmetrics) (67.7.2)\n",
            "Requirement already satisfied: typing-extensions in /usr/local/lib/python3.10/dist-packages (from lightning-utilities>=0.8.0->torchmetrics) (4.9.0)\n",
            "Requirement already satisfied: filelock in /usr/local/lib/python3.10/dist-packages (from torch>=1.10.0->torchmetrics) (3.13.1)\n",
            "Requirement already satisfied: sympy in /usr/local/lib/python3.10/dist-packages (from torch>=1.10.0->torchmetrics) (1.12)\n",
            "Requirement already satisfied: networkx in /usr/local/lib/python3.10/dist-packages (from torch>=1.10.0->torchmetrics) (3.2.1)\n",
            "Requirement already satisfied: jinja2 in /usr/local/lib/python3.10/dist-packages (from torch>=1.10.0->torchmetrics) (3.1.3)\n",
            "Requirement already satisfied: fsspec in /usr/local/lib/python3.10/dist-packages (from torch>=1.10.0->torchmetrics) (2023.6.0)\n",
            "Requirement already satisfied: triton==2.1.0 in /usr/local/lib/python3.10/dist-packages (from torch>=1.10.0->torchmetrics) (2.1.0)\n",
            "Requirement already satisfied: MarkupSafe>=2.0 in /usr/local/lib/python3.10/dist-packages (from jinja2->torch>=1.10.0->torchmetrics) (2.1.5)\n",
            "Requirement already satisfied: mpmath>=0.19 in /usr/local/lib/python3.10/dist-packages (from sympy->torch>=1.10.0->torchmetrics) (1.3.0)\n",
            "Installing collected packages: lightning-utilities, torchmetrics\n",
            "Successfully installed lightning-utilities-0.10.1 torchmetrics-1.3.0.post0\n"
          ]
        }
      ]
    },
    {
      "cell_type": "code",
      "execution_count": 33,
      "metadata": {
        "colab": {
          "base_uri": "https://localhost:8080/"
        },
        "id": "G63ze2LBbP0i",
        "outputId": "55420289-89b8-409f-c821-653fe9dd2f0c"
      },
      "outputs": [
        {
          "output_type": "stream",
          "name": "stdout",
          "text": [
            "PyTorch version: 2.1.0+cu121 Torchvision version: 0.16.0+cu121\n"
          ]
        }
      ],
      "source": [
        "#getting libraries\n",
        "import torch\n",
        "from torch import nn\n",
        "\n",
        "#import torchvision\n",
        "import torchvision\n",
        "from torchvision import datasets\n",
        "from torchvision.transforms import ToTensor\n",
        "\n",
        "#import matplotlib\n",
        "import matplotlib.pyplot as plt\n",
        "\n",
        "#import accuracy fuction\n",
        "from torchmetrics.classification import MulticlassAccuracy\n",
        "\n",
        "#chacking versions\n",
        "print(\"PyTorch version:\", torch.__version__, \"Torchvision version:\", torchvision.__version__)"
      ]
    },
    {
      "cell_type": "markdown",
      "source": [
        "####Getting Training and Testing Data from Torchvision.datasets"
      ],
      "metadata": {
        "id": "QtgGGQEfoLps"
      }
    },
    {
      "cell_type": "code",
      "source": [
        "train_data=datasets.FashionMNIST(root=\"Fashion_Data\",#telling where to store the data\n",
        "                          train=True,#specifying if its training data or testing data\n",
        "                          download=True,#to download or not in case data not already present\n",
        "                          transform=ToTensor(),#which function to use to tranform PIL image into tensor\n",
        "                          target_transform=None#can transform labels using this#not necessary to use here as we are just assigning None value to it(labels dont need transformation)\n",
        "                          )\n",
        "test_data=datasets.FashionMNIST(root=\"Fashion_Data\",#telling where to store the data\n",
        "                          train=False,#specifying if its training data or testing data\n",
        "                          download=True,#to download or not in case data not already present\n",
        "                          transform=ToTensor(),#which function to use to tranform PIL image into tensor\n",
        "                          target_transform=None#can transform labels using this\n",
        "                          )"
      ],
      "metadata": {
        "id": "D8UZTbS6oKzE",
        "colab": {
          "base_uri": "https://localhost:8080/"
        },
        "outputId": "6edae4f7-605f-4144-e4aa-922a6d56f899"
      },
      "execution_count": 4,
      "outputs": [
        {
          "output_type": "stream",
          "name": "stdout",
          "text": [
            "Downloading http://fashion-mnist.s3-website.eu-central-1.amazonaws.com/train-images-idx3-ubyte.gz\n",
            "Downloading http://fashion-mnist.s3-website.eu-central-1.amazonaws.com/train-images-idx3-ubyte.gz to Fashion_Data/FashionMNIST/raw/train-images-idx3-ubyte.gz\n"
          ]
        },
        {
          "output_type": "stream",
          "name": "stderr",
          "text": [
            "100%|██████████| 26421880/26421880 [00:02<00:00, 10556464.70it/s]\n"
          ]
        },
        {
          "output_type": "stream",
          "name": "stdout",
          "text": [
            "Extracting Fashion_Data/FashionMNIST/raw/train-images-idx3-ubyte.gz to Fashion_Data/FashionMNIST/raw\n",
            "\n",
            "Downloading http://fashion-mnist.s3-website.eu-central-1.amazonaws.com/train-labels-idx1-ubyte.gz\n",
            "Downloading http://fashion-mnist.s3-website.eu-central-1.amazonaws.com/train-labels-idx1-ubyte.gz to Fashion_Data/FashionMNIST/raw/train-labels-idx1-ubyte.gz\n"
          ]
        },
        {
          "output_type": "stream",
          "name": "stderr",
          "text": [
            "100%|██████████| 29515/29515 [00:00<00:00, 199653.71it/s]\n"
          ]
        },
        {
          "output_type": "stream",
          "name": "stdout",
          "text": [
            "Extracting Fashion_Data/FashionMNIST/raw/train-labels-idx1-ubyte.gz to Fashion_Data/FashionMNIST/raw\n",
            "\n",
            "Downloading http://fashion-mnist.s3-website.eu-central-1.amazonaws.com/t10k-images-idx3-ubyte.gz\n",
            "Downloading http://fashion-mnist.s3-website.eu-central-1.amazonaws.com/t10k-images-idx3-ubyte.gz to Fashion_Data/FashionMNIST/raw/t10k-images-idx3-ubyte.gz\n"
          ]
        },
        {
          "output_type": "stream",
          "name": "stderr",
          "text": [
            "100%|██████████| 4422102/4422102 [00:01<00:00, 3723321.44it/s]\n"
          ]
        },
        {
          "output_type": "stream",
          "name": "stdout",
          "text": [
            "Extracting Fashion_Data/FashionMNIST/raw/t10k-images-idx3-ubyte.gz to Fashion_Data/FashionMNIST/raw\n",
            "\n",
            "Downloading http://fashion-mnist.s3-website.eu-central-1.amazonaws.com/t10k-labels-idx1-ubyte.gz\n",
            "Downloading http://fashion-mnist.s3-website.eu-central-1.amazonaws.com/t10k-labels-idx1-ubyte.gz to Fashion_Data/FashionMNIST/raw/t10k-labels-idx1-ubyte.gz\n"
          ]
        },
        {
          "output_type": "stream",
          "name": "stderr",
          "text": [
            "100%|██████████| 5148/5148 [00:00<00:00, 995815.94it/s]"
          ]
        },
        {
          "output_type": "stream",
          "name": "stdout",
          "text": [
            "Extracting Fashion_Data/FashionMNIST/raw/t10k-labels-idx1-ubyte.gz to Fashion_Data/FashionMNIST/raw\n",
            "\n"
          ]
        },
        {
          "output_type": "stream",
          "name": "stderr",
          "text": [
            "\n"
          ]
        }
      ]
    },
    {
      "cell_type": "code",
      "source": [
        "data, label= train_data[12]\n",
        "data.shape, label #output tells shape of data and the label which is an integer\n",
        "#first index of shape gives number of colour channels, if its 3 then image is in RGB"
      ],
      "metadata": {
        "colab": {
          "base_uri": "https://localhost:8080/"
        },
        "id": "p1PuRGJxtOtK",
        "outputId": "b8c51d9e-42d9-4ae7-c884-bbaec40eccbb"
      },
      "execution_count": 5,
      "outputs": [
        {
          "output_type": "execute_result",
          "data": {
            "text/plain": [
              "(torch.Size([1, 28, 28]), 5)"
            ]
          },
          "metadata": {},
          "execution_count": 5
        }
      ]
    },
    {
      "cell_type": "markdown",
      "source": [
        "Checking Length of Train and Test dataset"
      ],
      "metadata": {
        "id": "EhVqQVw_upnO"
      }
    },
    {
      "cell_type": "code",
      "source": [
        "train_data.__len__(),test_data.__len__() #find dataset specific methods from source code"
      ],
      "metadata": {
        "colab": {
          "base_uri": "https://localhost:8080/"
        },
        "id": "d7YcSsxGvl1s",
        "outputId": "3e21e5fc-67ce-4c76-a246-0f7a4e15b38e"
      },
      "execution_count": 6,
      "outputs": [
        {
          "output_type": "execute_result",
          "data": {
            "text/plain": [
              "(60000, 10000)"
            ]
          },
          "metadata": {},
          "execution_count": 6
        }
      ]
    },
    {
      "cell_type": "code",
      "source": [
        "class_names=train_data.classes #returns a list of names of classes"
      ],
      "metadata": {
        "id": "DCjzwjWG5R5F"
      },
      "execution_count": 7,
      "outputs": []
    },
    {
      "cell_type": "markdown",
      "source": [
        "Printing the data in dataset labels"
      ],
      "metadata": {
        "id": "7YKJlsPn0Pwg"
      }
    },
    {
      "cell_type": "code",
      "source": [
        "labels=[]\n",
        "for i in range(train_data.__len__()):\n",
        "  data,label=train_data[i]\n",
        "  labels.append(label)\n",
        "set(labels)"
      ],
      "metadata": {
        "colab": {
          "base_uri": "https://localhost:8080/"
        },
        "id": "Lt1ri0WcxlTN",
        "outputId": "25ecac51-6f7e-4ce0-948c-83ee359933db"
      },
      "execution_count": 8,
      "outputs": [
        {
          "output_type": "execute_result",
          "data": {
            "text/plain": [
              "{0, 1, 2, 3, 4, 5, 6, 7, 8, 9}"
            ]
          },
          "metadata": {},
          "execution_count": 8
        }
      ]
    },
    {
      "cell_type": "markdown",
      "source": [
        "Visualizing Data"
      ],
      "metadata": {
        "id": "kkduyJdC0kGx"
      }
    },
    {
      "cell_type": "code",
      "source": [
        "import matplotlib.pyplot as plt\n",
        "image,label=train_data[5555]\n",
        "print(f\"Image Shape:{data.shape}\")\n",
        "image=image.view(image.shape[1],image.shape[2], image.shape[0])#putting colour map in  the last index so imshow doesnt show any error\n",
        "plt.imshow(image, cmap='gray')\n",
        "plt.title(class_names[label])"
      ],
      "metadata": {
        "colab": {
          "base_uri": "https://localhost:8080/",
          "height": 487
        },
        "id": "VWajOa020mWn",
        "outputId": "4fdaf567-2bea-4b3e-fd4a-3da6a6255b8b"
      },
      "execution_count": 9,
      "outputs": [
        {
          "output_type": "stream",
          "name": "stdout",
          "text": [
            "Image Shape:torch.Size([1, 28, 28])\n"
          ]
        },
        {
          "output_type": "execute_result",
          "data": {
            "text/plain": [
              "Text(0.5, 1.0, 'Bag')"
            ]
          },
          "metadata": {},
          "execution_count": 9
        },
        {
          "output_type": "display_data",
          "data": {
            "text/plain": [
              "<Figure size 640x480 with 1 Axes>"
            ],
            "image/png": "[encoded data removed]"
          },
          "metadata": {}
        }
      ]
    },
    {
      "cell_type": "markdown",
      "source": [
        "Making Batches\n"
      ],
      "metadata": {
        "id": "PH8Gc3elNgMz"
      }
    },
    {
      "cell_type": "code",
      "source": [
        "from torch.utils.data import DataLoader\n",
        "#for large datasets its computationally faster to work in batches rather than working with individual datasets\n",
        "#setting batch size hyperparameter\n",
        "BATCH_SIZE= 32\n",
        "\n",
        "train_dataloader=DataLoader(train_data,#target dataset\n",
        "                            batch_size=BATCH_SIZE,#batch size\n",
        "                            shuffle=True)#whether to shuffle the datapoints or not so that neural network does not get trained on some unobvious pattern present in ordering of data points\n",
        "test_dataloader=DataLoader(test_data,\n",
        "                           batch_size=BATCH_SIZE,\n",
        "                           shuffle=False)#can make it shuffle but its not necessary and will add another calculation step in every epoch\n",
        "print(train_dataloader, test_dataloader)\n",
        "print(len(train_dataloader), len(test_dataloader))\n"
      ],
      "metadata": {
        "colab": {
          "base_uri": "https://localhost:8080/"
        },
        "id": "_JiinuZPNxPy",
        "outputId": "abee1bef-c98c-465d-f7f2-f75428f96499"
      },
      "execution_count": 10,
      "outputs": [
        {
          "output_type": "stream",
          "name": "stdout",
          "text": [
            "<torch.utils.data.dataloader.DataLoader object at 0x79bf2383f640> <torch.utils.data.dataloader.DataLoader object at 0x79bf2383e3e0>\n",
            "1875 313\n"
          ]
        }
      ]
    },
    {
      "cell_type": "code",
      "source": [
        "#checking data inside data loader\n",
        "train_features_batch, train_labels_batch= next(iter(train_dataloader))\n",
        "train_features_batch.shape, train_labels_batch.shape"
      ],
      "metadata": {
        "colab": {
          "base_uri": "https://localhost:8080/"
        },
        "id": "ACM7NkBiSql9",
        "outputId": "80301bc8-c55e-4511-82ae-ca672e3b9a08"
      },
      "execution_count": 11,
      "outputs": [
        {
          "output_type": "execute_result",
          "data": {
            "text/plain": [
              "(torch.Size([32, 1, 28, 28]), torch.Size([32]))"
            ]
          },
          "metadata": {},
          "execution_count": 11
        }
      ]
    },
    {
      "cell_type": "markdown",
      "source": [
        "###Build a baseline model\n",
        "A baseline model is the simplest model which you start with before progressing to more complicated ones."
      ],
      "metadata": {
        "id": "hDDNttMY0Ad7"
      }
    },
    {
      "cell_type": "markdown",
      "source": [
        "Here, model has one difference from previous models. A nn.Flatten layer is used to convert the data in 2 dimensions (of the image ) to one feature vector.\n",
        "The data in format[C,H,W] gets converted to [C,H*W].\n",
        "This is done because nn.Linear layer works better with vectors"
      ],
      "metadata": {
        "id": "j5-fThXi0vXO"
      }
    },
    {
      "cell_type": "code",
      "source": [
        "#to see how flatten layer works, create a flatten layer\n",
        "flatten_layer=nn.Flatten()\n",
        "x=train_features_batch[0]\n",
        "output=flatten_layer(x)\n",
        "x.shape, output.shape"
      ],
      "metadata": {
        "colab": {
          "base_uri": "https://localhost:8080/"
        },
        "id": "TIulpgni1odb",
        "outputId": "0009be98-7762-49a5-abd9-8d691af0208c"
      },
      "execution_count": 12,
      "outputs": [
        {
          "output_type": "execute_result",
          "data": {
            "text/plain": [
              "(torch.Size([1, 28, 28]), torch.Size([1, 784]))"
            ]
          },
          "metadata": {},
          "execution_count": 12
        }
      ]
    },
    {
      "cell_type": "code",
      "source": [
        "#building the baseline model\n",
        "from torch import nn\n",
        "class Fashion_Model_0(nn.Module):\n",
        "  def __init__(self, input_shape: int, hidden_units:int, output_shape: int):\n",
        "    super().__init__()\n",
        "    self.layers=nn.Sequential(nn.Flatten(),\n",
        "                              nn.Linear(in_features=input_shape, out_features= hidden_units),\n",
        "                              nn.Linear(in_features=hidden_units, out_features= output_shape))\n",
        "  def forward(self,x):\n",
        "    return self.layers(x)"
      ],
      "metadata": {
        "id": "wS-BBFu92xKK"
      },
      "execution_count": 49,
      "outputs": []
    },
    {
      "cell_type": "markdown",
      "source": [
        "Making first instance of the model"
      ],
      "metadata": {
        "id": "7o6JAoS78PD2"
      }
    },
    {
      "cell_type": "code",
      "source": [
        "model_0=Fashion_Model_0(input_shape=784,#as images here are 28x28=784, its hardcoded in this model\n",
        "                        hidden_units=50,\n",
        "                        output_shape=len(class_names))#output units will give one logit for wach member of class names\n",
        "model_0.to('cpu')#keep model in cpu to begin with"
      ],
      "metadata": {
        "colab": {
          "base_uri": "https://localhost:8080/"
        },
        "id": "UUtwi-C88MQG",
        "outputId": "a9218309-5202-4350-f344-3f69c1f85252"
      },
      "execution_count": 50,
      "outputs": [
        {
          "output_type": "execute_result",
          "data": {
            "text/plain": [
              "Fashion_Model_0(\n",
              "  (layers): Sequential(\n",
              "    (0): Flatten(start_dim=1, end_dim=-1)\n",
              "    (1): Linear(in_features=784, out_features=50, bias=True)\n",
              "    (2): Linear(in_features=50, out_features=10, bias=True)\n",
              "  )\n",
              ")"
            ]
          },
          "metadata": {},
          "execution_count": 50
        }
      ]
    },
    {
      "cell_type": "markdown",
      "source": [
        "Defining Accuracy, Loss function and Optimizer"
      ],
      "metadata": {
        "id": "PipRiFiG-s76"
      }
    },
    {
      "cell_type": "code",
      "source": [
        "accuracy=MulticlassAccuracy(num_classes=len(class_names)).to('cpu')\n",
        "loss_fn=nn.CrossEntropyLoss()#same as multiclass classification loss function\n",
        "optimizer=torch.optim.SGD(params=model_0.parameters(), lr=0.1)#SGD optimizer"
      ],
      "metadata": {
        "id": "AKvrh6Nu-zTA"
      },
      "execution_count": 52,
      "outputs": []
    },
    {
      "cell_type": "markdown",
      "source": [
        "Defining function to measure time taken for training model"
      ],
      "metadata": {
        "id": "1vTycCl8lH_N"
      }
    },
    {
      "cell_type": "code",
      "source": [
        "from timeit import default_timer as timer\n",
        "def print_train_time(start:float, end: float, device: torch.device=None):\n",
        "\n",
        "  \"\"\"Prints difference between start and end time.\n",
        "\n",
        "    Args:\n",
        "        start (float): Start time of computation (preferred in timeit format).\n",
        "        end (float): End time of computation.\n",
        "        device ([type], optional): Device that compute is running on. Defaults to None.\n",
        "\n",
        "    Returns:\n",
        "        float: time between start and end in seconds (higher is longer).\n",
        "    \"\"\"\n",
        "  total_time = end - start\n",
        "  print(f\"Train time on {device}: {total_time:.3f} seconds\")\n",
        "  return total_time"
      ],
      "metadata": {
        "id": "31RUq-LIlMie"
      },
      "execution_count": 16,
      "outputs": []
    },
    {
      "cell_type": "markdown",
      "source": [
        "Making training and testing loop"
      ],
      "metadata": {
        "id": "I_Kiq3xDqRMz"
      }
    },
    {
      "cell_type": "code",
      "source": [
        "!pip install tqdm # for showing progress meter"
      ],
      "metadata": {
        "id": "HNvz7SXdqUSr",
        "colab": {
          "base_uri": "https://localhost:8080/"
        },
        "outputId": "21809a08-9858-4d0a-a774-5a07ef2f6f3d"
      },
      "execution_count": 17,
      "outputs": [
        {
          "output_type": "stream",
          "name": "stdout",
          "text": [
            "Requirement already satisfied: tqdm in /usr/local/lib/python3.10/dist-packages (4.66.1)\n"
          ]
        }
      ]
    },
    {
      "cell_type": "code",
      "source": [
        "from tqdm.auto import tqdm\n",
        "epochs=3#keep small at first for smaller loop time\n",
        "#set random seed\n",
        "torch.manual_seed(56)\n",
        "#start the timer\n",
        "train_start_cpu=timer()\n",
        "\n",
        "for epoch in tqdm(range(epochs)):\n",
        "  print(\"Epoch:\", epoch)\n",
        "  ##Training\n",
        "  train_loss=0\n",
        "  train_acc=0\n",
        "  model_0.train() #put in training mode\n",
        "  #loop through training batches\n",
        "  for batch,(x,y) in enumerate(train_dataloader):\n",
        "    #1. Forward Pass\n",
        "    y_pred=model_0(x)\n",
        "\n",
        "    #2. Calculate Loss and Accuracy\n",
        "    loss= loss_fn(y_pred, y)\n",
        "    train_loss+=loss#add up the loss of each sample in the batch to get loss of whole batch\n",
        "    acc=accuracy(y, y_pred.argmax(dim=1))\n",
        "    train_acc+=acc\n",
        "    #3. optimizer zero grad\n",
        "    optimizer.zero_grad()\n",
        "\n",
        "    #4. Loss Backward\n",
        "    loss.backward()\n",
        "\n",
        "    #5. Optimizer Step\n",
        "    optimizer.step()\n",
        "\n",
        "    if batch%200==0:\n",
        "      amount=(batch * len(x))/len(train_dataloader.dataset)\n",
        "      print(\"Looked at\", amount, \"samples\")\n",
        "  train_loss/=len(train_dataloader)\n",
        "  train_acc/=len(test_dataloader)#FOR SOME REASON TRAINING ACCURACY COMING AS HIGHER THAN 100%, SO ITS PROBABLY NOT A RELIABLE METRIC IN THIS CASE\n",
        "  #Testing\n",
        "  test_loss,test_acc=0,0\n",
        "  model_0.eval()\n",
        "  with torch.inference_mode():\n",
        "    for x,y in test_dataloader:\n",
        "      #forward pass\n",
        "      test_pred= model_0(x)\n",
        "\n",
        "      #calculate accumulative loss\n",
        "      test_loss+=loss_fn(test_pred,y)\n",
        "\n",
        "      #calculate accumulative accuracy\n",
        "      test_acc+=accuracy(y, test_pred.argmax(dim=1))\n",
        "    #NOTE: Calculations of test metrics should be done in inference mode\n",
        "    #calculating average loss and accuracy\n",
        "    test_loss/=len(test_dataloader)\n",
        "    test_acc/= len(test_dataloader)\n",
        "  #print out whats happening\n",
        "  print(\"Training Loss:\", train_loss.item(), \"Training Accuracy:\", (train_acc.item())*100,\"%\", \"Test Loss:\", test_loss.item(), \"Test Accuracy:\", (test_acc.item()*100),\"%\")\n",
        "\n",
        "#calculate training\n",
        "train_end_cpu=timer()\n",
        "total_train_time_model_0=print_train_time(start=train_start_cpu,\n",
        "                                           end=train_end_cpu,\n",
        "                                           device=str(next(model_0.parameters()).device))"
      ],
      "metadata": {
        "id": "UtdbaNGZqZeC",
        "colab": {
          "base_uri": "https://localhost:8080/",
          "height": 711,
          "referenced_widgets": [
            "5d75d2f559174aeb813b28764ceddca1",
            "31371617675a4350a409eef9d0ad0955",
            "17968e35d66941b08443261693b3b3a6",
            "c250389ee4fe45e1a2f7c9d57ea4c4b4",
            "51d47a6dcbe3433c86e8dc61aa05cf7c",
            "a058445c35634e70b1ca3c3e8b1693a3",
            "9f2701ebf51f404b8938c8bbc564d714",
            "c6ee398859554855864a60502ea3cd48",
            "8c9133797b6446a69ece991258d732bc",
            "a63e8e7a42124e54ae7c991d2023da60",
            "687b2e139cc44d78bd4cbb86a4a2cdca"
          ]
        },
        "outputId": "c0e30100-74f5-47ed-e836-ae7eac8aedbb"
      },
      "execution_count": 53,
      "outputs": [
        {
          "output_type": "display_data",
          "data": {
            "text/plain": [
              "  0%|          | 0/3 [00:00<?, ?it/s]"
            ],
            "application/vnd.jupyter.widget-view+json": {
              "version_major": 2,
              "version_minor": 0,
              "model_id": "5d75d2f559174aeb813b28764ceddca1"
            }
          },
          "metadata": {}
        },
        {
          "output_type": "stream",
          "name": "stdout",
          "text": [
            "Epoch: 0\n",
            "Looked at 0.0 samples\n",
            "Looked at 0.10666666666666667 samples\n",
            "Looked at 0.21333333333333335 samples\n",
            "Looked at 0.32 samples\n",
            "Looked at 0.4266666666666667 samples\n",
            "Looked at 0.5333333333333333 samples\n",
            "Looked at 0.64 samples\n",
            "Looked at 0.7466666666666667 samples\n",
            "Looked at 0.8533333333333334 samples\n",
            "Looked at 0.96 samples\n",
            "Training Loss: 0.5785911083221436 Training Accuracy: 467.54894256591797 % Test Loss: 0.5050950050354004 Test Accuracy: 80.80891966819763 %\n",
            "Epoch: 1\n",
            "Looked at 0.0 samples\n",
            "Looked at 0.10666666666666667 samples\n",
            "Looked at 0.21333333333333335 samples\n",
            "Looked at 0.32 samples\n",
            "Looked at 0.4266666666666667 samples\n",
            "Looked at 0.5333333333333333 samples\n",
            "Looked at 0.64 samples\n",
            "Looked at 0.7466666666666667 samples\n",
            "Looked at 0.8533333333333334 samples\n",
            "Looked at 0.96 samples\n",
            "Training Loss: 0.4713234603404999 Training Accuracy: 492.026424407959 % Test Loss: 0.49529045820236206 Test Accuracy: 81.3464343547821 %\n",
            "Epoch: 2\n",
            "Looked at 0.0 samples\n",
            "Looked at 0.10666666666666667 samples\n",
            "Looked at 0.21333333333333335 samples\n",
            "Looked at 0.32 samples\n",
            "Looked at 0.4266666666666667 samples\n",
            "Looked at 0.5333333333333333 samples\n",
            "Looked at 0.64 samples\n",
            "Looked at 0.7466666666666667 samples\n",
            "Looked at 0.8533333333333334 samples\n",
            "Looked at 0.96 samples\n",
            "Training Loss: 0.45402634143829346 Training Accuracy: 496.0601806640625 % Test Loss: 0.46573352813720703 Test Accuracy: 82.30978846549988 %\n",
            "Train time on cpu: 31.926 seconds\n"
          ]
        }
      ]
    },
    {
      "cell_type": "markdown",
      "source": [
        "Functionalizing training, testing and evaluation of the model"
      ],
      "metadata": {
        "id": "z7wnd937pBpu"
      }
    },
    {
      "cell_type": "code",
      "source": [
        "#following function returns the name, loss and accuracy of model provided in input\n",
        "def evaluate_model(model:torch.nn.Module,\n",
        "                   data_loader: torch.utils.data.DataLoader,\n",
        "                   loss_fn:torch.nn.Module,\n",
        "                   accuracy_fn,\n",
        "                   device:torch.device):#will write device agnostic code below\n",
        "  loss,acc=0,0\n",
        "  model.to(device)\n",
        "  model.eval()\n",
        "  with torch.inference_mode():\n",
        "    for x,y in data_loader:\n",
        "      #send data to selected device\n",
        "      x,y=x.to(device), y.to(device)\n",
        "      #making preductions\n",
        "      y_pred=model(x)\n",
        "      #accumulating loss and accuracy\n",
        "      loss+=loss_fn(y_pred,y)\n",
        "      acc+=accuracy_fn(y,y_pred.argmax(dim=1))\n",
        "    #calculate average loss and accuracy per batch\n",
        "    loss/=len(data_loader)\n",
        "    acc/=len(data_loader)\n",
        "\n",
        "    return {\"model name\": model.__class__.__name__,\n",
        "            \"model loss\": loss.item(),\n",
        "            \"model accuracy\": acc.item()*100}"
      ],
      "metadata": {
        "id": "qcXB8D4QpYYX"
      },
      "execution_count": 78,
      "outputs": []
    },
    {
      "cell_type": "code",
      "source": [
        "device=\"cuda\" if torch.cuda.is_available() else \"cpu\"\n",
        "device"
      ],
      "metadata": {
        "id": "0QgG9wDXBGlQ",
        "colab": {
          "base_uri": "https://localhost:8080/",
          "height": 35
        },
        "outputId": "ddbbce10-33b0-4e7c-e00a-bf295dec2126"
      },
      "execution_count": 19,
      "outputs": [
        {
          "output_type": "execute_result",
          "data": {
            "text/plain": [
              "'cuda'"
            ],
            "application/vnd.google.colaboratory.intrinsic+json": {
              "type": "string"
            }
          },
          "metadata": {},
          "execution_count": 19
        }
      ]
    },
    {
      "cell_type": "code",
      "source": [
        "#testing on model_0\n",
        "model_0_results=evaluate_model(model=model_0,data_loader=test_dataloader, loss_fn=loss_fn, accuracy_fn=accuracy,device=device)\n",
        "model_0_results"
      ],
      "metadata": {
        "colab": {
          "base_uri": "https://localhost:8080/"
        },
        "id": "-oDMAycJrT7p",
        "outputId": "c7659da1-4030-47c5-8066-cc49ecc1699c"
      },
      "execution_count": 79,
      "outputs": [
        {
          "output_type": "execute_result",
          "data": {
            "text/plain": [
              "{'model name': 'Fashion_Model_0',\n",
              " 'model loss': 0.46573352813720703,\n",
              " 'model accuracy': 82.30978846549988}"
            ]
          },
          "metadata": {},
          "execution_count": 79
        }
      ]
    },
    {
      "cell_type": "code",
      "source": [
        "def training_step(model:torch.nn.Module,\n",
        "                  data_loader:torch.utils.data.DataLoader,\n",
        "                  loss_fn:torch.nn.Module,\n",
        "                  optimizer:torch.optim.Optimizer,\n",
        "                  accuracy_fn, device:torch.device):\n",
        "  train_loss,train_acc=0,0\n",
        "  model.to(device)\n",
        "  model.train()#put in training mode\n",
        "  for batch, (x,y) in enumerate(data_loader):\n",
        "    #send data to selected device\n",
        "    x,y=x.to(device), y.to(device)\n",
        "\n",
        "    #Forward Pass\n",
        "    y_pred=model(x)\n",
        "\n",
        "    #calculate loss\n",
        "    loss=loss_fn(y_pred,y)\n",
        "    train_loss+=loss\n",
        "    train_acc+=accuracy_fn(y_pred.argmax(dim=1),y)#going from logits to predicte dlabels to calculate accuracy\n",
        "\n",
        "    #optimizer zero grad\n",
        "    optimizer.zero_grad()\n",
        "\n",
        "    #Loss Backward\n",
        "    loss.backward()\n",
        "\n",
        "    #optimizer step\n",
        "    optimizer.step()\n",
        "\n",
        "  #calculate loss and accuracy per epoch\n",
        "  train_loss/=len(data_loader)\n",
        "  train_acc/= len(data_loader)\n",
        "\n",
        "  print(\"Train Loss:\", train_loss.item(), \"Train Accuracy:\", train_acc.item())"
      ],
      "metadata": {
        "id": "9lq_IRf4u6px"
      },
      "execution_count": 20,
      "outputs": []
    },
    {
      "cell_type": "code",
      "source": [
        "def testing_step(model:torch.nn.Module,\n",
        "                  data_loader:torch.utils.data.DataLoader,\n",
        "                  loss_fn:torch.nn.Module,\n",
        "                 accuracy_fn, device:torch.device):\n",
        "  test_loss,test_acc=0,0\n",
        "  model.to(device)\n",
        "  model.eval()#put in evaluation mode\n",
        "  with torch.inference_mode():\n",
        "    for batch, (x,y) in enumerate(data_loader):\n",
        "      #send data to selected device\n",
        "      x,y=x.to(device), y.to(device)\n",
        "\n",
        "      #Forward Pass\n",
        "      test_pred=model(x)\n",
        "\n",
        "      #calculate loss\n",
        "      loss=loss_fn(test_pred,y)\n",
        "      test_loss+=loss\n",
        "      test_acc+=accuracy_fn(test_pred.argmax(dim=1),y)#going from logits to predicte dlabels to calculate accuracy\n",
        "    #calculating average loss and accuracy for whole epoch\n",
        "    test_loss/=len(data_loader)\n",
        "    test_acc/= len(data_loader)\n",
        "  print(\"Test Loss:\", test_loss.item(), \"Test Accuracy:\", test_acc.item())"
      ],
      "metadata": {
        "id": "Eoq-g2Vx9irW"
      },
      "execution_count": 21,
      "outputs": []
    },
    {
      "cell_type": "markdown",
      "source": [
        "Setting up device agnostic code"
      ],
      "metadata": {
        "id": "8xDOKz1wA_4n"
      }
    },
    {
      "cell_type": "markdown",
      "source": [
        "Building a better model"
      ],
      "metadata": {
        "id": "fGNYJI2C54Ar"
      }
    },
    {
      "cell_type": "code",
      "source": [
        "class Fashion_Model_1(nn.Module):\n",
        "  def __init__(self, input_shape: int, hidden_units:int, output_shape: int):\n",
        "    super().__init__()\n",
        "    self.layers=nn.Sequential(nn.Flatten(),\n",
        "                              nn.Linear(in_features=input_shape, out_features= hidden_units),\n",
        "                              nn.ReLU(),\n",
        "                              nn.Linear(in_features=hidden_units, out_features= output_shape),\n",
        "                              nn.ReLU())\n",
        "  def forward(self,x:torch.Tensor):\n",
        "    return self.layers(x)"
      ],
      "metadata": {
        "id": "x7zrBrhm550z"
      },
      "execution_count": 54,
      "outputs": []
    },
    {
      "cell_type": "markdown",
      "source": [
        "Intantiating new model"
      ],
      "metadata": {
        "id": "b5jAxOjU7z5Q"
      }
    },
    {
      "cell_type": "code",
      "source": [
        "model_1=Fashion_Model_1(input_shape=784,#as images here are 28x28=784, its hardcoded in this model\n",
        "                        hidden_units=50,\n",
        "                        output_shape=len(class_names))#output units will give one logit for wach member of class names\n",
        "model_1.to(device)\n"
      ],
      "metadata": {
        "colab": {
          "base_uri": "https://localhost:8080/"
        },
        "id": "jf7QMumo72iK",
        "outputId": "5fde408d-e89f-49a0-e09c-4f9e32798043"
      },
      "execution_count": 55,
      "outputs": [
        {
          "output_type": "execute_result",
          "data": {
            "text/plain": [
              "Fashion_Model_1(\n",
              "  (layers): Sequential(\n",
              "    (0): Flatten(start_dim=1, end_dim=-1)\n",
              "    (1): Linear(in_features=784, out_features=50, bias=True)\n",
              "    (2): ReLU()\n",
              "    (3): Linear(in_features=50, out_features=10, bias=True)\n",
              "    (4): ReLU()\n",
              "  )\n",
              ")"
            ]
          },
          "metadata": {},
          "execution_count": 55
        }
      ]
    },
    {
      "cell_type": "code",
      "source": [
        "accuracy=MulticlassAccuracy(num_classes=len(class_names)).to(device)\n",
        "loss_fn=nn.CrossEntropyLoss()#same as multiclass classification loss function\n",
        "optimizer=torch.optim.SGD(params=model_1.parameters(), lr=0.25)#SGD optimizer"
      ],
      "metadata": {
        "id": "uPV10Yo1MTQV"
      },
      "execution_count": 56,
      "outputs": []
    },
    {
      "cell_type": "code",
      "source": [
        "#training model_1\n",
        "epochs=3#keep small at first for smaller loop time\n",
        "#set random seed\n",
        "torch.manual_seed(56)\n",
        "#start the timer\n",
        "model_1_train_start=timer()\n",
        "\n",
        "for epoch in tqdm(range(epochs)):\n",
        "  print(\"Epoch:\", epoch)\n",
        "  training_step(data_loader=train_dataloader,\n",
        "             model=model_1,\n",
        "             loss_fn=loss_fn,\n",
        "             optimizer=optimizer,\n",
        "             accuracy_fn=accuracy,\n",
        "                device=device)\n",
        "  testing_step(data_loader=test_dataloader,\n",
        "             model=model_1,\n",
        "             loss_fn=loss_fn,\n",
        "             accuracy_fn=accuracy,\n",
        "               device=device)\n",
        "model_1_train_end=timer()\n",
        "train_time_model_1=print_train_time(end=model_1_train_end,start=model_1_train_start,device=device)\n",
        "#on cpu 3 epochs taking approx 35 sec\n",
        "# on gpu T4 also, it taks approx 35.5 seconds\n",
        "#gpu might not significantly lower the time taken for small number of epochs because some amount of time goes in transferring data from cpu to gpu"
      ],
      "metadata": {
        "colab": {
          "base_uri": "https://localhost:8080/",
          "height": 223,
          "referenced_widgets": [
            "8208ffd8cef94d48bf9c1260b63636f2",
            "1bfc9255d94545168f321a2757c4e7b7",
            "cb29c14dcbac4de88e3671c3f822b185",
            "06e0185cd6544f518561fa6820c638d8",
            "4f53cc01fc764383942eda4075bde101",
            "b00112a5b3334fadbb013bdc588221e5",
            "1e81bdb8885f41f5a2d12ed13a3dc4a8",
            "638e88a79c214ff595250c70364bf3c4",
            "3155397c873841e0a5521173a46e1ade",
            "758e4e2008a848b1b0406d8a97f6a0c2",
            "3d95c41dd79e43bc83f9227e3eb6d0df"
          ]
        },
        "id": "GkU8LXUTEG0V",
        "outputId": "6b544b85-8823-4804-a670-d063e691d98d"
      },
      "execution_count": 57,
      "outputs": [
        {
          "output_type": "display_data",
          "data": {
            "text/plain": [
              "  0%|          | 0/3 [00:00<?, ?it/s]"
            ],
            "application/vnd.jupyter.widget-view+json": {
              "version_major": 2,
              "version_minor": 0,
              "model_id": "8208ffd8cef94d48bf9c1260b63636f2"
            }
          },
          "metadata": {}
        },
        {
          "output_type": "stream",
          "name": "stdout",
          "text": [
            "Epoch: 0\n",
            "Train Loss: 0.587729811668396 Train Accuracy: 0.7781545519828796\n",
            "Test Loss: 0.4689841866493225 Test Accuracy: 0.8244817852973938\n",
            "Epoch: 1\n",
            "Train Loss: 0.4251931309700012 Train Accuracy: 0.8310524225234985\n",
            "Test Loss: 0.4573751389980316 Test Accuracy: 0.8242664933204651\n",
            "Epoch: 2\n",
            "Train Loss: 0.3902401328086853 Train Accuracy: 0.8474507927894592\n",
            "Test Loss: 0.4359448254108429 Test Accuracy: 0.8338392972946167\n",
            "Train time on cuda: 36.450 seconds\n"
          ]
        }
      ]
    },
    {
      "cell_type": "code",
      "source": [
        "model_1_results = evaluate_model(model=model_1,\n",
        "    data_loader=test_dataloader,\n",
        "    loss_fn=loss_fn,\n",
        "    accuracy_fn=accuracy,\n",
        "    device=device)\n",
        "model_1_results,model_0_results"
      ],
      "metadata": {
        "colab": {
          "base_uri": "https://localhost:8080/"
        },
        "id": "kO0CY0wCN6_R",
        "outputId": "3409bf12-9377-4dc0-f860-a86465dff62a"
      },
      "execution_count": 80,
      "outputs": [
        {
          "output_type": "execute_result",
          "data": {
            "text/plain": [
              "({'model name': 'Fashion_Model_1',\n",
              "  'model loss': 0.4359448254108429,\n",
              "  'model accuracy': 82.98735618591309},\n",
              " {'model name': 'Fashion_Model_0',\n",
              "  'model loss': 0.46573352813720703,\n",
              "  'model accuracy': 82.30978846549988})"
            ]
          },
          "metadata": {},
          "execution_count": 80
        }
      ]
    },
    {
      "cell_type": "markdown",
      "source": [
        "Building a CNN"
      ],
      "metadata": {
        "id": "w-FN7mOu_0TY"
      }
    },
    {
      "cell_type": "code",
      "source": [
        "#Basic Structure\n",
        "#Input Layer-> [Convolutional Layer -> Activation Layer -> Pooling Layer] -> Output Layer\n",
        "#The network in bracket can be scaled and modified depending on the problem\n",
        "#Remember : conv2d layer takes 4 dimensional tensor, first dimension representing number of image in the specific batch\n",
        "class Fashion_Model_2(nn.Module):\n",
        "  def __init__(self, input_shape: int, hidden_units:int, output_shape: int):\n",
        "    super().__init__()\n",
        "    self.block_1= nn.Sequential(\n",
        "        nn.Conv2d(in_channels=input_shape,\n",
        "                  out_channels=hidden_units,\n",
        "                  kernel_size=3,\n",
        "                  stride=1,# 1 is default\n",
        "                  padding='same'),#options= \"same\" so output has same dimensions as input or \"valid\" for no padding\n",
        "        nn.ReLU(),\n",
        "        nn.Conv2d(in_channels=hidden_units,\n",
        "                  out_channels=hidden_units,\n",
        "                  kernel_size=3,\n",
        "                  stride=1,\n",
        "                  padding='same'),\n",
        "        nn.ReLU(),\n",
        "        nn.MaxPool2d(kernel_size=2,#kernels will be of size 2x2\n",
        "                     stride=2)\n",
        "    )\n",
        "    self.block_2=nn.Sequential(\n",
        "        nn.Conv2d(in_channels=hidden_units,\n",
        "                  out_channels=hidden_units,\n",
        "                  kernel_size=3,\n",
        "                  padding='same'),\n",
        "        nn.ReLU(),\n",
        "        nn.Conv2d(in_channels=hidden_units,\n",
        "                  out_channels=hidden_units,\n",
        "                  kernel_size=3,\n",
        "                  padding='same'),\n",
        "        nn.ReLU(),\n",
        "        nn.MaxPool2d(2)# by default kernel size and stride are taken to be equal\n",
        "\n",
        "    )\n",
        "    self.Classifier=nn.Sequential(\n",
        "        nn.Flatten(),\n",
        "        nn.Linear(in_features=hidden_units*7*7,#avoid hardcoding here use len() on the flattened vector to input no. of in_features\n",
        "                  out_features=output_shape)\n",
        "    )\n",
        "  def forward(self, x):\n",
        "    #print(f\"initial shape:{x.shape}\")\n",
        "    x=self.block_1(x)\n",
        "    #print(f\"Shape after block 1 is:{x.shape}\")\n",
        "    x=self.block_2(x)\n",
        "    #print(f\"Shape after block 2 is:{x.shape}\")\n",
        "    x= self.Classifier(x)\n",
        "    #print(f\"Shape after classifier layer is:{x.shape}\")\n",
        "    return x\n",
        "#have set padding as same so size of image does not change\n",
        "#instantiating a model\n",
        "model_2= Fashion_Model_2(input_shape=1, hidden_units=18, output_shape=len(class_names))#len() would be done in cpu so need to shift to device\n",
        "model_2"
      ],
      "metadata": {
        "id": "-06-tKXA_9WC",
        "colab": {
          "base_uri": "https://localhost:8080/"
        },
        "outputId": "ae90ee9c-1907-469a-c3b9-a15a972878ae"
      },
      "execution_count": 45,
      "outputs": [
        {
          "output_type": "execute_result",
          "data": {
            "text/plain": [
              "Fashion_Model_2(\n",
              "  (block_1): Sequential(\n",
              "    (0): Conv2d(1, 18, kernel_size=(3, 3), stride=(1, 1), padding=same)\n",
              "    (1): ReLU()\n",
              "    (2): Conv2d(18, 18, kernel_size=(3, 3), stride=(1, 1), padding=same)\n",
              "    (3): ReLU()\n",
              "    (4): MaxPool2d(kernel_size=2, stride=2, padding=0, dilation=1, ceil_mode=False)\n",
              "  )\n",
              "  (block_2): Sequential(\n",
              "    (0): Conv2d(18, 18, kernel_size=(3, 3), stride=(1, 1), padding=same)\n",
              "    (1): ReLU()\n",
              "    (2): Conv2d(18, 18, kernel_size=(3, 3), stride=(1, 1), padding=same)\n",
              "    (3): ReLU()\n",
              "    (4): MaxPool2d(kernel_size=2, stride=2, padding=0, dilation=1, ceil_mode=False)\n",
              "  )\n",
              "  (Classifier): Sequential(\n",
              "    (0): Flatten(start_dim=1, end_dim=-1)\n",
              "    (1): Linear(in_features=882, out_features=10, bias=True)\n",
              "  )\n",
              ")"
            ]
          },
          "metadata": {},
          "execution_count": 45
        }
      ]
    },
    {
      "cell_type": "markdown",
      "source": [
        "Setting Loss function and Optimizer function"
      ],
      "metadata": {
        "id": "ZAvAjDWOpGcJ"
      }
    },
    {
      "cell_type": "code",
      "source": [
        "accuracy=MulticlassAccuracy(num_classes=len(class_names)).to(device)\n",
        "loss_fn=nn.CrossEntropyLoss()#same as multiclass classification loss function\n",
        "optimizer=torch.optim.SGD(params=model_2.parameters(), lr=0.1)#SGD optimizer"
      ],
      "metadata": {
        "id": "RvCSgtP7pUx4"
      },
      "execution_count": 46,
      "outputs": []
    },
    {
      "cell_type": "markdown",
      "source": [
        "Training model_2"
      ],
      "metadata": {
        "id": "_siI-UvkrMNf"
      }
    },
    {
      "cell_type": "code",
      "source": [
        "from tqdm.auto import tqdm\n",
        "#training model_2\n",
        "epochs=3#keep small at first for smaller loop time\n",
        "#set random seed\n",
        "torch.manual_seed(56)\n",
        "#start the timer\n",
        "model_2_train_start=timer()\n",
        "\n",
        "for epoch in tqdm(range(epochs)):\n",
        "  print(\"Epoch:\", epoch)\n",
        "  training_step(data_loader=train_dataloader,\n",
        "             model=model_2,\n",
        "             loss_fn=loss_fn,\n",
        "             optimizer=optimizer,\n",
        "             accuracy_fn=accuracy,\n",
        "                device=device)\n",
        "  testing_step(data_loader=test_dataloader,\n",
        "             model=model_2,\n",
        "             loss_fn=loss_fn,\n",
        "             accuracy_fn=accuracy,\n",
        "               device=device)\n",
        "model_2_train_end=timer()\n",
        "train_time_model_2=print_train_time(end=model_2_train_end,start=model_2_train_start,device=device)"
      ],
      "metadata": {
        "id": "q2qlTpslrN3y",
        "colab": {
          "base_uri": "https://localhost:8080/",
          "height": 223,
          "referenced_widgets": [
            "5a296a32b2a8486cbf6dc937d1dad93b",
            "440f55ba0a7f48789386a67aa20cddf4",
            "666d5bfdba6d4251830cb9591654d47d",
            "ff471bb889974a0fa65ab5683caa3193",
            "b55ffe14a7a5422889a3a3c20dbbbeae",
            "17afa673a0e54bef84abe396d0f2042c",
            "c3363b3870294294a097b6dde64e5bd7",
            "7b49616843974b8ba4db6ff062246910",
            "245acf2583734c07b9b92903b9a9733e",
            "c1dddb62501d455abda851e574535ccd",
            "81ada5f44cf3413eb6799a2cf282cecf"
          ]
        },
        "outputId": "05cee053-64ff-46e1-c375-649f1d5c47cb"
      },
      "execution_count": 47,
      "outputs": [
        {
          "output_type": "display_data",
          "data": {
            "text/plain": [
              "  0%|          | 0/3 [00:00<?, ?it/s]"
            ],
            "application/vnd.jupyter.widget-view+json": {
              "version_major": 2,
              "version_minor": 0,
              "model_id": "5a296a32b2a8486cbf6dc937d1dad93b"
            }
          },
          "metadata": {}
        },
        {
          "output_type": "stream",
          "name": "stdout",
          "text": [
            "Epoch: 0\n",
            "Train Loss: 0.5362468957901001 Train Accuracy: 0.7967579960823059\n",
            "Test Loss: 0.3591523766517639 Test Accuracy: 0.8617085814476013\n",
            "Epoch: 1\n",
            "Train Loss: 0.33082982897758484 Train Accuracy: 0.8711919188499451\n",
            "Test Loss: 0.3253317177295685 Test Accuracy: 0.874356746673584\n",
            "Epoch: 2\n",
            "Train Loss: 0.2892269790172577 Train Accuracy: 0.8872500061988831\n",
            "Test Loss: 0.3444281220436096 Test Accuracy: 0.8673294186592102\n",
            "Train time on cuda: 42.580 seconds\n"
          ]
        }
      ]
    },
    {
      "cell_type": "code",
      "source": [
        "#evaluating model results\n",
        "model_2_results = evaluate_model(model=model_2,\n",
        "    data_loader=test_dataloader,\n",
        "    loss_fn=loss_fn,\n",
        "    accuracy_fn=accuracy,\n",
        "    device=device)\n",
        "model_2_results,model_1_results, model_0_results"
      ],
      "metadata": {
        "id": "k17IPgx4tEDp",
        "colab": {
          "base_uri": "https://localhost:8080/"
        },
        "outputId": "db748b93-43fc-4421-c254-37385de63a8c"
      },
      "execution_count": 82,
      "outputs": [
        {
          "output_type": "execute_result",
          "data": {
            "text/plain": [
              "({'model name': 'Fashion_Model_2',\n",
              "  'model loss': 0.3444281220436096,\n",
              "  'model accuracy': 86.44930720329285},\n",
              " {'model name': 'Fashion_Model_1',\n",
              "  'model loss': 0.4359448254108429,\n",
              "  'model accuracy': 82.98735618591309},\n",
              " {'model name': 'Fashion_Model_0',\n",
              "  'model loss': 0.46573352813720703,\n",
              "  'model accuracy': 82.30978846549988})"
            ]
          },
          "metadata": {},
          "execution_count": 82
        }
      ]
    },
    {
      "cell_type": "code",
      "source": [
        "#comparing results of different models\n",
        "import pandas as pd\n",
        "result_comparison=pd.DataFrame([model_0_results,model_1_results,model_2_results])\n",
        "result_comparison"
      ],
      "metadata": {
        "id": "Atimd75eKG2z",
        "colab": {
          "base_uri": "https://localhost:8080/",
          "height": 143
        },
        "outputId": "c844b65d-cda4-45f7-d211-5fe3bd1c39a2"
      },
      "execution_count": 83,
      "outputs": [
        {
          "output_type": "execute_result",
          "data": {
            "text/plain": [
              "        model name  model loss  model accuracy\n",
              "0  Fashion_Model_0    0.465734       82.309788\n",
              "1  Fashion_Model_1    0.435945       82.987356\n",
              "2  Fashion_Model_2    0.344428       86.449307"
            ],
            "text/html": [
              "\n",
              "  <div id=\"df-722324f2-43e0-4822-a1e0-95383df2b042\" class=\"colab-df-container\">\n",
              "    <div>\n",
              "<style scoped>\n",
              "    .dataframe tbody tr th:only-of-type {\n",
              "        vertical-align: middle;\n",
              "    }\n",
              "\n",
              "    .dataframe tbody tr th {\n",
              "        vertical-align: top;\n",
              "    }\n",
              "\n",
              "    .dataframe thead th {\n",
              "        text-align: right;\n",
              "    }\n",
              "</style>\n",
              "<table border=\"1\" class=\"dataframe\">\n",
              "  <thead>\n",
              "    <tr style=\"text-align: right;\">\n",
              "      <th></th>\n",
              "      <th>model name</th>\n",
              "      <th>model loss</th>\n",
              "      <th>model accuracy</th>\n",
              "    </tr>\n",
              "  </thead>\n",
              "  <tbody>\n",
              "    <tr>\n",
              "      <th>0</th>\n",
              "      <td>Fashion_Model_0</td>\n",
              "      <td>0.465734</td>\n",
              "      <td>82.309788</td>\n",
              "    </tr>\n",
              "    <tr>\n",
              "      <th>1</th>\n",
              "      <td>Fashion_Model_1</td>\n",
              "      <td>0.435945</td>\n",
              "      <td>82.987356</td>\n",
              "    </tr>\n",
              "    <tr>\n",
              "      <th>2</th>\n",
              "      <td>Fashion_Model_2</td>\n",
              "      <td>0.344428</td>\n",
              "      <td>86.449307</td>\n",
              "    </tr>\n",
              "  </tbody>\n",
              "</table>\n",
              "</div>\n",
              "    <div class=\"colab-df-buttons\">\n",
              "\n",
              "  <div class=\"colab-df-container\">\n",
              "    <button class=\"colab-df-convert\" onclick=\"convertToInteractive('df-722324f2-43e0-4822-a1e0-95383df2b042')\"\n",
              "            title=\"Convert this dataframe to an interactive table.\"\n",
              "            style=\"display:none;\">\n",
              "\n",
              "  <svg xmlns=\"http://www.w3.org/2000/svg\" height=\"24px\" viewBox=\"0 -960 960 960\">\n",
              "    <path d=\"M120-120v-720h720v720H120Zm60-500h600v-160H180v160Zm220 220h160v-160H400v160Zm0 220h160v-160H400v160ZM180-400h160v-160H180v160Zm440 0h160v-160H620v160ZM180-180h160v-160H180v160Zm440 0h160v-160H620v160Z\"/>\n",
              "  </svg>\n",
              "    </button>\n",
              "\n",
              "  <style>\n",
              "    .colab-df-container {\n",
              "      display:flex;\n",
              "      gap: 12px;\n",
              "    }\n",
              "\n",
              "    .colab-df-convert {\n",
              "      background-color: #E8F0FE;\n",
              "      border: none;\n",
              "      border-radius: 50%;\n",
              "      cursor: pointer;\n",
              "      display: none;\n",
              "      fill: #1967D2;\n",
              "      height: 32px;\n",
              "      padding: 0 0 0 0;\n",
              "      width: 32px;\n",
              "    }\n",
              "\n",
              "    .colab-df-convert:hover {\n",
              "      background-color: #E2EBFA;\n",
              "      box-shadow: 0px 1px 2px rgba(60, 64, 67, 0.3), 0px 1px 3px 1px rgba(60, 64, 67, 0.15);\n",
              "      fill: #174EA6;\n",
              "    }\n",
              "\n",
              "    .colab-df-buttons div {\n",
              "      margin-bottom: 4px;\n",
              "    }\n",
              "\n",
              "    [theme=dark] .colab-df-convert {\n",
              "      background-color: #3B4455;\n",
              "      fill: #D2E3FC;\n",
              "    }\n",
              "\n",
              "    [theme=dark] .colab-df-convert:hover {\n",
              "      background-color: #434B5C;\n",
              "      box-shadow: 0px 1px 3px 1px rgba(0, 0, 0, 0.15);\n",
              "      filter: drop-shadow(0px 1px 2px rgba(0, 0, 0, 0.3));\n",
              "      fill: #FFFFFF;\n",
              "    }\n",
              "  </style>\n",
              "\n",
              "    <script>\n",
              "      const buttonEl =\n",
              "        document.querySelector('#df-722324f2-43e0-4822-a1e0-95383df2b042 button.colab-df-convert');\n",
              "      buttonEl.style.display =\n",
              "        google.colab.kernel.accessAllowed ? 'block' : 'none';\n",
              "\n",
              "      async function convertToInteractive(key) {\n",
              "        const element = document.querySelector('#df-722324f2-43e0-4822-a1e0-95383df2b042');\n",
              "        const dataTable =\n",
              "          await google.colab.kernel.invokeFunction('convertToInteractive',\n",
              "                                                    [key], {});\n",
              "        if (!dataTable) return;\n",
              "\n",
              "        const docLinkHtml = 'Like what you see? Visit the ' +\n",
              "          '<a target=\"_blank\" href=https://colab.research.google.com/notebooks/data_table.ipynb>data table notebook</a>'\n",
              "          + ' to learn more about interactive tables.';\n",
              "        element.innerHTML = '';\n",
              "        dataTable['output_type'] = 'display_data';\n",
              "        await google.colab.output.renderOutput(dataTable, element);\n",
              "        const docLink = document.createElement('div');\n",
              "        docLink.innerHTML = docLinkHtml;\n",
              "        element.appendChild(docLink);\n",
              "      }\n",
              "    </script>\n",
              "  </div>\n",
              "\n",
              "\n",
              "<div id=\"df-15b19437-4fef-4d86-be78-fab5d4446905\">\n",
              "  <button class=\"colab-df-quickchart\" onclick=\"quickchart('df-15b19437-4fef-4d86-be78-fab5d4446905')\"\n",
              "            title=\"Suggest charts\"\n",
              "            style=\"display:none;\">\n",
              "\n",
              "<svg xmlns=\"http://www.w3.org/2000/svg\" height=\"24px\"viewBox=\"0 0 24 24\"\n",
              "     width=\"24px\">\n",
              "    <g>\n",
              "        <path d=\"M19 3H5c-1.1 0-2 .9-2 2v14c0 1.1.9 2 2 2h14c1.1 0 2-.9 2-2V5c0-1.1-.9-2-2-2zM9 17H7v-7h2v7zm4 0h-2V7h2v10zm4 0h-2v-4h2v4z\"/>\n",
              "    </g>\n",
              "</svg>\n",
              "  </button>\n",
              "\n",
              "<style>\n",
              "  .colab-df-quickchart {\n",
              "      --bg-color: #E8F0FE;\n",
              "      --fill-color: #1967D2;\n",
              "      --hover-bg-color: #E2EBFA;\n",
              "      --hover-fill-color: #174EA6;\n",
              "      --disabled-fill-color: #AAA;\n",
              "      --disabled-bg-color: #DDD;\n",
              "  }\n",
              "\n",
              "  [theme=dark] .colab-df-quickchart {\n",
              "      --bg-color: #3B4455;\n",
              "      --fill-color: #D2E3FC;\n",
              "      --hover-bg-color: #434B5C;\n",
              "      --hover-fill-color: #FFFFFF;\n",
              "      --disabled-bg-color: #3B4455;\n",
              "      --disabled-fill-color: #666;\n",
              "  }\n",
              "\n",
              "  .colab-df-quickchart {\n",
              "    background-color: var(--bg-color);\n",
              "    border: none;\n",
              "    border-radius: 50%;\n",
              "    cursor: pointer;\n",
              "    display: none;\n",
              "    fill: var(--fill-color);\n",
              "    height: 32px;\n",
              "    padding: 0;\n",
              "    width: 32px;\n",
              "  }\n",
              "\n",
              "  .colab-df-quickchart:hover {\n",
              "    background-color: var(--hover-bg-color);\n",
              "    box-shadow: 0 1px 2px rgba(60, 64, 67, 0.3), 0 1px 3px 1px rgba(60, 64, 67, 0.15);\n",
              "    fill: var(--button-hover-fill-color);\n",
              "  }\n",
              "\n",
              "  .colab-df-quickchart-complete:disabled,\n",
              "  .colab-df-quickchart-complete:disabled:hover {\n",
              "    background-color: var(--disabled-bg-color);\n",
              "    fill: var(--disabled-fill-color);\n",
              "    box-shadow: none;\n",
              "  }\n",
              "\n",
              "  .colab-df-spinner {\n",
              "    border: 2px solid var(--fill-color);\n",
              "    border-color: transparent;\n",
              "    border-bottom-color: var(--fill-color);\n",
              "    animation:\n",
              "      spin 1s steps(1) infinite;\n",
              "  }\n",
              "\n",
              "  @keyframes spin {\n",
              "    0% {\n",
              "      border-color: transparent;\n",
              "      border-bottom-color: var(--fill-color);\n",
              "      border-left-color: var(--fill-color);\n",
              "    }\n",
              "    20% {\n",
              "      border-color: transparent;\n",
              "      border-left-color: var(--fill-color);\n",
              "      border-top-color: var(--fill-color);\n",
              "    }\n",
              "    30% {\n",
              "      border-color: transparent;\n",
              "      border-left-color: var(--fill-color);\n",
              "      border-top-color: var(--fill-color);\n",
              "      border-right-color: var(--fill-color);\n",
              "    }\n",
              "    40% {\n",
              "      border-color: transparent;\n",
              "      border-right-color: var(--fill-color);\n",
              "      border-top-color: var(--fill-color);\n",
              "    }\n",
              "    60% {\n",
              "      border-color: transparent;\n",
              "      border-right-color: var(--fill-color);\n",
              "    }\n",
              "    80% {\n",
              "      border-color: transparent;\n",
              "      border-right-color: var(--fill-color);\n",
              "      border-bottom-color: var(--fill-color);\n",
              "    }\n",
              "    90% {\n",
              "      border-color: transparent;\n",
              "      border-bottom-color: var(--fill-color);\n",
              "    }\n",
              "  }\n",
              "</style>\n",
              "\n",
              "  <script>\n",
              "    async function quickchart(key) {\n",
              "      const quickchartButtonEl =\n",
              "        document.querySelector('#' + key + ' button');\n",
              "      quickchartButtonEl.disabled = true;  // To prevent multiple clicks.\n",
              "      quickchartButtonEl.classList.add('colab-df-spinner');\n",
              "      try {\n",
              "        const charts = await google.colab.kernel.invokeFunction(\n",
              "            'suggestCharts', [key], {});\n",
              "      } catch (error) {\n",
              "        console.error('Error during call to suggestCharts:', error);\n",
              "      }\n",
              "      quickchartButtonEl.classList.remove('colab-df-spinner');\n",
              "      quickchartButtonEl.classList.add('colab-df-quickchart-complete');\n",
              "    }\n",
              "    (() => {\n",
              "      let quickchartButtonEl =\n",
              "        document.querySelector('#df-15b19437-4fef-4d86-be78-fab5d4446905 button');\n",
              "      quickchartButtonEl.style.display =\n",
              "        google.colab.kernel.accessAllowed ? 'block' : 'none';\n",
              "    })();\n",
              "  </script>\n",
              "</div>\n",
              "\n",
              "  <div id=\"id_de572d44-6ff8-47c2-8363-4271e6a49852\">\n",
              "    <style>\n",
              "      .colab-df-generate {\n",
              "        background-color: #E8F0FE;\n",
              "        border: none;\n",
              "        border-radius: 50%;\n",
              "        cursor: pointer;\n",
              "        display: none;\n",
              "        fill: #1967D2;\n",
              "        height: 32px;\n",
              "        padding: 0 0 0 0;\n",
              "        width: 32px;\n",
              "      }\n",
              "\n",
              "      .colab-df-generate:hover {\n",
              "        background-color: #E2EBFA;\n",
              "        box-shadow: 0px 1px 2px rgba(60, 64, 67, 0.3), 0px 1px 3px 1px rgba(60, 64, 67, 0.15);\n",
              "        fill: #174EA6;\n",
              "      }\n",
              "\n",
              "      [theme=dark] .colab-df-generate {\n",
              "        background-color: #3B4455;\n",
              "        fill: #D2E3FC;\n",
              "      }\n",
              "\n",
              "      [theme=dark] .colab-df-generate:hover {\n",
              "        background-color: #434B5C;\n",
              "        box-shadow: 0px 1px 3px 1px rgba(0, 0, 0, 0.15);\n",
              "        filter: drop-shadow(0px 1px 2px rgba(0, 0, 0, 0.3));\n",
              "        fill: #FFFFFF;\n",
              "      }\n",
              "    </style>\n",
              "    <button class=\"colab-df-generate\" onclick=\"generateWithVariable('result_comparison')\"\n",
              "            title=\"Generate code using this dataframe.\"\n",
              "            style=\"display:none;\">\n",
              "\n",
              "  <svg xmlns=\"http://www.w3.org/2000/svg\" height=\"24px\"viewBox=\"0 0 24 24\"\n",
              "       width=\"24px\">\n",
              "    <path d=\"M7,19H8.4L18.45,9,17,7.55,7,17.6ZM5,21V16.75L18.45,3.32a2,2,0,0,1,2.83,0l1.4,1.43a1.91,1.91,0,0,1,.58,1.4,1.91,1.91,0,0,1-.58,1.4L9.25,21ZM18.45,9,17,7.55Zm-12,3A5.31,5.31,0,0,0,4.9,8.1,5.31,5.31,0,0,0,1,6.5,5.31,5.31,0,0,0,4.9,4.9,5.31,5.31,0,0,0,6.5,1,5.31,5.31,0,0,0,8.1,4.9,5.31,5.31,0,0,0,12,6.5,5.46,5.46,0,0,0,6.5,12Z\"/>\n",
              "  </svg>\n",
              "    </button>\n",
              "    <script>\n",
              "      (() => {\n",
              "      const buttonEl =\n",
              "        document.querySelector('#id_de572d44-6ff8-47c2-8363-4271e6a49852 button.colab-df-generate');\n",
              "      buttonEl.style.display =\n",
              "        google.colab.kernel.accessAllowed ? 'block' : 'none';\n",
              "\n",
              "      buttonEl.onclick = () => {\n",
              "        google.colab.notebook.generateWithVariable('result_comparison');\n",
              "      }\n",
              "      })();\n",
              "    </script>\n",
              "  </div>\n",
              "\n",
              "    </div>\n",
              "  </div>\n"
            ]
          },
          "metadata": {},
          "execution_count": 83
        }
      ]
    },
    {
      "cell_type": "code",
      "source": [
        "#comparing training time as well\n",
        "result_comparison[\"training_time\"]=[total_train_time_model_0,train_time_model_1,train_time_model_2]\n",
        "result_comparison"
      ],
      "metadata": {
        "id": "VxYEWs9WKmRj",
        "colab": {
          "base_uri": "https://localhost:8080/",
          "height": 143
        },
        "outputId": "d2fa43ff-e1bf-4a97-89f4-3e8f1c645f3e"
      },
      "execution_count": 84,
      "outputs": [
        {
          "output_type": "execute_result",
          "data": {
            "text/plain": [
              "        model name  model loss  model accuracy  training_time\n",
              "0  Fashion_Model_0    0.465734       82.309788      31.926026\n",
              "1  Fashion_Model_1    0.435945       82.987356      36.449867\n",
              "2  Fashion_Model_2    0.344428       86.449307      42.580290"
            ],
            "text/html": [
              "\n",
              "  <div id=\"df-3cbb7c9f-2d4d-4084-8b9c-d608e712d60b\" class=\"colab-df-container\">\n",
              "    <div>\n",
              "<style scoped>\n",
              "    .dataframe tbody tr th:only-of-type {\n",
              "        vertical-align: middle;\n",
              "    }\n",
              "\n",
              "    .dataframe tbody tr th {\n",
              "        vertical-align: top;\n",
              "    }\n",
              "\n",
              "    .dataframe thead th {\n",
              "        text-align: right;\n",
              "    }\n",
              "</style>\n",
              "<table border=\"1\" class=\"dataframe\">\n",
              "  <thead>\n",
              "    <tr style=\"text-align: right;\">\n",
              "      <th></th>\n",
              "      <th>model name</th>\n",
              "      <th>model loss</th>\n",
              "      <th>model accuracy</th>\n",
              "      <th>training_time</th>\n",
              "    </tr>\n",
              "  </thead>\n",
              "  <tbody>\n",
              "    <tr>\n",
              "      <th>0</th>\n",
              "      <td>Fashion_Model_0</td>\n",
              "      <td>0.465734</td>\n",
              "      <td>82.309788</td>\n",
              "      <td>31.926026</td>\n",
              "    </tr>\n",
              "    <tr>\n",
              "      <th>1</th>\n",
              "      <td>Fashion_Model_1</td>\n",
              "      <td>0.435945</td>\n",
              "      <td>82.987356</td>\n",
              "      <td>36.449867</td>\n",
              "    </tr>\n",
              "    <tr>\n",
              "      <th>2</th>\n",
              "      <td>Fashion_Model_2</td>\n",
              "      <td>0.344428</td>\n",
              "      <td>86.449307</td>\n",
              "      <td>42.580290</td>\n",
              "    </tr>\n",
              "  </tbody>\n",
              "</table>\n",
              "</div>\n",
              "    <div class=\"colab-df-buttons\">\n",
              "\n",
              "  <div class=\"colab-df-container\">\n",
              "    <button class=\"colab-df-convert\" onclick=\"convertToInteractive('df-3cbb7c9f-2d4d-4084-8b9c-d608e712d60b')\"\n",
              "            title=\"Convert this dataframe to an interactive table.\"\n",
              "            style=\"display:none;\">\n",
              "\n",
              "  <svg xmlns=\"http://www.w3.org/2000/svg\" height=\"24px\" viewBox=\"0 -960 960 960\">\n",
              "    <path d=\"M120-120v-720h720v720H120Zm60-500h600v-160H180v160Zm220 220h160v-160H400v160Zm0 220h160v-160H400v160ZM180-400h160v-160H180v160Zm440 0h160v-160H620v160ZM180-180h160v-160H180v160Zm440 0h160v-160H620v160Z\"/>\n",
              "  </svg>\n",
              "    </button>\n",
              "\n",
              "  <style>\n",
              "    .colab-df-container {\n",
              "      display:flex;\n",
              "      gap: 12px;\n",
              "    }\n",
              "\n",
              "    .colab-df-convert {\n",
              "      background-color: #E8F0FE;\n",
              "      border: none;\n",
              "      border-radius: 50%;\n",
              "      cursor: pointer;\n",
              "      display: none;\n",
              "      fill: #1967D2;\n",
              "      height: 32px;\n",
              "      padding: 0 0 0 0;\n",
              "      width: 32px;\n",
              "    }\n",
              "\n",
              "    .colab-df-convert:hover {\n",
              "      background-color: #E2EBFA;\n",
              "      box-shadow: 0px 1px 2px rgba(60, 64, 67, 0.3), 0px 1px 3px 1px rgba(60, 64, 67, 0.15);\n",
              "      fill: #174EA6;\n",
              "    }\n",
              "\n",
              "    .colab-df-buttons div {\n",
              "      margin-bottom: 4px;\n",
              "    }\n",
              "\n",
              "    [theme=dark] .colab-df-convert {\n",
              "      background-color: #3B4455;\n",
              "      fill: #D2E3FC;\n",
              "    }\n",
              "\n",
              "    [theme=dark] .colab-df-convert:hover {\n",
              "      background-color: #434B5C;\n",
              "      box-shadow: 0px 1px 3px 1px rgba(0, 0, 0, 0.15);\n",
              "      filter: drop-shadow(0px 1px 2px rgba(0, 0, 0, 0.3));\n",
              "      fill: #FFFFFF;\n",
              "    }\n",
              "  </style>\n",
              "\n",
              "    <script>\n",
              "      const buttonEl =\n",
              "        document.querySelector('#df-3cbb7c9f-2d4d-4084-8b9c-d608e712d60b button.colab-df-convert');\n",
              "      buttonEl.style.display =\n",
              "        google.colab.kernel.accessAllowed ? 'block' : 'none';\n",
              "\n",
              "      async function convertToInteractive(key) {\n",
              "        const element = document.querySelector('#df-3cbb7c9f-2d4d-4084-8b9c-d608e712d60b');\n",
              "        const dataTable =\n",
              "          await google.colab.kernel.invokeFunction('convertToInteractive',\n",
              "                                                    [key], {});\n",
              "        if (!dataTable) return;\n",
              "\n",
              "        const docLinkHtml = 'Like what you see? Visit the ' +\n",
              "          '<a target=\"_blank\" href=https://colab.research.google.com/notebooks/data_table.ipynb>data table notebook</a>'\n",
              "          + ' to learn more about interactive tables.';\n",
              "        element.innerHTML = '';\n",
              "        dataTable['output_type'] = 'display_data';\n",
              "        await google.colab.output.renderOutput(dataTable, element);\n",
              "        const docLink = document.createElement('div');\n",
              "        docLink.innerHTML = docLinkHtml;\n",
              "        element.appendChild(docLink);\n",
              "      }\n",
              "    </script>\n",
              "  </div>\n",
              "\n",
              "\n",
              "<div id=\"df-08d5129c-8d96-4d7a-bf5f-216bf31462b7\">\n",
              "  <button class=\"colab-df-quickchart\" onclick=\"quickchart('df-08d5129c-8d96-4d7a-bf5f-216bf31462b7')\"\n",
              "            title=\"Suggest charts\"\n",
              "            style=\"display:none;\">\n",
              "\n",
              "<svg xmlns=\"http://www.w3.org/2000/svg\" height=\"24px\"viewBox=\"0 0 24 24\"\n",
              "     width=\"24px\">\n",
              "    <g>\n",
              "        <path d=\"M19 3H5c-1.1 0-2 .9-2 2v14c0 1.1.9 2 2 2h14c1.1 0 2-.9 2-2V5c0-1.1-.9-2-2-2zM9 17H7v-7h2v7zm4 0h-2V7h2v10zm4 0h-2v-4h2v4z\"/>\n",
              "    </g>\n",
              "</svg>\n",
              "  </button>\n",
              "\n",
              "<style>\n",
              "  .colab-df-quickchart {\n",
              "      --bg-color: #E8F0FE;\n",
              "      --fill-color: #1967D2;\n",
              "      --hover-bg-color: #E2EBFA;\n",
              "      --hover-fill-color: #174EA6;\n",
              "      --disabled-fill-color: #AAA;\n",
              "      --disabled-bg-color: #DDD;\n",
              "  }\n",
              "\n",
              "  [theme=dark] .colab-df-quickchart {\n",
              "      --bg-color: #3B4455;\n",
              "      --fill-color: #D2E3FC;\n",
              "      --hover-bg-color: #434B5C;\n",
              "      --hover-fill-color: #FFFFFF;\n",
              "      --disabled-bg-color: #3B4455;\n",
              "      --disabled-fill-color: #666;\n",
              "  }\n",
              "\n",
              "  .colab-df-quickchart {\n",
              "    background-color: var(--bg-color);\n",
              "    border: none;\n",
              "    border-radius: 50%;\n",
              "    cursor: pointer;\n",
              "    display: none;\n",
              "    fill: var(--fill-color);\n",
              "    height: 32px;\n",
              "    padding: 0;\n",
              "    width: 32px;\n",
              "  }\n",
              "\n",
              "  .colab-df-quickchart:hover {\n",
              "    background-color: var(--hover-bg-color);\n",
              "    box-shadow: 0 1px 2px rgba(60, 64, 67, 0.3), 0 1px 3px 1px rgba(60, 64, 67, 0.15);\n",
              "    fill: var(--button-hover-fill-color);\n",
              "  }\n",
              "\n",
              "  .colab-df-quickchart-complete:disabled,\n",
              "  .colab-df-quickchart-complete:disabled:hover {\n",
              "    background-color: var(--disabled-bg-color);\n",
              "    fill: var(--disabled-fill-color);\n",
              "    box-shadow: none;\n",
              "  }\n",
              "\n",
              "  .colab-df-spinner {\n",
              "    border: 2px solid var(--fill-color);\n",
              "    border-color: transparent;\n",
              "    border-bottom-color: var(--fill-color);\n",
              "    animation:\n",
              "      spin 1s steps(1) infinite;\n",
              "  }\n",
              "\n",
              "  @keyframes spin {\n",
              "    0% {\n",
              "      border-color: transparent;\n",
              "      border-bottom-color: var(--fill-color);\n",
              "      border-left-color: var(--fill-color);\n",
              "    }\n",
              "    20% {\n",
              "      border-color: transparent;\n",
              "      border-left-color: var(--fill-color);\n",
              "      border-top-color: var(--fill-color);\n",
              "    }\n",
              "    30% {\n",
              "      border-color: transparent;\n",
              "      border-left-color: var(--fill-color);\n",
              "      border-top-color: var(--fill-color);\n",
              "      border-right-color: var(--fill-color);\n",
              "    }\n",
              "    40% {\n",
              "      border-color: transparent;\n",
              "      border-right-color: var(--fill-color);\n",
              "      border-top-color: var(--fill-color);\n",
              "    }\n",
              "    60% {\n",
              "      border-color: transparent;\n",
              "      border-right-color: var(--fill-color);\n",
              "    }\n",
              "    80% {\n",
              "      border-color: transparent;\n",
              "      border-right-color: var(--fill-color);\n",
              "      border-bottom-color: var(--fill-color);\n",
              "    }\n",
              "    90% {\n",
              "      border-color: transparent;\n",
              "      border-bottom-color: var(--fill-color);\n",
              "    }\n",
              "  }\n",
              "</style>\n",
              "\n",
              "  <script>\n",
              "    async function quickchart(key) {\n",
              "      const quickchartButtonEl =\n",
              "        document.querySelector('#' + key + ' button');\n",
              "      quickchartButtonEl.disabled = true;  // To prevent multiple clicks.\n",
              "      quickchartButtonEl.classList.add('colab-df-spinner');\n",
              "      try {\n",
              "        const charts = await google.colab.kernel.invokeFunction(\n",
              "            'suggestCharts', [key], {});\n",
              "      } catch (error) {\n",
              "        console.error('Error during call to suggestCharts:', error);\n",
              "      }\n",
              "      quickchartButtonEl.classList.remove('colab-df-spinner');\n",
              "      quickchartButtonEl.classList.add('colab-df-quickchart-complete');\n",
              "    }\n",
              "    (() => {\n",
              "      let quickchartButtonEl =\n",
              "        document.querySelector('#df-08d5129c-8d96-4d7a-bf5f-216bf31462b7 button');\n",
              "      quickchartButtonEl.style.display =\n",
              "        google.colab.kernel.accessAllowed ? 'block' : 'none';\n",
              "    })();\n",
              "  </script>\n",
              "</div>\n",
              "\n",
              "  <div id=\"id_54623cf3-9e14-4810-afbc-e63dc15548e1\">\n",
              "    <style>\n",
              "      .colab-df-generate {\n",
              "        background-color: #E8F0FE;\n",
              "        border: none;\n",
              "        border-radius: 50%;\n",
              "        cursor: pointer;\n",
              "        display: none;\n",
              "        fill: #1967D2;\n",
              "        height: 32px;\n",
              "        padding: 0 0 0 0;\n",
              "        width: 32px;\n",
              "      }\n",
              "\n",
              "      .colab-df-generate:hover {\n",
              "        background-color: #E2EBFA;\n",
              "        box-shadow: 0px 1px 2px rgba(60, 64, 67, 0.3), 0px 1px 3px 1px rgba(60, 64, 67, 0.15);\n",
              "        fill: #174EA6;\n",
              "      }\n",
              "\n",
              "      [theme=dark] .colab-df-generate {\n",
              "        background-color: #3B4455;\n",
              "        fill: #D2E3FC;\n",
              "      }\n",
              "\n",
              "      [theme=dark] .colab-df-generate:hover {\n",
              "        background-color: #434B5C;\n",
              "        box-shadow: 0px 1px 3px 1px rgba(0, 0, 0, 0.15);\n",
              "        filter: drop-shadow(0px 1px 2px rgba(0, 0, 0, 0.3));\n",
              "        fill: #FFFFFF;\n",
              "      }\n",
              "    </style>\n",
              "    <button class=\"colab-df-generate\" onclick=\"generateWithVariable('result_comparison')\"\n",
              "            title=\"Generate code using this dataframe.\"\n",
              "            style=\"display:none;\">\n",
              "\n",
              "  <svg xmlns=\"http://www.w3.org/2000/svg\" height=\"24px\"viewBox=\"0 0 24 24\"\n",
              "       width=\"24px\">\n",
              "    <path d=\"M7,19H8.4L18.45,9,17,7.55,7,17.6ZM5,21V16.75L18.45,3.32a2,2,0,0,1,2.83,0l1.4,1.43a1.91,1.91,0,0,1,.58,1.4,1.91,1.91,0,0,1-.58,1.4L9.25,21ZM18.45,9,17,7.55Zm-12,3A5.31,5.31,0,0,0,4.9,8.1,5.31,5.31,0,0,0,1,6.5,5.31,5.31,0,0,0,4.9,4.9,5.31,5.31,0,0,0,6.5,1,5.31,5.31,0,0,0,8.1,4.9,5.31,5.31,0,0,0,12,6.5,5.46,5.46,0,0,0,6.5,12Z\"/>\n",
              "  </svg>\n",
              "    </button>\n",
              "    <script>\n",
              "      (() => {\n",
              "      const buttonEl =\n",
              "        document.querySelector('#id_54623cf3-9e14-4810-afbc-e63dc15548e1 button.colab-df-generate');\n",
              "      buttonEl.style.display =\n",
              "        google.colab.kernel.accessAllowed ? 'block' : 'none';\n",
              "\n",
              "      buttonEl.onclick = () => {\n",
              "        google.colab.notebook.generateWithVariable('result_comparison');\n",
              "      }\n",
              "      })();\n",
              "    </script>\n",
              "  </div>\n",
              "\n",
              "    </div>\n",
              "  </div>\n"
            ]
          },
          "metadata": {},
          "execution_count": 84
        }
      ]
    },
    {
      "cell_type": "code",
      "source": [
        "#visualizing model performance\n",
        "result_comparison.set_index(\"model name\")[\"model accuracy\"].plot(kind=\"bar\")\n",
        "plt.xlabel(\"model name\")\n",
        "plt.ylabel(\"accuracy(%)\")"
      ],
      "metadata": {
        "id": "w-4YBtWSL6ze",
        "colab": {
          "base_uri": "https://localhost:8080/",
          "height": 569
        },
        "outputId": "5ff88404-aa0e-468e-d9de-a377366d32ea"
      },
      "execution_count": 85,
      "outputs": [
        {
          "output_type": "execute_result",
          "data": {
            "text/plain": [
              "Text(0, 0.5, 'accuracy(%)')"
            ]
          },
          "metadata": {},
          "execution_count": 85
        },
        {
          "output_type": "display_data",
          "data": {
            "text/plain": [
              "<Figure size 640x480 with 1 Axes>"
            ],
            "image/png": "[encoded data removed]"
          },
          "metadata": {}
        }
      ]
    },
    {
      "cell_type": "markdown",
      "source": [
        "Evaluate Random Predictions"
      ],
      "metadata": {
        "id": "vh5p8pv7PJzD"
      }
    },
    {
      "cell_type": "code",
      "source": [
        "def predict(model:torch.nn.Module, data:list,device:torch.device=device):\n",
        "  pred_probs=[]\n",
        "  model.eval()\n",
        "  with torch.inference_mode():\n",
        "    for sample in data:\n",
        "      sample=torch.unsqueeze(sample,dim=0).to(device)#make it 4 dimensional to pass through CNN and transfer to current device\n",
        "      pred_logit=model(sample)#pass through model\n",
        "      pred_prob=torch.softmax(pred_logit.squeeze(),dim=0)#find probabilities from logits using activation function\n",
        "      pred_probs=pred_prob.append(pred_prob.to('cpu'))#transfer to cpu then append in list\n",
        "  return torch.stack(pred_probs) #stacking to convert list to tensor\n",
        "\n"
      ],
      "metadata": {
        "id": "sKab7N_LPNQd"
      },
      "execution_count": 89,
      "outputs": []
    },
    {
      "cell_type": "code",
      "source": [
        "import random\n",
        "#selecting random sample from test data to see how well model works\n",
        "random.seed(56)\n",
        "samples=[]\n",
        "labels=[]\n",
        "for sample, label in random.sample(list(test_data), k=16):\n",
        "  samples.append(sample)\n",
        "  labels.append(label)\n",
        "\n",
        "#print(samples[0].shape)\n",
        "#print(labels[0],class_names[labels[0]])"
      ],
      "metadata": {
        "id": "zTsUTzdjSfaA"
      },
      "execution_count": 90,
      "outputs": []
    },
    {
      "cell_type": "code",
      "source": [
        "#make predictions\n",
        "pred_probs= predict(model=model_2, data=samples)\n",
        "print(pred_probs[:3])"
      ],
      "metadata": {
        "id": "xSwdaXn8Ukmm",
        "colab": {
          "base_uri": "https://localhost:8080/",
          "height": 350
        },
        "outputId": "4770cd98-12a9-4714-f112-6b40171ffaaf"
      },
      "execution_count": 91,
      "outputs": [
        {
          "output_type": "error",
          "ename": "AttributeError",
          "evalue": "'Tensor' object has no attribute 'append'",
          "traceback": [
            "\u001b[0;31m---------------------------------------------------------------------------\u001b[0m",
            "\u001b[0;31mAttributeError\u001b[0m                            Traceback (most recent call last)",
            "\u001b[0;32m<ipython-input-91-246c44c36cee>\u001b[0m in \u001b[0;36m<cell line: 2>\u001b[0;34m()\u001b[0m\n\u001b[1;32m      1\u001b[0m \u001b[0;31m#make predictions\u001b[0m\u001b[0;34m\u001b[0m\u001b[0;34m\u001b[0m\u001b[0m\n\u001b[0;32m----> 2\u001b[0;31m \u001b[0mpred_probs\u001b[0m\u001b[0;34m=\u001b[0m \u001b[0mpredict\u001b[0m\u001b[0;34m(\u001b[0m\u001b[0mmodel\u001b[0m\u001b[0;34m=\u001b[0m\u001b[0mmodel_2\u001b[0m\u001b[0;34m,\u001b[0m \u001b[0mdata\u001b[0m\u001b[0;34m=\u001b[0m\u001b[0msamples\u001b[0m\u001b[0;34m)\u001b[0m\u001b[0;34m\u001b[0m\u001b[0;34m\u001b[0m\u001b[0m\n\u001b[0m\u001b[1;32m      3\u001b[0m \u001b[0mprint\u001b[0m\u001b[0;34m(\u001b[0m\u001b[0mpred_probs\u001b[0m\u001b[0;34m[\u001b[0m\u001b[0;34m:\u001b[0m\u001b[0;36m3\u001b[0m\u001b[0;34m]\u001b[0m\u001b[0;34m)\u001b[0m\u001b[0;34m\u001b[0m\u001b[0;34m\u001b[0m\u001b[0m\n",
            "\u001b[0;32m<ipython-input-89-59171177e2d0>\u001b[0m in \u001b[0;36mpredict\u001b[0;34m(model, data, device)\u001b[0m\n\u001b[1;32m      7\u001b[0m       \u001b[0mpred_logit\u001b[0m\u001b[0;34m=\u001b[0m\u001b[0mmodel\u001b[0m\u001b[0;34m(\u001b[0m\u001b[0msample\u001b[0m\u001b[0;34m)\u001b[0m\u001b[0;31m#pass through model\u001b[0m\u001b[0;34m\u001b[0m\u001b[0;34m\u001b[0m\u001b[0m\n\u001b[1;32m      8\u001b[0m       \u001b[0mpred_prob\u001b[0m\u001b[0;34m=\u001b[0m\u001b[0mtorch\u001b[0m\u001b[0;34m.\u001b[0m\u001b[0msoftmax\u001b[0m\u001b[0;34m(\u001b[0m\u001b[0mpred_logit\u001b[0m\u001b[0;34m.\u001b[0m\u001b[0msqueeze\u001b[0m\u001b[0;34m(\u001b[0m\u001b[0;34m)\u001b[0m\u001b[0;34m,\u001b[0m\u001b[0mdim\u001b[0m\u001b[0;34m=\u001b[0m\u001b[0;36m0\u001b[0m\u001b[0;34m)\u001b[0m\u001b[0;31m#find probabilities from logits using activation function\u001b[0m\u001b[0;34m\u001b[0m\u001b[0;34m\u001b[0m\u001b[0m\n\u001b[0;32m----> 9\u001b[0;31m       \u001b[0mpred_probs\u001b[0m\u001b[0;34m=\u001b[0m\u001b[0mpred_prob\u001b[0m\u001b[0;34m.\u001b[0m\u001b[0mappend\u001b[0m\u001b[0;34m(\u001b[0m\u001b[0mpred_prob\u001b[0m\u001b[0;34m.\u001b[0m\u001b[0mto\u001b[0m\u001b[0;34m(\u001b[0m\u001b[0;34m'cpu'\u001b[0m\u001b[0;34m)\u001b[0m\u001b[0;34m)\u001b[0m\u001b[0;31m#transfer to cpu then append in list\u001b[0m\u001b[0;34m\u001b[0m\u001b[0;34m\u001b[0m\u001b[0m\n\u001b[0m\u001b[1;32m     10\u001b[0m   \u001b[0;32mreturn\u001b[0m \u001b[0mtorch\u001b[0m\u001b[0;34m.\u001b[0m\u001b[0mstack\u001b[0m\u001b[0;34m(\u001b[0m\u001b[0mpred_probs\u001b[0m\u001b[0;34m)\u001b[0m \u001b[0;31m#stacking to convert list to tensor\u001b[0m\u001b[0;34m\u001b[0m\u001b[0;34m\u001b[0m\u001b[0m\n\u001b[1;32m     11\u001b[0m \u001b[0;34m\u001b[0m\u001b[0m\n",
            "\u001b[0;31mAttributeError\u001b[0m: 'Tensor' object has no attribute 'append'"
          ]
        }
      ]
    },
    {
      "cell_type": "code",
      "source": [
        "pred_class=pred_prob.argmax(dim=1)\n",
        "labels, pred_class"
      ],
      "metadata": {
        "id": "H0D0mAENVAJi"
      },
      "execution_count": null,
      "outputs": []
    },
    {
      "cell_type": "code",
      "source": [
        "#plotting predictions\n",
        "plt.figure(figsize=(4,4))\n",
        "rows=4\n",
        "cols=4\n",
        "for i,sample in enumerate(samples):\n",
        "  plt.subplot(rows,cols, i+1)\n",
        "  #plot target image\n",
        "  plt.imshow(sample.squeeze(),cmap='gray')\n",
        "  #find predicted class\n",
        "  pred_label=class_names[pred_class[i]]\n",
        "  #find true label\n",
        "  true_label=class_names[labels[i]]\n",
        "  #creating title text\n",
        "  title=f\"Predicted:{pred_label}| True:{labels}\"\n",
        "  #change title colour on being right and wrong\n",
        "  if pred_label == true_label:\n",
        "    plt.title(title, fontsize=8, c='y')#title yellow when prediction correct\n",
        "  else:\n",
        "    plt.title(title, fontsize=8, c='r')#title red when prediction wrong\n",
        "  plt.axis(False)"
      ],
      "metadata": {
        "id": "1eESzyIPB6i9"
      },
      "execution_count": null,
      "outputs": []
    },
    {
      "cell_type": "markdown",
      "source": [
        "##Make Confusion Matrix"
      ],
      "metadata": {
        "id": "gIYCLZyfI2Ft"
      }
    },
    {
      "cell_type": "code",
      "source": [
        "from tqdm.auto import tqdm\n",
        "y_preds=[]\n",
        "model_2.eval()\n",
        "  with torch.inference_mode():\n",
        "    for x,y in tqdm(test_dataloader,desc='Making Predictions'):\n",
        "      #send data to selected device\n",
        "      x,y=x.to(device), y.to(device)\n",
        "      #passing through model\n",
        "      y_logits=model(x)\n",
        "      #making prediction\n",
        "      y_pred=torch.softmax(y_logits,dim=1).argmax(dim=1)#NOTE:Softmx being done on logits dimension\n",
        "      y_preds.append(y_pred.cpu())\n",
        "#concatenate predictions into a tensor\n",
        "y_pred_tensor=torch.cat(y_preds)\n"
      ],
      "metadata": {
        "id": "Zp_J70RuI7x8"
      },
      "execution_count": null,
      "outputs": []
    },
    {
      "cell_type": "code",
      "source": [
        "#import torchmetrics and mlxtend\n",
        "try:\n",
        "  import torchmetrics, mlxtend\n",
        "  print(f\"mlxtend version:{mlxtend.__version__}\")\n",
        "  assert int(mlxtend.__version__.split('.')[1])>=19, \"mlxtend version should be equal or higher than 0.19.0\"\n",
        "except:\n",
        "  !pip install -q torchmetrics -U mlxtend #may require restarting\n",
        "  import torchmetrics, mlxtend\n",
        "  print(f\"mlxtend version:{mlxtend.__version__}\")"
      ],
      "metadata": {
        "id": "tFgzQa-ZMWi1"
      },
      "execution_count": null,
      "outputs": []
    },
    {
      "cell_type": "code",
      "source": [
        "from torchmetrics import ConfusionMatrix\n",
        "from mlxtend.plotting import plot_confusion_matrix\n",
        "\n",
        "confmat=ConfusionMatrix(num_classes=len(class_names),task='multiclass')\n",
        "confmat_tensor=confmat(pred=y_pred_tensor,\n",
        "                       target=test_data.targets)\n",
        "fig,ax=plot_confusion_matrix(conf_mat=confmat_tensor.numpy(),#matplotlib likes working with numpy\n",
        "                             class_names=class_names,#row and column number into class names\n",
        "                             figsize=(10,7))"
      ],
      "metadata": {
        "id": "H_arvKiVN9CV"
      },
      "execution_count": null,
      "outputs": []
    },
    {
      "cell_type": "markdown",
      "source": [
        "Saving our model"
      ],
      "metadata": {
        "id": "atzCMN7NTAVm"
      }
    },
    {
      "cell_type": "code",
      "source": [
        "from pathlib import Path\n",
        "MODEL_PATH = Path(\"models\")\n",
        "MODEL_PATH.mkdir(parents=True, # create parent directories if needed\n",
        "                 exist_ok=True # if models directory already exists, don't error\n",
        ")\n",
        "# Create model save path\n",
        "MODEL_NAME = \"computer_vision_model_2.pth\"\n",
        "MODEL_SAVE_PATH = MODEL_PATH / MODEL_NAME\n",
        "\n",
        "# Save the model state dict\n",
        "print(f\"Saving model to: {MODEL_SAVE_PATH}\")\n",
        "torch.save(obj=model_2.state_dict(),#only saving the state_dict as it will contain all the learned parameters\n",
        "           f=MODEL_SAVE_PATH)"
      ],
      "metadata": {
        "id": "d4yUGQshTCvd"
      },
      "execution_count": null,
      "outputs": []
    },
    {
      "cell_type": "markdown",
      "source": [
        "Loading our model"
      ],
      "metadata": {
        "id": "EdhRaIJbVzPt"
      }
    },
    {
      "cell_type": "code",
      "source": [
        "#Create another instance of the same class as he model to be loaded with same shapes\n",
        "loaded_model_2=Fashion_Model_2(input_shape=1,\n",
        "                               hidden_units=10,\n",
        "                               output_Shape=10)\n",
        "#load in the saved state\n",
        "loaded_model_2.load_state_dict(toch.load(f=MODEL_SAVE_PATH))\n",
        "\n",
        "#send model to current device\n",
        "loaded_model_2.to(device)"
      ],
      "metadata": {
        "id": "xdP6F8NWV1Hw"
      },
      "execution_count": null,
      "outputs": []
    },
    {
      "cell_type": "code",
      "source": [
        "#checking if loaded model gives same results or not\n",
        "loaded_model_2_results=evaluate_model(model=loaded_model_2,\n",
        "    data_loader=test_dataloader,\n",
        "    loss_fn=loss_fn,\n",
        "    accuracy_fn=accuracy,\n",
        "    device=device)\n",
        "loaded_model_2_results, model_2_results"
      ],
      "metadata": {
        "id": "ughoLKPFWyMK"
      },
      "execution_count": null,
      "outputs": []
    }
  ]
}
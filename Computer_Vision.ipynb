{
  "nbformat": 4,
  "nbformat_minor": 0,
  "metadata": {
    "colab": {
      "provenance": [],
      "authorship_tag": "ABX9TyO4aOdkdIiVH6YL1/GaWI9J",
      "include_colab_link": true
    },
    "kernelspec": {
      "name": "python3",
      "display_name": "Python 3"
    },
    "language_info": {
      "name": "python"
    },
    "widgets": {
      "application/vnd.jupyter.widget-state+json": {
        "abd9c40bfc8d4a1694fbb802128a1678": {
          "model_module": "@jupyter-widgets/controls",
          "model_name": "HBoxModel",
          "model_module_version": "1.5.0",
          "state": {
            "_dom_classes": [],
            "_model_module": "@jupyter-widgets/controls",
            "_model_module_version": "1.5.0",
            "_model_name": "HBoxModel",
            "_view_count": null,
            "_view_module": "@jupyter-widgets/controls",
            "_view_module_version": "1.5.0",
            "_view_name": "HBoxView",
            "box_style": "",
            "children": [
              "IPY_MODEL_9d4f91e43cdb440c88c130dc9485450b",
              "IPY_MODEL_ca62b9d310bf4d558c7421209d43591c",
              "IPY_MODEL_da17572678da428f84a4595752d3c01b"
            ],
            "layout": "IPY_MODEL_bdf02477c0124522b52aba46ce4ce6ef"
          }
        },
        "9d4f91e43cdb440c88c130dc9485450b": {
          "model_module": "@jupyter-widgets/controls",
          "model_name": "HTMLModel",
          "model_module_version": "1.5.0",
          "state": {
            "_dom_classes": [],
            "_model_module": "@jupyter-widgets/controls",
            "_model_module_version": "1.5.0",
            "_model_name": "HTMLModel",
            "_view_count": null,
            "_view_module": "@jupyter-widgets/controls",
            "_view_module_version": "1.5.0",
            "_view_name": "HTMLView",
            "description": "",
            "description_tooltip": null,
            "layout": "IPY_MODEL_dfb72689ee9f4ab29480ab4f1e60c578",
            "placeholder": "​",
            "style": "IPY_MODEL_9e15f90db87c4ad4b84dcbbfa098033b",
            "value": "100%"
          }
        },
        "ca62b9d310bf4d558c7421209d43591c": {
          "model_module": "@jupyter-widgets/controls",
          "model_name": "FloatProgressModel",
          "model_module_version": "1.5.0",
          "state": {
            "_dom_classes": [],
            "_model_module": "@jupyter-widgets/controls",
            "_model_module_version": "1.5.0",
            "_model_name": "FloatProgressModel",
            "_view_count": null,
            "_view_module": "@jupyter-widgets/controls",
            "_view_module_version": "1.5.0",
            "_view_name": "ProgressView",
            "bar_style": "success",
            "description": "",
            "description_tooltip": null,
            "layout": "IPY_MODEL_d61a36b8d9174b93a48eb6afbf7b1df6",
            "max": 3,
            "min": 0,
            "orientation": "horizontal",
            "style": "IPY_MODEL_7b91e60e70654f99a2a6e58106e6fa6d",
            "value": 3
          }
        },
        "da17572678da428f84a4595752d3c01b": {
          "model_module": "@jupyter-widgets/controls",
          "model_name": "HTMLModel",
          "model_module_version": "1.5.0",
          "state": {
            "_dom_classes": [],
            "_model_module": "@jupyter-widgets/controls",
            "_model_module_version": "1.5.0",
            "_model_name": "HTMLModel",
            "_view_count": null,
            "_view_module": "@jupyter-widgets/controls",
            "_view_module_version": "1.5.0",
            "_view_name": "HTMLView",
            "description": "",
            "description_tooltip": null,
            "layout": "IPY_MODEL_97c447125c994da081f0fc97be784d1e",
            "placeholder": "​",
            "style": "IPY_MODEL_c9abc42f8e6243a790f12393dca0c982",
            "value": " 3/3 [00:45&lt;00:00, 14.40s/it]"
          }
        },
        "bdf02477c0124522b52aba46ce4ce6ef": {
          "model_module": "@jupyter-widgets/base",
          "model_name": "LayoutModel",
          "model_module_version": "1.2.0",
          "state": {
            "_model_module": "@jupyter-widgets/base",
            "_model_module_version": "1.2.0",
            "_model_name": "LayoutModel",
            "_view_count": null,
            "_view_module": "@jupyter-widgets/base",
            "_view_module_version": "1.2.0",
            "_view_name": "LayoutView",
            "align_content": null,
            "align_items": null,
            "align_self": null,
            "border": null,
            "bottom": null,
            "display": null,
            "flex": null,
            "flex_flow": null,
            "grid_area": null,
            "grid_auto_columns": null,
            "grid_auto_flow": null,
            "grid_auto_rows": null,
            "grid_column": null,
            "grid_gap": null,
            "grid_row": null,
            "grid_template_areas": null,
            "grid_template_columns": null,
            "grid_template_rows": null,
            "height": null,
            "justify_content": null,
            "justify_items": null,
            "left": null,
            "margin": null,
            "max_height": null,
            "max_width": null,
            "min_height": null,
            "min_width": null,
            "object_fit": null,
            "object_position": null,
            "order": null,
            "overflow": null,
            "overflow_x": null,
            "overflow_y": null,
            "padding": null,
            "right": null,
            "top": null,
            "visibility": null,
            "width": null
          }
        },
        "dfb72689ee9f4ab29480ab4f1e60c578": {
          "model_module": "@jupyter-widgets/base",
          "model_name": "LayoutModel",
          "model_module_version": "1.2.0",
          "state": {
            "_model_module": "@jupyter-widgets/base",
            "_model_module_version": "1.2.0",
            "_model_name": "LayoutModel",
            "_view_count": null,
            "_view_module": "@jupyter-widgets/base",
            "_view_module_version": "1.2.0",
            "_view_name": "LayoutView",
            "align_content": null,
            "align_items": null,
            "align_self": null,
            "border": null,
            "bottom": null,
            "display": null,
            "flex": null,
            "flex_flow": null,
            "grid_area": null,
            "grid_auto_columns": null,
            "grid_auto_flow": null,
            "grid_auto_rows": null,
            "grid_column": null,
            "grid_gap": null,
            "grid_row": null,
            "grid_template_areas": null,
            "grid_template_columns": null,
            "grid_template_rows": null,
            "height": null,
            "justify_content": null,
            "justify_items": null,
            "left": null,
            "margin": null,
            "max_height": null,
            "max_width": null,
            "min_height": null,
            "min_width": null,
            "object_fit": null,
            "object_position": null,
            "order": null,
            "overflow": null,
            "overflow_x": null,
            "overflow_y": null,
            "padding": null,
            "right": null,
            "top": null,
            "visibility": null,
            "width": null
          }
        },
        "9e15f90db87c4ad4b84dcbbfa098033b": {
          "model_module": "@jupyter-widgets/controls",
          "model_name": "DescriptionStyleModel",
          "model_module_version": "1.5.0",
          "state": {
            "_model_module": "@jupyter-widgets/controls",
            "_model_module_version": "1.5.0",
            "_model_name": "DescriptionStyleModel",
            "_view_count": null,
            "_view_module": "@jupyter-widgets/base",
            "_view_module_version": "1.2.0",
            "_view_name": "StyleView",
            "description_width": ""
          }
        },
        "d61a36b8d9174b93a48eb6afbf7b1df6": {
          "model_module": "@jupyter-widgets/base",
          "model_name": "LayoutModel",
          "model_module_version": "1.2.0",
          "state": {
            "_model_module": "@jupyter-widgets/base",
            "_model_module_version": "1.2.0",
            "_model_name": "LayoutModel",
            "_view_count": null,
            "_view_module": "@jupyter-widgets/base",
            "_view_module_version": "1.2.0",
            "_view_name": "LayoutView",
            "align_content": null,
            "align_items": null,
            "align_self": null,
            "border": null,
            "bottom": null,
            "display": null,
            "flex": null,
            "flex_flow": null,
            "grid_area": null,
            "grid_auto_columns": null,
            "grid_auto_flow": null,
            "grid_auto_rows": null,
            "grid_column": null,
            "grid_gap": null,
            "grid_row": null,
            "grid_template_areas": null,
            "grid_template_columns": null,
            "grid_template_rows": null,
            "height": null,
            "justify_content": null,
            "justify_items": null,
            "left": null,
            "margin": null,
            "max_height": null,
            "max_width": null,
            "min_height": null,
            "min_width": null,
            "object_fit": null,
            "object_position": null,
            "order": null,
            "overflow": null,
            "overflow_x": null,
            "overflow_y": null,
            "padding": null,
            "right": null,
            "top": null,
            "visibility": null,
            "width": null
          }
        },
        "7b91e60e70654f99a2a6e58106e6fa6d": {
          "model_module": "@jupyter-widgets/controls",
          "model_name": "ProgressStyleModel",
          "model_module_version": "1.5.0",
          "state": {
            "_model_module": "@jupyter-widgets/controls",
            "_model_module_version": "1.5.0",
            "_model_name": "ProgressStyleModel",
            "_view_count": null,
            "_view_module": "@jupyter-widgets/base",
            "_view_module_version": "1.2.0",
            "_view_name": "StyleView",
            "bar_color": null,
            "description_width": ""
          }
        },
        "97c447125c994da081f0fc97be784d1e": {
          "model_module": "@jupyter-widgets/base",
          "model_name": "LayoutModel",
          "model_module_version": "1.2.0",
          "state": {
            "_model_module": "@jupyter-widgets/base",
            "_model_module_version": "1.2.0",
            "_model_name": "LayoutModel",
            "_view_count": null,
            "_view_module": "@jupyter-widgets/base",
            "_view_module_version": "1.2.0",
            "_view_name": "LayoutView",
            "align_content": null,
            "align_items": null,
            "align_self": null,
            "border": null,
            "bottom": null,
            "display": null,
            "flex": null,
            "flex_flow": null,
            "grid_area": null,
            "grid_auto_columns": null,
            "grid_auto_flow": null,
            "grid_auto_rows": null,
            "grid_column": null,
            "grid_gap": null,
            "grid_row": null,
            "grid_template_areas": null,
            "grid_template_columns": null,
            "grid_template_rows": null,
            "height": null,
            "justify_content": null,
            "justify_items": null,
            "left": null,
            "margin": null,
            "max_height": null,
            "max_width": null,
            "min_height": null,
            "min_width": null,
            "object_fit": null,
            "object_position": null,
            "order": null,
            "overflow": null,
            "overflow_x": null,
            "overflow_y": null,
            "padding": null,
            "right": null,
            "top": null,
            "visibility": null,
            "width": null
          }
        },
        "c9abc42f8e6243a790f12393dca0c982": {
          "model_module": "@jupyter-widgets/controls",
          "model_name": "DescriptionStyleModel",
          "model_module_version": "1.5.0",
          "state": {
            "_model_module": "@jupyter-widgets/controls",
            "_model_module_version": "1.5.0",
            "_model_name": "DescriptionStyleModel",
            "_view_count": null,
            "_view_module": "@jupyter-widgets/base",
            "_view_module_version": "1.2.0",
            "_view_name": "StyleView",
            "description_width": ""
          }
        },
        "3ec5cb32e4c24e9b9161816baa6eccf8": {
          "model_module": "@jupyter-widgets/controls",
          "model_name": "HBoxModel",
          "model_module_version": "1.5.0",
          "state": {
            "_dom_classes": [],
            "_model_module": "@jupyter-widgets/controls",
            "_model_module_version": "1.5.0",
            "_model_name": "HBoxModel",
            "_view_count": null,
            "_view_module": "@jupyter-widgets/controls",
            "_view_module_version": "1.5.0",
            "_view_name": "HBoxView",
            "box_style": "",
            "children": [
              "IPY_MODEL_08f16cf1864a4bdb83c2d141335423a4",
              "IPY_MODEL_48cf0b26626e4dfa80f79a1c3ffbf27a",
              "IPY_MODEL_7abbee51acab4cafad7989c941c72bc5"
            ],
            "layout": "IPY_MODEL_9f20a7f20c574ccbbe35df9a8bdb6759"
          }
        },
        "08f16cf1864a4bdb83c2d141335423a4": {
          "model_module": "@jupyter-widgets/controls",
          "model_name": "HTMLModel",
          "model_module_version": "1.5.0",
          "state": {
            "_dom_classes": [],
            "_model_module": "@jupyter-widgets/controls",
            "_model_module_version": "1.5.0",
            "_model_name": "HTMLModel",
            "_view_count": null,
            "_view_module": "@jupyter-widgets/controls",
            "_view_module_version": "1.5.0",
            "_view_name": "HTMLView",
            "description": "",
            "description_tooltip": null,
            "layout": "IPY_MODEL_93593950f29343f7a379f2ea67ac8844",
            "placeholder": "​",
            "style": "IPY_MODEL_fe95c2ee603a468993628ee99e3ed2c3",
            "value": "100%"
          }
        },
        "48cf0b26626e4dfa80f79a1c3ffbf27a": {
          "model_module": "@jupyter-widgets/controls",
          "model_name": "FloatProgressModel",
          "model_module_version": "1.5.0",
          "state": {
            "_dom_classes": [],
            "_model_module": "@jupyter-widgets/controls",
            "_model_module_version": "1.5.0",
            "_model_name": "FloatProgressModel",
            "_view_count": null,
            "_view_module": "@jupyter-widgets/controls",
            "_view_module_version": "1.5.0",
            "_view_name": "ProgressView",
            "bar_style": "success",
            "description": "",
            "description_tooltip": null,
            "layout": "IPY_MODEL_abd669023b5242aa8eb7413280f38c2e",
            "max": 3,
            "min": 0,
            "orientation": "horizontal",
            "style": "IPY_MODEL_91e6c920e1fa4e198f721a086ec71323",
            "value": 3
          }
        },
        "7abbee51acab4cafad7989c941c72bc5": {
          "model_module": "@jupyter-widgets/controls",
          "model_name": "HTMLModel",
          "model_module_version": "1.5.0",
          "state": {
            "_dom_classes": [],
            "_model_module": "@jupyter-widgets/controls",
            "_model_module_version": "1.5.0",
            "_model_name": "HTMLModel",
            "_view_count": null,
            "_view_module": "@jupyter-widgets/controls",
            "_view_module_version": "1.5.0",
            "_view_name": "HTMLView",
            "description": "",
            "description_tooltip": null,
            "layout": "IPY_MODEL_3e7cd6c96287499589f41d2096b1b310",
            "placeholder": "​",
            "style": "IPY_MODEL_7808cdbb75594f3fb4b0bf0163ef4164",
            "value": " 3/3 [00:34&lt;00:00, 11.59s/it]"
          }
        },
        "9f20a7f20c574ccbbe35df9a8bdb6759": {
          "model_module": "@jupyter-widgets/base",
          "model_name": "LayoutModel",
          "model_module_version": "1.2.0",
          "state": {
            "_model_module": "@jupyter-widgets/base",
            "_model_module_version": "1.2.0",
            "_model_name": "LayoutModel",
            "_view_count": null,
            "_view_module": "@jupyter-widgets/base",
            "_view_module_version": "1.2.0",
            "_view_name": "LayoutView",
            "align_content": null,
            "align_items": null,
            "align_self": null,
            "border": null,
            "bottom": null,
            "display": null,
            "flex": null,
            "flex_flow": null,
            "grid_area": null,
            "grid_auto_columns": null,
            "grid_auto_flow": null,
            "grid_auto_rows": null,
            "grid_column": null,
            "grid_gap": null,
            "grid_row": null,
            "grid_template_areas": null,
            "grid_template_columns": null,
            "grid_template_rows": null,
            "height": null,
            "justify_content": null,
            "justify_items": null,
            "left": null,
            "margin": null,
            "max_height": null,
            "max_width": null,
            "min_height": null,
            "min_width": null,
            "object_fit": null,
            "object_position": null,
            "order": null,
            "overflow": null,
            "overflow_x": null,
            "overflow_y": null,
            "padding": null,
            "right": null,
            "top": null,
            "visibility": null,
            "width": null
          }
        },
        "93593950f29343f7a379f2ea67ac8844": {
          "model_module": "@jupyter-widgets/base",
          "model_name": "LayoutModel",
          "model_module_version": "1.2.0",
          "state": {
            "_model_module": "@jupyter-widgets/base",
            "_model_module_version": "1.2.0",
            "_model_name": "LayoutModel",
            "_view_count": null,
            "_view_module": "@jupyter-widgets/base",
            "_view_module_version": "1.2.0",
            "_view_name": "LayoutView",
            "align_content": null,
            "align_items": null,
            "align_self": null,
            "border": null,
            "bottom": null,
            "display": null,
            "flex": null,
            "flex_flow": null,
            "grid_area": null,
            "grid_auto_columns": null,
            "grid_auto_flow": null,
            "grid_auto_rows": null,
            "grid_column": null,
            "grid_gap": null,
            "grid_row": null,
            "grid_template_areas": null,
            "grid_template_columns": null,
            "grid_template_rows": null,
            "height": null,
            "justify_content": null,
            "justify_items": null,
            "left": null,
            "margin": null,
            "max_height": null,
            "max_width": null,
            "min_height": null,
            "min_width": null,
            "object_fit": null,
            "object_position": null,
            "order": null,
            "overflow": null,
            "overflow_x": null,
            "overflow_y": null,
            "padding": null,
            "right": null,
            "top": null,
            "visibility": null,
            "width": null
          }
        },
        "fe95c2ee603a468993628ee99e3ed2c3": {
          "model_module": "@jupyter-widgets/controls",
          "model_name": "DescriptionStyleModel",
          "model_module_version": "1.5.0",
          "state": {
            "_model_module": "@jupyter-widgets/controls",
            "_model_module_version": "1.5.0",
            "_model_name": "DescriptionStyleModel",
            "_view_count": null,
            "_view_module": "@jupyter-widgets/base",
            "_view_module_version": "1.2.0",
            "_view_name": "StyleView",
            "description_width": ""
          }
        },
        "abd669023b5242aa8eb7413280f38c2e": {
          "model_module": "@jupyter-widgets/base",
          "model_name": "LayoutModel",
          "model_module_version": "1.2.0",
          "state": {
            "_model_module": "@jupyter-widgets/base",
            "_model_module_version": "1.2.0",
            "_model_name": "LayoutModel",
            "_view_count": null,
            "_view_module": "@jupyter-widgets/base",
            "_view_module_version": "1.2.0",
            "_view_name": "LayoutView",
            "align_content": null,
            "align_items": null,
            "align_self": null,
            "border": null,
            "bottom": null,
            "display": null,
            "flex": null,
            "flex_flow": null,
            "grid_area": null,
            "grid_auto_columns": null,
            "grid_auto_flow": null,
            "grid_auto_rows": null,
            "grid_column": null,
            "grid_gap": null,
            "grid_row": null,
            "grid_template_areas": null,
            "grid_template_columns": null,
            "grid_template_rows": null,
            "height": null,
            "justify_content": null,
            "justify_items": null,
            "left": null,
            "margin": null,
            "max_height": null,
            "max_width": null,
            "min_height": null,
            "min_width": null,
            "object_fit": null,
            "object_position": null,
            "order": null,
            "overflow": null,
            "overflow_x": null,
            "overflow_y": null,
            "padding": null,
            "right": null,
            "top": null,
            "visibility": null,
            "width": null
          }
        },
        "91e6c920e1fa4e198f721a086ec71323": {
          "model_module": "@jupyter-widgets/controls",
          "model_name": "ProgressStyleModel",
          "model_module_version": "1.5.0",
          "state": {
            "_model_module": "@jupyter-widgets/controls",
            "_model_module_version": "1.5.0",
            "_model_name": "ProgressStyleModel",
            "_view_count": null,
            "_view_module": "@jupyter-widgets/base",
            "_view_module_version": "1.2.0",
            "_view_name": "StyleView",
            "bar_color": null,
            "description_width": ""
          }
        },
        "3e7cd6c96287499589f41d2096b1b310": {
          "model_module": "@jupyter-widgets/base",
          "model_name": "LayoutModel",
          "model_module_version": "1.2.0",
          "state": {
            "_model_module": "@jupyter-widgets/base",
            "_model_module_version": "1.2.0",
            "_model_name": "LayoutModel",
            "_view_count": null,
            "_view_module": "@jupyter-widgets/base",
            "_view_module_version": "1.2.0",
            "_view_name": "LayoutView",
            "align_content": null,
            "align_items": null,
            "align_self": null,
            "border": null,
            "bottom": null,
            "display": null,
            "flex": null,
            "flex_flow": null,
            "grid_area": null,
            "grid_auto_columns": null,
            "grid_auto_flow": null,
            "grid_auto_rows": null,
            "grid_column": null,
            "grid_gap": null,
            "grid_row": null,
            "grid_template_areas": null,
            "grid_template_columns": null,
            "grid_template_rows": null,
            "height": null,
            "justify_content": null,
            "justify_items": null,
            "left": null,
            "margin": null,
            "max_height": null,
            "max_width": null,
            "min_height": null,
            "min_width": null,
            "object_fit": null,
            "object_position": null,
            "order": null,
            "overflow": null,
            "overflow_x": null,
            "overflow_y": null,
            "padding": null,
            "right": null,
            "top": null,
            "visibility": null,
            "width": null
          }
        },
        "7808cdbb75594f3fb4b0bf0163ef4164": {
          "model_module": "@jupyter-widgets/controls",
          "model_name": "DescriptionStyleModel",
          "model_module_version": "1.5.0",
          "state": {
            "_model_module": "@jupyter-widgets/controls",
            "_model_module_version": "1.5.0",
            "_model_name": "DescriptionStyleModel",
            "_view_count": null,
            "_view_module": "@jupyter-widgets/base",
            "_view_module_version": "1.2.0",
            "_view_name": "StyleView",
            "description_width": ""
          }
        }
      }
    }
  },
  "cells": [
    {
      "cell_type": "markdown",
      "metadata": {
        "id": "view-in-github",
        "colab_type": "text"
      },
      "source": [
        "<a href=\"https://colab.research.google.com/github/FrodoBaggins87/Machine_Learning/blob/main/Computer_Vision.ipynb\" target=\"_parent\"><img src=\"https://colab.research.google.com/assets/colab-badge.svg\" alt=\"Open In Colab\"/></a>"
      ]
    },
    {
      "cell_type": "markdown",
      "source": [
        "###All important libraries/modules that may be needed:\n",
        "1. torchvision\n",
        "2. torchvision.datasets: has a range of toy datasets for different purposes\n",
        "3. torchvision.models:\n",
        "4. torchvision.transforms\n",
        "5. torch.utils.data.Dataset\n",
        "6. torch.utils.data.Dataloader"
      ],
      "metadata": {
        "id": "pb9-qRn7kqTx"
      }
    },
    {
      "cell_type": "code",
      "source": [
        "!pip install torchmetrics\n"
      ],
      "metadata": {
        "colab": {
          "base_uri": "https://localhost:8080/"
        },
        "id": "11JnWVv2jsnJ",
        "outputId": "1fa9d1a3-294a-4977-eb2d-2473b4aa1491"
      },
      "execution_count": 1,
      "outputs": [
        {
          "output_type": "stream",
          "name": "stdout",
          "text": [
            "Collecting torchmetrics\n",
            "  Downloading torchmetrics-1.3.0.post0-py3-none-any.whl (840 kB)\n",
            "\u001b[2K     \u001b[90m━━━━━━━━━━━━━━━━━━━━━━━━━━━━━━━━━━━━━━━━\u001b[0m \u001b[32m840.2/840.2 kB\u001b[0m \u001b[31m6.6 MB/s\u001b[0m eta \u001b[36m0:00:00\u001b[0m\n",
            "\u001b[?25hRequirement already satisfied: numpy>1.20.0 in /usr/local/lib/python3.10/dist-packages (from torchmetrics) (1.23.5)\n",
            "Requirement already satisfied: packaging>17.1 in /usr/local/lib/python3.10/dist-packages (from torchmetrics) (23.2)\n",
            "Requirement already satisfied: torch>=1.10.0 in /usr/local/lib/python3.10/dist-packages (from torchmetrics) (2.1.0+cu121)\n",
            "Collecting lightning-utilities>=0.8.0 (from torchmetrics)\n",
            "  Downloading lightning_utilities-0.10.1-py3-none-any.whl (24 kB)\n",
            "Requirement already satisfied: setuptools in /usr/local/lib/python3.10/dist-packages (from lightning-utilities>=0.8.0->torchmetrics) (67.7.2)\n",
            "Requirement already satisfied: typing-extensions in /usr/local/lib/python3.10/dist-packages (from lightning-utilities>=0.8.0->torchmetrics) (4.5.0)\n",
            "Requirement already satisfied: filelock in /usr/local/lib/python3.10/dist-packages (from torch>=1.10.0->torchmetrics) (3.13.1)\n",
            "Requirement already satisfied: sympy in /usr/local/lib/python3.10/dist-packages (from torch>=1.10.0->torchmetrics) (1.12)\n",
            "Requirement already satisfied: networkx in /usr/local/lib/python3.10/dist-packages (from torch>=1.10.0->torchmetrics) (3.2.1)\n",
            "Requirement already satisfied: jinja2 in /usr/local/lib/python3.10/dist-packages (from torch>=1.10.0->torchmetrics) (3.1.3)\n",
            "Requirement already satisfied: fsspec in /usr/local/lib/python3.10/dist-packages (from torch>=1.10.0->torchmetrics) (2023.6.0)\n",
            "Requirement already satisfied: triton==2.1.0 in /usr/local/lib/python3.10/dist-packages (from torch>=1.10.0->torchmetrics) (2.1.0)\n",
            "Requirement already satisfied: MarkupSafe>=2.0 in /usr/local/lib/python3.10/dist-packages (from jinja2->torch>=1.10.0->torchmetrics) (2.1.4)\n",
            "Requirement already satisfied: mpmath>=0.19 in /usr/local/lib/python3.10/dist-packages (from sympy->torch>=1.10.0->torchmetrics) (1.3.0)\n",
            "Installing collected packages: lightning-utilities, torchmetrics\n",
            "Successfully installed lightning-utilities-0.10.1 torchmetrics-1.3.0.post0\n"
          ]
        }
      ]
    },
    {
      "cell_type": "code",
      "execution_count": 2,
      "metadata": {
        "colab": {
          "base_uri": "https://localhost:8080/"
        },
        "id": "G63ze2LBbP0i",
        "outputId": "99a1eb2e-91a7-434f-9a19-4105bda1e531"
      },
      "outputs": [
        {
          "output_type": "stream",
          "name": "stdout",
          "text": [
            "PyTorch version: 2.1.0+cu121 Torchvision version: 0.16.0+cu121\n"
          ]
        }
      ],
      "source": [
        "#getting libraries\n",
        "import torch\n",
        "from torch import nn\n",
        "\n",
        "#import torchvision\n",
        "import torchvision\n",
        "from torchvision import datasets\n",
        "from torchvision.transforms import ToTensor\n",
        "\n",
        "#import matplotlib\n",
        "import matplotlib.pyplot as plt\n",
        "\n",
        "#import accuracy fuction\n",
        "from torchmetrics.classification import MulticlassAccuracy\n",
        "\n",
        "#chacking versions\n",
        "print(\"PyTorch version:\", torch.__version__, \"Torchvision version:\", torchvision.__version__)"
      ]
    },
    {
      "cell_type": "markdown",
      "source": [
        "####Getting Training and Testing Data from Torchvision.datasets"
      ],
      "metadata": {
        "id": "QtgGGQEfoLps"
      }
    },
    {
      "cell_type": "code",
      "source": [
        "train_data=datasets.FashionMNIST(root=\"Fashion_Data\",#telling where to store the data\n",
        "                          train=True,#specifying if its training data or testing data\n",
        "                          download=True,#to download or not in case data not already present\n",
        "                          transform=ToTensor(),#which function to use to tranform PIL image into tensor\n",
        "                          target_transform=None#can transform labels using this#not necessary to use here as we are just assigning None value to it(labels dont need transformation)\n",
        "                          )\n",
        "test_data=datasets.FashionMNIST(root=\"Fashion_Data\",#telling where to store the data\n",
        "                          train=False,#specifying if its training data or testing data\n",
        "                          download=True,#to download or not in case data not already present\n",
        "                          transform=ToTensor(),#which function to use to tranform PIL image into tensor\n",
        "                          target_transform=None#can transform labels using this\n",
        "                          )"
      ],
      "metadata": {
        "id": "D8UZTbS6oKzE",
        "colab": {
          "base_uri": "https://localhost:8080/"
        },
        "outputId": "d322ffd2-6457-4a33-c1c7-4f1ec11ca0fa"
      },
      "execution_count": 3,
      "outputs": [
        {
          "output_type": "stream",
          "name": "stdout",
          "text": [
            "Downloading http://fashion-mnist.s3-website.eu-central-1.amazonaws.com/train-images-idx3-ubyte.gz\n",
            "Downloading http://fashion-mnist.s3-website.eu-central-1.amazonaws.com/train-images-idx3-ubyte.gz to Fashion_Data/FashionMNIST/raw/train-images-idx3-ubyte.gz\n"
          ]
        },
        {
          "output_type": "stream",
          "name": "stderr",
          "text": [
            "100%|██████████| 26421880/26421880 [00:01<00:00, 17731434.86it/s]\n"
          ]
        },
        {
          "output_type": "stream",
          "name": "stdout",
          "text": [
            "Extracting Fashion_Data/FashionMNIST/raw/train-images-idx3-ubyte.gz to Fashion_Data/FashionMNIST/raw\n",
            "\n",
            "Downloading http://fashion-mnist.s3-website.eu-central-1.amazonaws.com/train-labels-idx1-ubyte.gz\n",
            "Downloading http://fashion-mnist.s3-website.eu-central-1.amazonaws.com/train-labels-idx1-ubyte.gz to Fashion_Data/FashionMNIST/raw/train-labels-idx1-ubyte.gz\n"
          ]
        },
        {
          "output_type": "stream",
          "name": "stderr",
          "text": [
            "100%|██████████| 29515/29515 [00:00<00:00, 306196.36it/s]\n"
          ]
        },
        {
          "output_type": "stream",
          "name": "stdout",
          "text": [
            "Extracting Fashion_Data/FashionMNIST/raw/train-labels-idx1-ubyte.gz to Fashion_Data/FashionMNIST/raw\n",
            "\n",
            "Downloading http://fashion-mnist.s3-website.eu-central-1.amazonaws.com/t10k-images-idx3-ubyte.gz\n",
            "Downloading http://fashion-mnist.s3-website.eu-central-1.amazonaws.com/t10k-images-idx3-ubyte.gz to Fashion_Data/FashionMNIST/raw/t10k-images-idx3-ubyte.gz\n"
          ]
        },
        {
          "output_type": "stream",
          "name": "stderr",
          "text": [
            "100%|██████████| 4422102/4422102 [00:00<00:00, 5599935.06it/s]\n"
          ]
        },
        {
          "output_type": "stream",
          "name": "stdout",
          "text": [
            "Extracting Fashion_Data/FashionMNIST/raw/t10k-images-idx3-ubyte.gz to Fashion_Data/FashionMNIST/raw\n",
            "\n",
            "Downloading http://fashion-mnist.s3-website.eu-central-1.amazonaws.com/t10k-labels-idx1-ubyte.gz\n",
            "Downloading http://fashion-mnist.s3-website.eu-central-1.amazonaws.com/t10k-labels-idx1-ubyte.gz to Fashion_Data/FashionMNIST/raw/t10k-labels-idx1-ubyte.gz\n"
          ]
        },
        {
          "output_type": "stream",
          "name": "stderr",
          "text": [
            "100%|██████████| 5148/5148 [00:00<00:00, 18439177.62it/s]"
          ]
        },
        {
          "output_type": "stream",
          "name": "stdout",
          "text": [
            "Extracting Fashion_Data/FashionMNIST/raw/t10k-labels-idx1-ubyte.gz to Fashion_Data/FashionMNIST/raw\n",
            "\n"
          ]
        },
        {
          "output_type": "stream",
          "name": "stderr",
          "text": [
            "\n"
          ]
        }
      ]
    },
    {
      "cell_type": "code",
      "source": [
        "data, label= train_data[12]\n",
        "data.shape, label #output tells shape of data and the label which is an integer\n",
        "#first index of shape gives number of colour channels, if its 3 then image is in RGB"
      ],
      "metadata": {
        "colab": {
          "base_uri": "https://localhost:8080/"
        },
        "id": "p1PuRGJxtOtK",
        "outputId": "b253bd72-18c2-4efd-f1af-05f115113c82"
      },
      "execution_count": 4,
      "outputs": [
        {
          "output_type": "execute_result",
          "data": {
            "text/plain": [
              "(torch.Size([1, 28, 28]), 5)"
            ]
          },
          "metadata": {},
          "execution_count": 4
        }
      ]
    },
    {
      "cell_type": "markdown",
      "source": [
        "Checking Length of Train and Test dataset"
      ],
      "metadata": {
        "id": "EhVqQVw_upnO"
      }
    },
    {
      "cell_type": "code",
      "source": [
        "train_data.__len__(),test_data.__len__() #find dataset specific methods from source code"
      ],
      "metadata": {
        "colab": {
          "base_uri": "https://localhost:8080/"
        },
        "id": "d7YcSsxGvl1s",
        "outputId": "6e78da44-a3c0-4749-aaeb-99f85544098d"
      },
      "execution_count": 5,
      "outputs": [
        {
          "output_type": "execute_result",
          "data": {
            "text/plain": [
              "(60000, 10000)"
            ]
          },
          "metadata": {},
          "execution_count": 5
        }
      ]
    },
    {
      "cell_type": "code",
      "source": [
        "class_names=train_data.classes #returns a list of names of classes"
      ],
      "metadata": {
        "id": "DCjzwjWG5R5F"
      },
      "execution_count": 6,
      "outputs": []
    },
    {
      "cell_type": "markdown",
      "source": [
        "Printing the data in dataset labels"
      ],
      "metadata": {
        "id": "7YKJlsPn0Pwg"
      }
    },
    {
      "cell_type": "code",
      "source": [
        "labels=[]\n",
        "for i in range(train_data.__len__()):\n",
        "  data,label=train_data[i]\n",
        "  labels.append(label)\n",
        "set(labels)"
      ],
      "metadata": {
        "colab": {
          "base_uri": "https://localhost:8080/"
        },
        "id": "Lt1ri0WcxlTN",
        "outputId": "ec966d14-11ea-4233-b870-31112a66c484"
      },
      "execution_count": 7,
      "outputs": [
        {
          "output_type": "execute_result",
          "data": {
            "text/plain": [
              "{0, 1, 2, 3, 4, 5, 6, 7, 8, 9}"
            ]
          },
          "metadata": {},
          "execution_count": 7
        }
      ]
    },
    {
      "cell_type": "markdown",
      "source": [
        "Visualizing Data"
      ],
      "metadata": {
        "id": "kkduyJdC0kGx"
      }
    },
    {
      "cell_type": "code",
      "source": [
        "import matplotlib.pyplot as plt\n",
        "image,label=train_data[5555]\n",
        "print(f\"Image Shape:{data.shape}\")\n",
        "image=image.view(image.shape[1],image.shape[2], image.shape[0])#putting colour map in  the last index so imshow doesnt show any error\n",
        "plt.imshow(image, cmap='gray')\n",
        "plt.title(class_names[label])"
      ],
      "metadata": {
        "colab": {
          "base_uri": "https://localhost:8080/",
          "height": 487
        },
        "id": "VWajOa020mWn",
        "outputId": "b7e24d16-c33d-43dd-f0d2-96f5f5177b32"
      },
      "execution_count": 8,
      "outputs": [
        {
          "output_type": "stream",
          "name": "stdout",
          "text": [
            "Image Shape:torch.Size([1, 28, 28])\n"
          ]
        },
        {
          "output_type": "execute_result",
          "data": {
            "text/plain": [
              "Text(0.5, 1.0, 'Bag')"
            ]
          },
          "metadata": {},
          "execution_count": 8
        },
        {
          "output_type": "display_data",
          "data": {
            "text/plain": [
              "<Figure size 640x480 with 1 Axes>"
            ],
            "image/png": "[encoded data removed]"
          },
          "metadata": {}
        }
      ]
    },
    {
      "cell_type": "markdown",
      "source": [
        "Making Batches\n"
      ],
      "metadata": {
        "id": "PH8Gc3elNgMz"
      }
    },
    {
      "cell_type": "code",
      "source": [
        "from torch.utils.data import DataLoader\n",
        "#for large datasets its computationally faster to work in batches rather than working with individual datasets\n",
        "#setting batch size hyperparameter\n",
        "BATCH_SIZE= 32\n",
        "\n",
        "train_dataloader=DataLoader(train_data,#target dataset\n",
        "                            batch_size=BATCH_SIZE,#batch size\n",
        "                            shuffle=True)#whether to shuffle the datapoints or not so that neural network does not get trained on some unobvious pattern present in ordering of data points\n",
        "test_dataloader=DataLoader(test_data,\n",
        "                           batch_size=BATCH_SIZE,\n",
        "                           shuffle=False)#can make it shuffle but its not necessary and will add another calculation step in every epoch\n",
        "print(train_dataloader, test_dataloader)\n",
        "print(len(train_dataloader), len(test_dataloader))\n"
      ],
      "metadata": {
        "colab": {
          "base_uri": "https://localhost:8080/"
        },
        "id": "_JiinuZPNxPy",
        "outputId": "ca6e89ff-0ae2-431d-d8e5-b672a8a4c9d0"
      },
      "execution_count": 9,
      "outputs": [
        {
          "output_type": "stream",
          "name": "stdout",
          "text": [
            "<torch.utils.data.dataloader.DataLoader object at 0x788d10df29e0> <torch.utils.data.dataloader.DataLoader object at 0x788d10df3f10>\n",
            "1875 313\n"
          ]
        }
      ]
    },
    {
      "cell_type": "code",
      "source": [
        "#checking data inside data loader\n",
        "train_features_batch, train_labels_batch= next(iter(train_dataloader))\n",
        "train_features_batch.shape, train_labels_batch.shape"
      ],
      "metadata": {
        "colab": {
          "base_uri": "https://localhost:8080/"
        },
        "id": "ACM7NkBiSql9",
        "outputId": "94a0f4d3-b41d-4ab8-bf15-58cb08c098a4"
      },
      "execution_count": 10,
      "outputs": [
        {
          "output_type": "execute_result",
          "data": {
            "text/plain": [
              "(torch.Size([32, 1, 28, 28]), torch.Size([32]))"
            ]
          },
          "metadata": {},
          "execution_count": 10
        }
      ]
    },
    {
      "cell_type": "markdown",
      "source": [
        "###Build a baseline model\n",
        "A baseline model is the simplest model which you start with before progressing to more complicated ones."
      ],
      "metadata": {
        "id": "hDDNttMY0Ad7"
      }
    },
    {
      "cell_type": "markdown",
      "source": [
        "Here, model has one difference from previous models. A nn.Flatten layer is used to convert the data in 2 dimensions (of the image ) to one feature vector.\n",
        "The data in format[C,H,W] gets converted to [C,H*W].\n",
        "This is done because nn.Linear layer works better with vectors"
      ],
      "metadata": {
        "id": "j5-fThXi0vXO"
      }
    },
    {
      "cell_type": "code",
      "source": [
        "#to see how flatten layer works, create a flatten layer\n",
        "flatten_layer=nn.Flatten()\n",
        "x=train_features_batch[0]\n",
        "output=flatten_layer(x)\n",
        "x.shape, output.shape"
      ],
      "metadata": {
        "colab": {
          "base_uri": "https://localhost:8080/"
        },
        "id": "TIulpgni1odb",
        "outputId": "82045f5a-9104-413f-8fe6-e83c5260a53f"
      },
      "execution_count": 11,
      "outputs": [
        {
          "output_type": "execute_result",
          "data": {
            "text/plain": [
              "(torch.Size([1, 28, 28]), torch.Size([1, 784]))"
            ]
          },
          "metadata": {},
          "execution_count": 11
        }
      ]
    },
    {
      "cell_type": "code",
      "source": [
        "#building the baseline model\n",
        "from torch import nn\n",
        "class Fashion_Model_0(nn.Module):\n",
        "  def __init__(self, input_shape: int, hidden_units:int, output_shape: int):\n",
        "    super().__init__()\n",
        "    self.layers=nn.Sequential(nn.Flatten(),\n",
        "                              nn.Linear(in_features=input_shape, out_features= hidden_units),\n",
        "                              nn.Linear(in_features=hidden_units, out_features= output_shape))\n",
        "  def forward(self,x):\n",
        "    return self.layers(x)"
      ],
      "metadata": {
        "id": "wS-BBFu92xKK"
      },
      "execution_count": 12,
      "outputs": []
    },
    {
      "cell_type": "markdown",
      "source": [
        "Making first instance of the model"
      ],
      "metadata": {
        "id": "7o6JAoS78PD2"
      }
    },
    {
      "cell_type": "code",
      "source": [
        "model_0=Fashion_Model_0(input_shape=784,#as images here are 28x28=784, its hardcoded in this model\n",
        "                        hidden_units=50,\n",
        "                        output_shape=len(class_names))#output units will give one logit for wach member of class names\n",
        "model_0.to('cpu')#keep model in cpu to begin with"
      ],
      "metadata": {
        "colab": {
          "base_uri": "https://localhost:8080/"
        },
        "id": "UUtwi-C88MQG",
        "outputId": "312c9597-41a5-4332-aa19-68be17e4e0fb"
      },
      "execution_count": 13,
      "outputs": [
        {
          "output_type": "execute_result",
          "data": {
            "text/plain": [
              "Fashion_Model_0(\n",
              "  (layers): Sequential(\n",
              "    (0): Flatten(start_dim=1, end_dim=-1)\n",
              "    (1): Linear(in_features=784, out_features=50, bias=True)\n",
              "    (2): Linear(in_features=50, out_features=10, bias=True)\n",
              "  )\n",
              ")"
            ]
          },
          "metadata": {},
          "execution_count": 13
        }
      ]
    },
    {
      "cell_type": "markdown",
      "source": [
        "Defining Accuracy, Loss function and Optimizer"
      ],
      "metadata": {
        "id": "PipRiFiG-s76"
      }
    },
    {
      "cell_type": "code",
      "source": [
        "accuracy=MulticlassAccuracy(num_classes=len(class_names))\n",
        "loss_fn=nn.CrossEntropyLoss()#same as multiclass classification loss function\n",
        "optimizer=torch.optim.SGD(params=model_0.parameters(), lr=0.1)#SGD optimizer"
      ],
      "metadata": {
        "id": "AKvrh6Nu-zTA"
      },
      "execution_count": 14,
      "outputs": []
    },
    {
      "cell_type": "markdown",
      "source": [
        "Defining function to measure time taken for training model"
      ],
      "metadata": {
        "id": "1vTycCl8lH_N"
      }
    },
    {
      "cell_type": "code",
      "source": [
        "from timeit import default_timer as timer\n",
        "def print_train_time(start:float, end: float, device: torch.device=None):\n",
        "\n",
        "  \"\"\"Prints difference between start and end time.\n",
        "\n",
        "    Args:\n",
        "        start (float): Start time of computation (preferred in timeit format).\n",
        "        end (float): End time of computation.\n",
        "        device ([type], optional): Device that compute is running on. Defaults to None.\n",
        "\n",
        "    Returns:\n",
        "        float: time between start and end in seconds (higher is longer).\n",
        "    \"\"\"\n",
        "  total_time = end - start\n",
        "  print(f\"Train time on {device}: {total_time:.3f} seconds\")\n",
        "  return total_time"
      ],
      "metadata": {
        "id": "31RUq-LIlMie"
      },
      "execution_count": 15,
      "outputs": []
    },
    {
      "cell_type": "markdown",
      "source": [
        "Making training and testing loop"
      ],
      "metadata": {
        "id": "I_Kiq3xDqRMz"
      }
    },
    {
      "cell_type": "code",
      "source": [
        "!pip install tqdm # for showing progress meter"
      ],
      "metadata": {
        "id": "HNvz7SXdqUSr",
        "colab": {
          "base_uri": "https://localhost:8080/"
        },
        "outputId": "0e05c378-3e39-4753-fb06-8ac93507c31e"
      },
      "execution_count": 16,
      "outputs": [
        {
          "output_type": "stream",
          "name": "stdout",
          "text": [
            "Requirement already satisfied: tqdm in /usr/local/lib/python3.10/dist-packages (4.66.1)\n"
          ]
        }
      ]
    },
    {
      "cell_type": "code",
      "source": [
        "from tqdm.auto import tqdm\n",
        "epochs=3#keep small at first for smaller loop time\n",
        "#set random seed\n",
        "torch.manual_seed(56)\n",
        "#start the timer\n",
        "train_start_cpu=timer()\n",
        "\n",
        "for epoch in tqdm(range(epochs)):\n",
        "  print(\"Epoch:\", epoch)\n",
        "  ##Training\n",
        "  train_loss=0\n",
        "  train_acc=0\n",
        "  model_0.train() #put in training mode\n",
        "  #loop through training batches\n",
        "  for batch,(x,y) in enumerate(train_dataloader):\n",
        "    #1. Forward Pass\n",
        "    y_pred=model_0(x)\n",
        "\n",
        "    #2. Calculate Loss and Accuracy\n",
        "    loss= loss_fn(y_pred, y)\n",
        "    train_loss+=loss#add up the loss of each sample in the batch to get loss of whole batch\n",
        "    acc=accuracy(y, y_pred.argmax(dim=1))\n",
        "    train_acc+=acc\n",
        "    #3. optimizer zero grad\n",
        "    optimizer.zero_grad()\n",
        "\n",
        "    #4. Loss Backward\n",
        "    loss.backward()\n",
        "\n",
        "    #5. Optimizer Step\n",
        "    optimizer.step()\n",
        "\n",
        "    if batch%200==0:\n",
        "      amount=(batch * len(x))/len(train_dataloader.dataset)\n",
        "      print(\"Looked at\", amount, \"samples\")\n",
        "  train_loss/=len(train_dataloader)\n",
        "  train_acc/=len(test_dataloader)#FOR SOME REASON TRAINING ACCURACY COMING AS HIGHER THAN 100%, SO ITS PROBABLY NOT A RELIABLE METRIC IN THIS CASE\n",
        "  #Testing\n",
        "  test_loss,test_acc=0,0\n",
        "  model_0.eval()\n",
        "  with torch.inference_mode():\n",
        "    for x,y in test_dataloader:\n",
        "      #forward pass\n",
        "      test_pred= model_0(x)\n",
        "\n",
        "      #calculate accumulative loss\n",
        "      test_loss+=loss_fn(test_pred,y)\n",
        "\n",
        "      #calculate accumulative accuracy\n",
        "      test_acc+=accuracy(y, test_pred.argmax(dim=1))\n",
        "    #NOTE: Calculations of test metrics should be done in inference mode\n",
        "    #calculating average loss and accuracy\n",
        "    test_loss/=len(test_dataloader)\n",
        "    test_acc/= len(test_dataloader)\n",
        "  #print out whats happening\n",
        "  print(\"Training Loss:\", train_loss.item(), \"Training Accuracy:\", (train_acc.item())*100,\"%\", \"Test Loss:\", test_loss.item(), \"Test Accuracy:\", (test_acc.item()*100),\"%\")\n",
        "\n",
        "#calculate training\n",
        "train_end_cpu=timer()\n",
        "total_train_time_model_0=print_train_time(start=train_start_cpu,\n",
        "                                           end=train_end_cpu,\n",
        "                                           device=str(next(model_0.parameters()).device))"
      ],
      "metadata": {
        "id": "UtdbaNGZqZeC",
        "colab": {
          "base_uri": "https://localhost:8080/",
          "height": 691,
          "referenced_widgets": [
            "abd9c40bfc8d4a1694fbb802128a1678",
            "9d4f91e43cdb440c88c130dc9485450b",
            "ca62b9d310bf4d558c7421209d43591c",
            "da17572678da428f84a4595752d3c01b",
            "bdf02477c0124522b52aba46ce4ce6ef",
            "dfb72689ee9f4ab29480ab4f1e60c578",
            "9e15f90db87c4ad4b84dcbbfa098033b",
            "d61a36b8d9174b93a48eb6afbf7b1df6",
            "7b91e60e70654f99a2a6e58106e6fa6d",
            "97c447125c994da081f0fc97be784d1e",
            "c9abc42f8e6243a790f12393dca0c982"
          ]
        },
        "outputId": "5322d621-ac1f-42bb-867a-ed3aba0a8211"
      },
      "execution_count": 17,
      "outputs": [
        {
          "output_type": "display_data",
          "data": {
            "text/plain": [
              "  0%|          | 0/3 [00:00<?, ?it/s]"
            ],
            "application/vnd.jupyter.widget-view+json": {
              "version_major": 2,
              "version_minor": 0,
              "model_id": "abd9c40bfc8d4a1694fbb802128a1678"
            }
          },
          "metadata": {}
        },
        {
          "output_type": "stream",
          "name": "stdout",
          "text": [
            "Epoch: 0\n",
            "Looked at 0.0 samples\n",
            "Looked at 0.10666666666666667 samples\n",
            "Looked at 0.21333333333333335 samples\n",
            "Looked at 0.32 samples\n",
            "Looked at 0.4266666666666667 samples\n",
            "Looked at 0.5333333333333333 samples\n",
            "Looked at 0.64 samples\n",
            "Looked at 0.7466666666666667 samples\n",
            "Looked at 0.8533333333333334 samples\n",
            "Looked at 0.96 samples\n",
            "Training Loss: 0.5776029229164124 Training Accuracy: 467.399263381958 % Test Loss: 0.5041124820709229 Test Accuracy: 80.93627691268921 %\n",
            "Epoch: 1\n",
            "Looked at 0.0 samples\n",
            "Looked at 0.10666666666666667 samples\n",
            "Looked at 0.21333333333333335 samples\n",
            "Looked at 0.32 samples\n",
            "Looked at 0.4266666666666667 samples\n",
            "Looked at 0.5333333333333333 samples\n",
            "Looked at 0.64 samples\n",
            "Looked at 0.7466666666666667 samples\n",
            "Looked at 0.8533333333333334 samples\n",
            "Looked at 0.96 samples\n",
            "Training Loss: 0.47120413184165955 Training Accuracy: 492.42539405822754 % Test Loss: 0.495758056640625 Test Accuracy: 81.45560622215271 %\n",
            "Epoch: 2\n",
            "Looked at 0.0 samples\n",
            "Looked at 0.10666666666666667 samples\n",
            "Looked at 0.21333333333333335 samples\n",
            "Looked at 0.32 samples\n",
            "Looked at 0.4266666666666667 samples\n",
            "Looked at 0.5333333333333333 samples\n",
            "Looked at 0.64 samples\n",
            "Looked at 0.7466666666666667 samples\n",
            "Looked at 0.8533333333333334 samples\n",
            "Looked at 0.96 samples\n",
            "Training Loss: 0.4540586769580841 Training Accuracy: 496.4557647705078 % Test Loss: 0.4663640260696411 Test Accuracy: 82.21697807312012 %\n",
            "Train time on cpu: 45.383 seconds\n"
          ]
        }
      ]
    },
    {
      "cell_type": "markdown",
      "source": [
        "Functionalizing training, testing and evaluation of the model"
      ],
      "metadata": {
        "id": "z7wnd937pBpu"
      }
    },
    {
      "cell_type": "code",
      "source": [
        "#following function returns the name, loss and accuracy of model provided in input\n",
        "def evaluate_model(model:torch.nn.Module,\n",
        "                   data_loader: torch.utils.data.DataLoader,\n",
        "                   loss_fn:torch.nn.Module,\n",
        "                   accuracy_fn,\n",
        "                   device:torch.device):#will write device agnostic code below\n",
        "  loss,acc=0,0\n",
        "  model.to(device)\n",
        "  model.eval()\n",
        "  with torch.inference_mode():\n",
        "    for x,y in data_loader:\n",
        "      #making preductions\n",
        "      y_pred=model(x)\n",
        "      #accumulating loss and accuracy\n",
        "      loss+=loss_fn(y_pred,y)\n",
        "      acc+=accuracy_fn(y,y_pred.argmax(dim=1))\n",
        "    #calculate average loss and accuracy per batch\n",
        "    loss/=len(data_loader)\n",
        "    acc/=len(data_loader)\n",
        "\n",
        "    return {\"model name\": model,\n",
        "            \"model loss\": loss.item(),\n",
        "            \"model accuracy\": str(acc.item()*100)+\"%\"}"
      ],
      "metadata": {
        "id": "qcXB8D4QpYYX"
      },
      "execution_count": 18,
      "outputs": []
    },
    {
      "cell_type": "code",
      "source": [
        "#testing on model_0\n",
        "model_0_results=evaluate_model(model=model_0,data_loader=test_dataloader, loss_fn=loss_fn, accuracy_fn=accuracy,device='cpu')\n",
        "model_0_results"
      ],
      "metadata": {
        "colab": {
          "base_uri": "https://localhost:8080/"
        },
        "id": "-oDMAycJrT7p",
        "outputId": "c070812d-d81c-4cbd-b16c-1111b1d36e87"
      },
      "execution_count": 19,
      "outputs": [
        {
          "output_type": "execute_result",
          "data": {
            "text/plain": [
              "{'model name': Fashion_Model_0(\n",
              "   (layers): Sequential(\n",
              "     (0): Flatten(start_dim=1, end_dim=-1)\n",
              "     (1): Linear(in_features=784, out_features=50, bias=True)\n",
              "     (2): Linear(in_features=50, out_features=10, bias=True)\n",
              "   )\n",
              " ),\n",
              " 'model loss': 0.4663640260696411,\n",
              " 'model accuracy': '82.21697807312012%'}"
            ]
          },
          "metadata": {},
          "execution_count": 19
        }
      ]
    },
    {
      "cell_type": "code",
      "source": [
        "def training_step(model:torch.nn.Module,\n",
        "                  data_loader:torch.utils.data.DataLoader,\n",
        "                  loss_fn:torch.nn.Module,\n",
        "                  optimizer:torch.optim.Optimizer,\n",
        "                  accuracy_fn, device:torch.device):\n",
        "  train_loss,train_acc=0,0\n",
        "  model.to(device)\n",
        "  model.train()#put in training mode\n",
        "  for batch, (x,y) in enumerate(data_loader):\n",
        "    #send data to selected device\n",
        "    x,y=x.to(device), y.to(device)\n",
        "\n",
        "    #Forward Pass\n",
        "    y_pred=model(x)\n",
        "\n",
        "    #calculate loss\n",
        "    loss=loss_fn(y_pred,y)\n",
        "    train_loss+=loss\n",
        "    train_acc+=accuracy_fn(y_pred.argmax(dim=1),y)#going from logits to predicte dlabels to calculate accuracy\n",
        "\n",
        "    #optimizer zero grad\n",
        "    optimizer.zero_grad()\n",
        "\n",
        "    #Loss Backward\n",
        "    loss.backward()\n",
        "\n",
        "    #optimizer step\n",
        "    optimizer.step()\n",
        "\n",
        "  #calculate loss and accuracy per epoch\n",
        "  train_loss/=len(data_loader)\n",
        "  train_acc/= len(data_loader)\n",
        "\n",
        "  print(\"Train Loss:\", train_loss.item(), \"Train Accuracy:\", train_acc.item())"
      ],
      "metadata": {
        "id": "9lq_IRf4u6px"
      },
      "execution_count": 25,
      "outputs": []
    },
    {
      "cell_type": "code",
      "source": [
        "def testing_step(model:torch.nn.Module,\n",
        "                  data_loader:torch.utils.data.DataLoader,\n",
        "                  loss_fn:torch.nn.Module,\n",
        "                 accuracy_fn, device:torch.device):\n",
        "  test_loss,test_acc=0,0\n",
        "  model.to(device)\n",
        "  model.eval()#put in evaluation mode\n",
        "  with torch.inference_mode():\n",
        "    for batch, (x,y) in enumerate(data_loader):\n",
        "      #send data to selected device\n",
        "      x,y=x.to(device), y.to(device)\n",
        "\n",
        "      #Forward Pass\n",
        "      test_pred=model(x)\n",
        "\n",
        "      #calculate loss\n",
        "      loss=loss_fn(test_pred,y)\n",
        "      test_loss+=loss\n",
        "      test_acc+=accuracy_fn(test_pred.argmax(dim=1),y)#going from logits to predicte dlabels to calculate accuracy\n",
        "    #calculating average loss and accuracy for whole epoch\n",
        "    test_loss/=len(data_loader)\n",
        "    test_acc/= len(data_loader)\n",
        "  print(\"Test Loss:\", test_loss.item(), \"Test Accuracy:\", test_acc.item())"
      ],
      "metadata": {
        "id": "Eoq-g2Vx9irW"
      },
      "execution_count": 27,
      "outputs": []
    },
    {
      "cell_type": "markdown",
      "source": [
        "Setting up device agnostic code"
      ],
      "metadata": {
        "id": "8xDOKz1wA_4n"
      }
    },
    {
      "cell_type": "code",
      "source": [
        "device=\"cuda\" if torch.cuda.is_available() else \"cpu\"\n",
        "device"
      ],
      "metadata": {
        "id": "0QgG9wDXBGlQ",
        "colab": {
          "base_uri": "https://localhost:8080/",
          "height": 35
        },
        "outputId": "b2fc578b-f45d-4088-ba2d-269290bbd6d4"
      },
      "execution_count": 28,
      "outputs": [
        {
          "output_type": "execute_result",
          "data": {
            "text/plain": [
              "'cpu'"
            ],
            "application/vnd.google.colaboratory.intrinsic+json": {
              "type": "string"
            }
          },
          "metadata": {},
          "execution_count": 28
        }
      ]
    },
    {
      "cell_type": "markdown",
      "source": [
        "Building a better model"
      ],
      "metadata": {
        "id": "fGNYJI2C54Ar"
      }
    },
    {
      "cell_type": "code",
      "source": [
        "class Fashion_Model_1(nn.Module):\n",
        "  def __init__(self, input_shape: int, hidden_units:int, output_shape: int):\n",
        "    super().__init__()\n",
        "    self.layers=nn.Sequential(nn.Flatten(),\n",
        "                              nn.Linear(in_features=input_shape, out_features= hidden_units),\n",
        "                              nn.ReLU(),\n",
        "                              nn.Linear(in_features=hidden_units, out_features= output_shape),\n",
        "                              nn.ReLU())\n",
        "  def forward(self,x:torch.Tensor):\n",
        "    return self.layers(x)"
      ],
      "metadata": {
        "id": "x7zrBrhm550z"
      },
      "execution_count": 29,
      "outputs": []
    },
    {
      "cell_type": "markdown",
      "source": [
        "Intantiating new model"
      ],
      "metadata": {
        "id": "b5jAxOjU7z5Q"
      }
    },
    {
      "cell_type": "code",
      "source": [
        "model_1=Fashion_Model_1(input_shape=784,#as images here are 28x28=784, its hardcoded in this model\n",
        "                        hidden_units=50,\n",
        "                        output_shape=len(class_names))#output units will give one logit for wach member of class names\n",
        "model_1.to(device)\n"
      ],
      "metadata": {
        "colab": {
          "base_uri": "https://localhost:8080/"
        },
        "id": "jf7QMumo72iK",
        "outputId": "04b8956f-83a0-4fc6-be73-984977dd91e1"
      },
      "execution_count": 32,
      "outputs": [
        {
          "output_type": "execute_result",
          "data": {
            "text/plain": [
              "Fashion_Model_1(\n",
              "  (layers): Sequential(\n",
              "    (0): Flatten(start_dim=1, end_dim=-1)\n",
              "    (1): Linear(in_features=784, out_features=50, bias=True)\n",
              "    (2): ReLU()\n",
              "    (3): Linear(in_features=50, out_features=10, bias=True)\n",
              "    (4): ReLU()\n",
              "  )\n",
              ")"
            ]
          },
          "metadata": {},
          "execution_count": 32
        }
      ]
    },
    {
      "cell_type": "code",
      "source": [
        "accuracy=MulticlassAccuracy(num_classes=len(class_names))\n",
        "loss_fn=nn.CrossEntropyLoss()#same as multiclass classification loss function\n",
        "optimizer=torch.optim.SGD(params=model_1.parameters(), lr=0.25)#SGD optimizer"
      ],
      "metadata": {
        "id": "uPV10Yo1MTQV"
      },
      "execution_count": 39,
      "outputs": []
    },
    {
      "cell_type": "code",
      "source": [
        "#training model_1\n",
        "epochs=3#keep small at first for smaller loop time\n",
        "#set random seed\n",
        "torch.manual_seed(56)\n",
        "#start the timer\n",
        "model_1_train_start_cpu=timer()\n",
        "\n",
        "for epoch in tqdm(range(epochs)):\n",
        "  print(\"Epoch:\", epoch)\n",
        "  training_step(data_loader=train_dataloader,\n",
        "             model=model_1,\n",
        "             loss_fn=loss_fn,\n",
        "             optimizer=optimizer,\n",
        "             accuracy_fn=accuracy,\n",
        "                device=device)\n",
        "  testing_step(data_loader=test_dataloader,\n",
        "             model=model_1,\n",
        "             loss_fn=loss_fn,\n",
        "             accuracy_fn=accuracy,\n",
        "               device=device)\n",
        "model_1_train_end_cpu=timer()\n",
        "train_time_model_1=print_train_time(end=model_1_train_end_cpu,start=model_1_train_start_cpu,device=device)\n",
        "#on cpu 3 epochs taking approx 35 sec"
      ],
      "metadata": {
        "colab": {
          "base_uri": "https://localhost:8080/",
          "height": 223,
          "referenced_widgets": [
            "3ec5cb32e4c24e9b9161816baa6eccf8",
            "08f16cf1864a4bdb83c2d141335423a4",
            "48cf0b26626e4dfa80f79a1c3ffbf27a",
            "7abbee51acab4cafad7989c941c72bc5",
            "9f20a7f20c574ccbbe35df9a8bdb6759",
            "93593950f29343f7a379f2ea67ac8844",
            "fe95c2ee603a468993628ee99e3ed2c3",
            "abd669023b5242aa8eb7413280f38c2e",
            "91e6c920e1fa4e198f721a086ec71323",
            "3e7cd6c96287499589f41d2096b1b310",
            "7808cdbb75594f3fb4b0bf0163ef4164"
          ]
        },
        "id": "GkU8LXUTEG0V",
        "outputId": "13a1bb8c-142f-4f35-d5b0-6e1129085c06"
      },
      "execution_count": 40,
      "outputs": [
        {
          "output_type": "display_data",
          "data": {
            "text/plain": [
              "  0%|          | 0/3 [00:00<?, ?it/s]"
            ],
            "application/vnd.jupyter.widget-view+json": {
              "version_major": 2,
              "version_minor": 0,
              "model_id": "3ec5cb32e4c24e9b9161816baa6eccf8"
            }
          },
          "metadata": {}
        },
        {
          "output_type": "stream",
          "name": "stdout",
          "text": [
            "Epoch: 0\n",
            "Train Loss: 0.9518004059791565 Train Accuracy: 0.6332693099975586\n",
            "Test Loss: 0.6933557391166687 Test Accuracy: 0.7322745323181152\n",
            "Epoch: 1\n",
            "Train Loss: 0.6593425869941711 Train Accuracy: 0.7408906817436218\n",
            "Test Loss: 0.7089342474937439 Test Accuracy: 0.7293848991394043\n",
            "Epoch: 2\n",
            "Train Loss: 0.412785142660141 Train Accuracy: 0.8402373194694519\n",
            "Test Loss: 0.49880948662757874 Test Accuracy: 0.8219947814941406\n",
            "Train time on cpu: 34.842 seconds\n"
          ]
        }
      ]
    }
  ]
}
{
  "nbformat": 4,
  "nbformat_minor": 0,
  "metadata": {
    "colab": {
      "provenance": [],
      "authorship_tag": "ABX9TyNwHFy6ArrBIjHMimSm14O1",
      "include_colab_link": true
    },
    "kernelspec": {
      "name": "python3",
      "display_name": "Python 3"
    },
    "language_info": {
      "name": "python"
    }
  },
  "cells": [
    {
      "cell_type": "markdown",
      "metadata": {
        "id": "view-in-github",
        "colab_type": "text"
      },
      "source": [
        "<a href=\"https://colab.research.google.com/github/FrodoBaggins87/Machine_Learning/blob/main/Computer_Vision.ipynb\" target=\"_parent\"><img src=\"https://colab.research.google.com/assets/colab-badge.svg\" alt=\"Open In Colab\"/></a>"
      ]
    },
    {
      "cell_type": "markdown",
      "source": [
        "###All important libraries/modules that may be needed:\n",
        "1. torchvision\n",
        "2. torchvision.datasets: has a range of toy datasets for different purposes\n",
        "3. torchvision.models:\n",
        "4. torchvision.transforms\n",
        "5. torch.utils.data.Dataset\n",
        "6. torch.utils.data.Dataloader"
      ],
      "metadata": {
        "id": "pb9-qRn7kqTx"
      }
    },
    {
      "cell_type": "code",
      "source": [
        "!pip install torchmetrics\n"
      ],
      "metadata": {
        "colab": {
          "base_uri": "https://localhost:8080/"
        },
        "id": "11JnWVv2jsnJ",
        "outputId": "dc39ca41-32c6-452b-9f5c-d60e97e522ab"
      },
      "execution_count": null,
      "outputs": [
        {
          "output_type": "stream",
          "name": "stdout",
          "text": [
            "Requirement already satisfied: torchmetrics in /usr/local/lib/python3.10/dist-packages (1.3.0.post0)\n",
            "Requirement already satisfied: numpy>1.20.0 in /usr/local/lib/python3.10/dist-packages (from torchmetrics) (1.23.5)\n",
            "Requirement already satisfied: packaging>17.1 in /usr/local/lib/python3.10/dist-packages (from torchmetrics) (23.2)\n",
            "Requirement already satisfied: torch>=1.10.0 in /usr/local/lib/python3.10/dist-packages (from torchmetrics) (2.1.0+cu121)\n",
            "Requirement already satisfied: lightning-utilities>=0.8.0 in /usr/local/lib/python3.10/dist-packages (from torchmetrics) (0.10.1)\n",
            "Requirement already satisfied: setuptools in /usr/local/lib/python3.10/dist-packages (from lightning-utilities>=0.8.0->torchmetrics) (67.7.2)\n",
            "Requirement already satisfied: typing-extensions in /usr/local/lib/python3.10/dist-packages (from lightning-utilities>=0.8.0->torchmetrics) (4.5.0)\n",
            "Requirement already satisfied: filelock in /usr/local/lib/python3.10/dist-packages (from torch>=1.10.0->torchmetrics) (3.13.1)\n",
            "Requirement already satisfied: sympy in /usr/local/lib/python3.10/dist-packages (from torch>=1.10.0->torchmetrics) (1.12)\n",
            "Requirement already satisfied: networkx in /usr/local/lib/python3.10/dist-packages (from torch>=1.10.0->torchmetrics) (3.2.1)\n",
            "Requirement already satisfied: jinja2 in /usr/local/lib/python3.10/dist-packages (from torch>=1.10.0->torchmetrics) (3.1.3)\n",
            "Requirement already satisfied: fsspec in /usr/local/lib/python3.10/dist-packages (from torch>=1.10.0->torchmetrics) (2023.6.0)\n",
            "Requirement already satisfied: triton==2.1.0 in /usr/local/lib/python3.10/dist-packages (from torch>=1.10.0->torchmetrics) (2.1.0)\n",
            "Requirement already satisfied: MarkupSafe>=2.0 in /usr/local/lib/python3.10/dist-packages (from jinja2->torch>=1.10.0->torchmetrics) (2.1.3)\n",
            "Requirement already satisfied: mpmath>=0.19 in /usr/local/lib/python3.10/dist-packages (from sympy->torch>=1.10.0->torchmetrics) (1.3.0)\n"
          ]
        }
      ]
    },
    {
      "cell_type": "code",
      "execution_count": null,
      "metadata": {
        "colab": {
          "base_uri": "https://localhost:8080/"
        },
        "id": "G63ze2LBbP0i",
        "outputId": "b0cd7772-de0b-4401-8579-332c543b98c2"
      },
      "outputs": [
        {
          "output_type": "stream",
          "name": "stdout",
          "text": [
            "PyTorch version: 2.1.0+cu121 Torchvision version: 0.16.0+cu121\n"
          ]
        }
      ],
      "source": [
        "#getting libraries\n",
        "import torch\n",
        "from torch import nn\n",
        "\n",
        "#import torchvision\n",
        "import torchvision\n",
        "from torchvision import datasets\n",
        "from torchvision.transforms import ToTensor\n",
        "\n",
        "#import matplotlib\n",
        "import matplotlib.pyplot as plt\n",
        "\n",
        "#import accuracy fuction\n",
        "from torchmetrics.classification import MulticlassAccuracy\n",
        "\n",
        "#chacking versions\n",
        "print(\"PyTorch version:\", torch.__version__, \"Torchvision version:\", torchvision.__version__)"
      ]
    },
    {
      "cell_type": "markdown",
      "source": [
        "####Getting Training and Testing Data from Torchvision.datasets"
      ],
      "metadata": {
        "id": "QtgGGQEfoLps"
      }
    },
    {
      "cell_type": "code",
      "source": [
        "train_data=datasets.FashionMNIST(root=\"Fashion_Data\",#telling where to store the data\n",
        "                          train=True,#specifying if its training data or testing data\n",
        "                          download=True,#to download or not in case data not already present\n",
        "                          transform=ToTensor(),#which function to use to tranform PIL image into tensor\n",
        "                          target_transform=None#can transform labels using this#not necessary to use here as we are just assigning None value to it(labels dont need transformation)\n",
        "                          )\n",
        "test_data=datasets.FashionMNIST(root=\"Fashion_Data\",#telling where to store the data\n",
        "                          train=False,#specifying if its training data or testing data\n",
        "                          download=True,#to download or not in case data not already present\n",
        "                          transform=ToTensor(),#which function to use to tranform PIL image into tensor\n",
        "                          target_transform=None#can transform labels using this\n",
        "                          )"
      ],
      "metadata": {
        "id": "D8UZTbS6oKzE",
        "colab": {
          "base_uri": "https://localhost:8080/"
        },
        "outputId": "7a3e9ffb-4329-49ef-dc50-e21c828d9cb9"
      },
      "execution_count": null,
      "outputs": [
        {
          "output_type": "stream",
          "name": "stdout",
          "text": [
            "Downloading http://fashion-mnist.s3-website.eu-central-1.amazonaws.com/train-images-idx3-ubyte.gz\n",
            "Downloading http://fashion-mnist.s3-website.eu-central-1.amazonaws.com/train-images-idx3-ubyte.gz to Fashion_Data/FashionMNIST/raw/train-images-idx3-ubyte.gz\n"
          ]
        },
        {
          "output_type": "stream",
          "name": "stderr",
          "text": [
            "100%|██████████| 26421880/26421880 [00:01<00:00, 17487590.54it/s]\n"
          ]
        },
        {
          "output_type": "stream",
          "name": "stdout",
          "text": [
            "Extracting Fashion_Data/FashionMNIST/raw/train-images-idx3-ubyte.gz to Fashion_Data/FashionMNIST/raw\n",
            "\n",
            "Downloading http://fashion-mnist.s3-website.eu-central-1.amazonaws.com/train-labels-idx1-ubyte.gz\n",
            "Downloading http://fashion-mnist.s3-website.eu-central-1.amazonaws.com/train-labels-idx1-ubyte.gz to Fashion_Data/FashionMNIST/raw/train-labels-idx1-ubyte.gz\n"
          ]
        },
        {
          "output_type": "stream",
          "name": "stderr",
          "text": [
            "100%|██████████| 29515/29515 [00:00<00:00, 300626.25it/s]\n"
          ]
        },
        {
          "output_type": "stream",
          "name": "stdout",
          "text": [
            "Extracting Fashion_Data/FashionMNIST/raw/train-labels-idx1-ubyte.gz to Fashion_Data/FashionMNIST/raw\n",
            "\n",
            "Downloading http://fashion-mnist.s3-website.eu-central-1.amazonaws.com/t10k-images-idx3-ubyte.gz\n",
            "Downloading http://fashion-mnist.s3-website.eu-central-1.amazonaws.com/t10k-images-idx3-ubyte.gz to Fashion_Data/FashionMNIST/raw/t10k-images-idx3-ubyte.gz\n"
          ]
        },
        {
          "output_type": "stream",
          "name": "stderr",
          "text": [
            "100%|██████████| 4422102/4422102 [00:00<00:00, 5497748.93it/s]\n"
          ]
        },
        {
          "output_type": "stream",
          "name": "stdout",
          "text": [
            "Extracting Fashion_Data/FashionMNIST/raw/t10k-images-idx3-ubyte.gz to Fashion_Data/FashionMNIST/raw\n",
            "\n",
            "Downloading http://fashion-mnist.s3-website.eu-central-1.amazonaws.com/t10k-labels-idx1-ubyte.gz\n",
            "Downloading http://fashion-mnist.s3-website.eu-central-1.amazonaws.com/t10k-labels-idx1-ubyte.gz to Fashion_Data/FashionMNIST/raw/t10k-labels-idx1-ubyte.gz\n"
          ]
        },
        {
          "output_type": "stream",
          "name": "stderr",
          "text": [
            "100%|██████████| 5148/5148 [00:00<00:00, 13657354.20it/s]"
          ]
        },
        {
          "output_type": "stream",
          "name": "stdout",
          "text": [
            "Extracting Fashion_Data/FashionMNIST/raw/t10k-labels-idx1-ubyte.gz to Fashion_Data/FashionMNIST/raw\n",
            "\n"
          ]
        },
        {
          "output_type": "stream",
          "name": "stderr",
          "text": [
            "\n"
          ]
        }
      ]
    },
    {
      "cell_type": "code",
      "source": [
        "data, label= train_data[12]\n",
        "data.shape, label #output tells shape of data and the label which is an integer\n",
        "#first index of shape gives number of colour channels, if its 3 then image is in RGB"
      ],
      "metadata": {
        "colab": {
          "base_uri": "https://localhost:8080/"
        },
        "id": "p1PuRGJxtOtK",
        "outputId": "5aeff58e-322d-43ae-9c70-a6a6a63547f6"
      },
      "execution_count": null,
      "outputs": [
        {
          "output_type": "execute_result",
          "data": {
            "text/plain": [
              "(torch.Size([1, 28, 28]), 5)"
            ]
          },
          "metadata": {},
          "execution_count": 6
        }
      ]
    },
    {
      "cell_type": "markdown",
      "source": [
        "Checking Length of Train and Test dataset"
      ],
      "metadata": {
        "id": "EhVqQVw_upnO"
      }
    },
    {
      "cell_type": "code",
      "source": [
        "train_data.__len__(),test_data.__len__() #find dataset specific methods from source code"
      ],
      "metadata": {
        "colab": {
          "base_uri": "https://localhost:8080/"
        },
        "id": "d7YcSsxGvl1s",
        "outputId": "6bacdcff-0829-4d59-9b95-2b4b39d02698"
      },
      "execution_count": null,
      "outputs": [
        {
          "output_type": "execute_result",
          "data": {
            "text/plain": [
              "(60000, 10000)"
            ]
          },
          "metadata": {},
          "execution_count": 7
        }
      ]
    },
    {
      "cell_type": "code",
      "source": [
        "class_names=train_data.classes #returns a list of names of classes"
      ],
      "metadata": {
        "id": "DCjzwjWG5R5F"
      },
      "execution_count": null,
      "outputs": []
    },
    {
      "cell_type": "markdown",
      "source": [
        "Printing the data in dataset labels"
      ],
      "metadata": {
        "id": "7YKJlsPn0Pwg"
      }
    },
    {
      "cell_type": "code",
      "source": [
        "labels=[]\n",
        "for i in range(train_data.__len__()):\n",
        "  data,label=train_data[i]\n",
        "  labels.append(label)\n",
        "set(labels)"
      ],
      "metadata": {
        "colab": {
          "base_uri": "https://localhost:8080/"
        },
        "id": "Lt1ri0WcxlTN",
        "outputId": "c5f984eb-e2c0-4551-e73c-cb0fe3e3a39d"
      },
      "execution_count": null,
      "outputs": [
        {
          "output_type": "execute_result",
          "data": {
            "text/plain": [
              "{0, 1, 2, 3, 4, 5, 6, 7, 8, 9}"
            ]
          },
          "metadata": {},
          "execution_count": 9
        }
      ]
    },
    {
      "cell_type": "markdown",
      "source": [
        "Visualizing Data"
      ],
      "metadata": {
        "id": "kkduyJdC0kGx"
      }
    },
    {
      "cell_type": "code",
      "source": [
        "import matplotlib.pyplot as plt\n",
        "image,label=train_data[5555]\n",
        "print(f\"Image Shape:{data.shape}\")\n",
        "image=image.view(image.shape[1],image.shape[2], image.shape[0])#putting colour map in  the last index so imshow doesnt show any error\n",
        "plt.imshow(image, cmap='gray')\n",
        "plt.title(class_names[label])"
      ],
      "metadata": {
        "colab": {
          "base_uri": "https://localhost:8080/",
          "height": 487
        },
        "id": "VWajOa020mWn",
        "outputId": "65488881-cbd0-4539-fa27-a206f35aef21"
      },
      "execution_count": null,
      "outputs": [
        {
          "output_type": "stream",
          "name": "stdout",
          "text": [
            "Image Shape:torch.Size([1, 28, 28])\n"
          ]
        },
        {
          "output_type": "execute_result",
          "data": {
            "text/plain": [
              "Text(0.5, 1.0, 'Bag')"
            ]
          },
          "metadata": {},
          "execution_count": 10
        },
        {
          "output_type": "display_data",
          "data": {
            "text/plain": [
              "<Figure size 640x480 with 1 Axes>"
            ],
            "image/png": "[encoded data removed]"
          },
          "metadata": {}
        }
      ]
    },
    {
      "cell_type": "markdown",
      "source": [
        "Making Batches\n"
      ],
      "metadata": {
        "id": "PH8Gc3elNgMz"
      }
    },
    {
      "cell_type": "code",
      "source": [
        "from torch.utils.data import DataLoader\n",
        "#for large datasets its computationally faster to work in batches rather than working with individual datasets\n",
        "#setting batch size hyperparameter\n",
        "BATCH_SIZE= 32\n",
        "\n",
        "train_dataloader=DataLoader(train_data,#target dataset\n",
        "                            batch_size=BATCH_SIZE,#batch size\n",
        "                            shuffle=True)#whether to shuffle the datapoints or not so that neural network does not get trained on some unobvious pattern present in ordering of data points\n",
        "test_dataloader=DataLoader(test_data,\n",
        "                           batch_size=BATCH_SIZE,\n",
        "                           shuffle=False)#can make it shuffle but its not necessary and will add another calculation step in every epoch\n",
        "print(train_dataloader, test_dataloader)\n",
        "print(len(train_dataloader), len(test_dataloader))\n"
      ],
      "metadata": {
        "colab": {
          "base_uri": "https://localhost:8080/"
        },
        "id": "_JiinuZPNxPy",
        "outputId": "aff405c2-5c1c-46aa-c987-2b2fa48d5acf"
      },
      "execution_count": null,
      "outputs": [
        {
          "output_type": "stream",
          "name": "stdout",
          "text": [
            "<torch.utils.data.dataloader.DataLoader object at 0x7e1f0a0af730> <torch.utils.data.dataloader.DataLoader object at 0x7e1f0a0ade40>\n",
            "1875 313\n"
          ]
        }
      ]
    },
    {
      "cell_type": "code",
      "source": [
        "#checking data inside data loader\n",
        "train_features_batch, train_labels_batch= next(iter(train_dataloader))\n",
        "train_features_batch.shape, train_labels_batch.shape"
      ],
      "metadata": {
        "colab": {
          "base_uri": "https://localhost:8080/"
        },
        "id": "ACM7NkBiSql9",
        "outputId": "5db5b106-4ebc-460c-e151-74f11e5c888f"
      },
      "execution_count": null,
      "outputs": [
        {
          "output_type": "execute_result",
          "data": {
            "text/plain": [
              "(torch.Size([32, 1, 28, 28]), torch.Size([32]))"
            ]
          },
          "metadata": {},
          "execution_count": 13
        }
      ]
    },
    {
      "cell_type": "markdown",
      "source": [
        "###Build a baseline model\n",
        "A baseline model is the simplest model which you start with before progressing to more complicated ones."
      ],
      "metadata": {
        "id": "hDDNttMY0Ad7"
      }
    },
    {
      "cell_type": "markdown",
      "source": [
        "Here, model has one difference from previous models. A nn.Flatten layer is used to convert the data in 2 dimensions (of the image ) to one feature vector.\n",
        "The data in format[C,H,W] gets converted to [C,H*W].\n",
        "This is done because nn.Linear layer works better with vectors"
      ],
      "metadata": {
        "id": "j5-fThXi0vXO"
      }
    },
    {
      "cell_type": "code",
      "source": [
        "#to see how flatten layer works, create a flatten layer\n",
        "flatten_layer=nn.Flatten()\n",
        "x=train_features_batch[0]\n",
        "output=flatten_layer(x)\n",
        "x.shape, output.shape"
      ],
      "metadata": {
        "colab": {
          "base_uri": "https://localhost:8080/"
        },
        "id": "TIulpgni1odb",
        "outputId": "7758789b-56dd-4c66-f6cc-b52699f575ce"
      },
      "execution_count": null,
      "outputs": [
        {
          "output_type": "execute_result",
          "data": {
            "text/plain": [
              "(torch.Size([1, 28, 28]), torch.Size([1, 784]))"
            ]
          },
          "metadata": {},
          "execution_count": 14
        }
      ]
    },
    {
      "cell_type": "code",
      "source": [
        "#building the baseline model\n",
        "from torch import nn\n",
        "class Fashion_Model_0(nn.Module):\n",
        "  def __init__(self, input_shape: int, hidden_units:int, output_shape: int):\n",
        "    super().__init__()\n",
        "    self.layers=nn.Sequential(nn.Flatten(),\n",
        "                              nn.Linear(in_features=input_shape, out_features= hidden_units),\n",
        "                              nn.Linear(in_features=hidden_units, out_features= output_shape))\n",
        "  def forward(self,x):\n",
        "    return self.layers(x)"
      ],
      "metadata": {
        "id": "wS-BBFu92xKK"
      },
      "execution_count": null,
      "outputs": []
    },
    {
      "cell_type": "markdown",
      "source": [
        "Making first instance of the model"
      ],
      "metadata": {
        "id": "7o6JAoS78PD2"
      }
    },
    {
      "cell_type": "code",
      "source": [
        "model_0=Fashion_Model_0(input_shape=784,#as images here are 28x28=784, its hardcoded in this model\n",
        "                        hidden_units=50,\n",
        "                        output_shape=len(class_names))#output units will give one logit for wach member of class names\n",
        "model_0.to('cpu')#keep model in cpu to begin with"
      ],
      "metadata": {
        "colab": {
          "base_uri": "https://localhost:8080/"
        },
        "id": "UUtwi-C88MQG",
        "outputId": "733c268b-1ce8-48ff-ff61-963f7bf2a17d"
      },
      "execution_count": null,
      "outputs": [
        {
          "output_type": "execute_result",
          "data": {
            "text/plain": [
              "Fashion_Model_0(\n",
              "  (layers): Sequential(\n",
              "    (0): Flatten(start_dim=1, end_dim=-1)\n",
              "    (1): Linear(in_features=784, out_features=50, bias=True)\n",
              "    (2): Linear(in_features=50, out_features=10, bias=True)\n",
              "  )\n",
              ")"
            ]
          },
          "metadata": {},
          "execution_count": 16
        }
      ]
    },
    {
      "cell_type": "markdown",
      "source": [
        "Defining Accuracy, Loss function and Optimizer"
      ],
      "metadata": {
        "id": "PipRiFiG-s76"
      }
    },
    {
      "cell_type": "code",
      "source": [
        "accuracy=MulticlassAccuracy(num_classes=len(class_names))\n",
        "loss_fn=nn.CrossEntropyLoss()#same as multiclass classification loss function\n",
        "optimizer=torch.optim.SGD(params=model_0.parameters(), lr=0.1)#SGD optimizer"
      ],
      "metadata": {
        "id": "AKvrh6Nu-zTA"
      },
      "execution_count": null,
      "outputs": []
    },
    {
      "cell_type": "markdown",
      "source": [
        "Defining function to measure time taken for training model"
      ],
      "metadata": {
        "id": "1vTycCl8lH_N"
      }
    },
    {
      "cell_type": "code",
      "source": [
        "from timeit import default_timer as timer\n",
        "def print_train_time(start:float, end: float, device: torch.device=None):\n",
        "\n",
        "  \"\"\"Prints difference between start and end time.\n",
        "\n",
        "    Args:\n",
        "        start (float): Start time of computation (preferred in timeit format).\n",
        "        end (float): End time of computation.\n",
        "        device ([type], optional): Device that compute is running on. Defaults to None.\n",
        "\n",
        "    Returns:\n",
        "        float: time between start and end in seconds (higher is longer).\n",
        "    \"\"\"\n",
        "  total_time = end - start\n",
        "  print(f\"Train time on {device}: {total_time:.3f} seconds\")\n",
        "  return total_time"
      ],
      "metadata": {
        "id": "31RUq-LIlMie"
      },
      "execution_count": null,
      "outputs": []
    },
    {
      "cell_type": "markdown",
      "source": [
        "Making training and testing loop"
      ],
      "metadata": {
        "id": "I_Kiq3xDqRMz"
      }
    },
    {
      "cell_type": "code",
      "source": [
        "!pip install tqdm# for showing progress meter"
      ],
      "metadata": {
        "id": "HNvz7SXdqUSr"
      },
      "execution_count": null,
      "outputs": []
    },
    {
      "cell_type": "code",
      "source": [
        "from tqdm.auto import tqdm\n",
        "epochs=3#keep small at first for smaller loop time\n",
        "#set random seed\n",
        "torch.manual_seed(56)\n",
        "#start the timer\n",
        "time_start_cpu=timer()\n",
        "\n",
        "for epoch in tqdm(range(epochs)):\n",
        "  print(\"Epoch:\", epoch)\n",
        "  ##Training\n",
        "  train_loss=0\n",
        "  model_0.train()\n",
        "  #loop through training batches\n",
        "  for batch,(x,y) in enumerate(train_dataloader):\n",
        "    #1. Forward Pass\n",
        "    y_pred=model_0(x)\n",
        "\n",
        "    #2. Calculate Loss\n",
        "    loss= loss_fn(y_pred, y)\n",
        "    train_loss+=loss#add up the loss of each sample in the batch to get loss of whole batch\n",
        "\n",
        "    #3. optimizer zero grad\n",
        "    optimizer.zero_grad()\n",
        "\n",
        "    #4. Loss Backward\n",
        "    loss.backward()\n",
        "\n",
        "    #5. Optimizer Step\n",
        "    optimizer.step()\n",
        "\n",
        "    if batch%50==0:\n",
        "      amount=(batch * len(x))/len(train_dataloader.dataset)\n",
        "      print(\"Looked at\", amount, \"samples\")\n",
        "\n"
      ],
      "metadata": {
        "id": "UtdbaNGZqZeC"
      },
      "execution_count": null,
      "outputs": []
    }
  ]
}
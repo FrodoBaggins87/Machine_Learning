{
  "nbformat": 4,
  "nbformat_minor": 0,
  "metadata": {
    "colab": {
      "provenance": [],
      "gpuType": "T4",
      "authorship_tag": "ABX9TyP8+DwTV7Xuhq85vKDlEYX3",
      "include_colab_link": true
    },
    "kernelspec": {
      "name": "python3",
      "display_name": "Python 3"
    },
    "language_info": {
      "name": "python"
    },
    "accelerator": "GPU",
    "widgets": {
      "application/vnd.jupyter.widget-state+json": {
        "2ab2031530ae4c3dbd50b4326d81e303": {
          "model_module": "@jupyter-widgets/controls",
          "model_name": "HBoxModel",
          "model_module_version": "1.5.0",
          "state": {
            "_dom_classes": [],
            "_model_module": "@jupyter-widgets/controls",
            "_model_module_version": "1.5.0",
            "_model_name": "HBoxModel",
            "_view_count": null,
            "_view_module": "@jupyter-widgets/controls",
            "_view_module_version": "1.5.0",
            "_view_name": "HBoxView",
            "box_style": "",
            "children": [
              "IPY_MODEL_87641285c3784048ba93311a678c8f66",
              "IPY_MODEL_28d5c907db0046059ca7f3414f4b3740",
              "IPY_MODEL_c0b4866ab8ae48c1a57ddfa43562469c"
            ],
            "layout": "IPY_MODEL_75bbde1581504921afb9f5095d61bd21"
          }
        },
        "87641285c3784048ba93311a678c8f66": {
          "model_module": "@jupyter-widgets/controls",
          "model_name": "HTMLModel",
          "model_module_version": "1.5.0",
          "state": {
            "_dom_classes": [],
            "_model_module": "@jupyter-widgets/controls",
            "_model_module_version": "1.5.0",
            "_model_name": "HTMLModel",
            "_view_count": null,
            "_view_module": "@jupyter-widgets/controls",
            "_view_module_version": "1.5.0",
            "_view_name": "HTMLView",
            "description": "",
            "description_tooltip": null,
            "layout": "IPY_MODEL_0daccfd7c2954d4f8b44893d43d39a0e",
            "placeholder": "​",
            "style": "IPY_MODEL_8de5468300ea4c0280c958ba07b7e42e",
            "value": "100%"
          }
        },
        "28d5c907db0046059ca7f3414f4b3740": {
          "model_module": "@jupyter-widgets/controls",
          "model_name": "FloatProgressModel",
          "model_module_version": "1.5.0",
          "state": {
            "_dom_classes": [],
            "_model_module": "@jupyter-widgets/controls",
            "_model_module_version": "1.5.0",
            "_model_name": "FloatProgressModel",
            "_view_count": null,
            "_view_module": "@jupyter-widgets/controls",
            "_view_module_version": "1.5.0",
            "_view_name": "ProgressView",
            "bar_style": "success",
            "description": "",
            "description_tooltip": null,
            "layout": "IPY_MODEL_1ac484de68d14f27b6106841df26edae",
            "max": 10,
            "min": 0,
            "orientation": "horizontal",
            "style": "IPY_MODEL_055fcaddbef54177a18734011cda11e9",
            "value": 10
          }
        },
        "c0b4866ab8ae48c1a57ddfa43562469c": {
          "model_module": "@jupyter-widgets/controls",
          "model_name": "HTMLModel",
          "model_module_version": "1.5.0",
          "state": {
            "_dom_classes": [],
            "_model_module": "@jupyter-widgets/controls",
            "_model_module_version": "1.5.0",
            "_model_name": "HTMLModel",
            "_view_count": null,
            "_view_module": "@jupyter-widgets/controls",
            "_view_module_version": "1.5.0",
            "_view_name": "HTMLView",
            "description": "",
            "description_tooltip": null,
            "layout": "IPY_MODEL_3230c91e3e7b46fca016b901784c2c40",
            "placeholder": "​",
            "style": "IPY_MODEL_8efcc397cf664d048ab94fe993fd5472",
            "value": " 10/10 [00:58&lt;00:00,  5.71s/it]"
          }
        },
        "75bbde1581504921afb9f5095d61bd21": {
          "model_module": "@jupyter-widgets/base",
          "model_name": "LayoutModel",
          "model_module_version": "1.2.0",
          "state": {
            "_model_module": "@jupyter-widgets/base",
            "_model_module_version": "1.2.0",
            "_model_name": "LayoutModel",
            "_view_count": null,
            "_view_module": "@jupyter-widgets/base",
            "_view_module_version": "1.2.0",
            "_view_name": "LayoutView",
            "align_content": null,
            "align_items": null,
            "align_self": null,
            "border": null,
            "bottom": null,
            "display": null,
            "flex": null,
            "flex_flow": null,
            "grid_area": null,
            "grid_auto_columns": null,
            "grid_auto_flow": null,
            "grid_auto_rows": null,
            "grid_column": null,
            "grid_gap": null,
            "grid_row": null,
            "grid_template_areas": null,
            "grid_template_columns": null,
            "grid_template_rows": null,
            "height": null,
            "justify_content": null,
            "justify_items": null,
            "left": null,
            "margin": null,
            "max_height": null,
            "max_width": null,
            "min_height": null,
            "min_width": null,
            "object_fit": null,
            "object_position": null,
            "order": null,
            "overflow": null,
            "overflow_x": null,
            "overflow_y": null,
            "padding": null,
            "right": null,
            "top": null,
            "visibility": null,
            "width": null
          }
        },
        "0daccfd7c2954d4f8b44893d43d39a0e": {
          "model_module": "@jupyter-widgets/base",
          "model_name": "LayoutModel",
          "model_module_version": "1.2.0",
          "state": {
            "_model_module": "@jupyter-widgets/base",
            "_model_module_version": "1.2.0",
            "_model_name": "LayoutModel",
            "_view_count": null,
            "_view_module": "@jupyter-widgets/base",
            "_view_module_version": "1.2.0",
            "_view_name": "LayoutView",
            "align_content": null,
            "align_items": null,
            "align_self": null,
            "border": null,
            "bottom": null,
            "display": null,
            "flex": null,
            "flex_flow": null,
            "grid_area": null,
            "grid_auto_columns": null,
            "grid_auto_flow": null,
            "grid_auto_rows": null,
            "grid_column": null,
            "grid_gap": null,
            "grid_row": null,
            "grid_template_areas": null,
            "grid_template_columns": null,
            "grid_template_rows": null,
            "height": null,
            "justify_content": null,
            "justify_items": null,
            "left": null,
            "margin": null,
            "max_height": null,
            "max_width": null,
            "min_height": null,
            "min_width": null,
            "object_fit": null,
            "object_position": null,
            "order": null,
            "overflow": null,
            "overflow_x": null,
            "overflow_y": null,
            "padding": null,
            "right": null,
            "top": null,
            "visibility": null,
            "width": null
          }
        },
        "8de5468300ea4c0280c958ba07b7e42e": {
          "model_module": "@jupyter-widgets/controls",
          "model_name": "DescriptionStyleModel",
          "model_module_version": "1.5.0",
          "state": {
            "_model_module": "@jupyter-widgets/controls",
            "_model_module_version": "1.5.0",
            "_model_name": "DescriptionStyleModel",
            "_view_count": null,
            "_view_module": "@jupyter-widgets/base",
            "_view_module_version": "1.2.0",
            "_view_name": "StyleView",
            "description_width": ""
          }
        },
        "1ac484de68d14f27b6106841df26edae": {
          "model_module": "@jupyter-widgets/base",
          "model_name": "LayoutModel",
          "model_module_version": "1.2.0",
          "state": {
            "_model_module": "@jupyter-widgets/base",
            "_model_module_version": "1.2.0",
            "_model_name": "LayoutModel",
            "_view_count": null,
            "_view_module": "@jupyter-widgets/base",
            "_view_module_version": "1.2.0",
            "_view_name": "LayoutView",
            "align_content": null,
            "align_items": null,
            "align_self": null,
            "border": null,
            "bottom": null,
            "display": null,
            "flex": null,
            "flex_flow": null,
            "grid_area": null,
            "grid_auto_columns": null,
            "grid_auto_flow": null,
            "grid_auto_rows": null,
            "grid_column": null,
            "grid_gap": null,
            "grid_row": null,
            "grid_template_areas": null,
            "grid_template_columns": null,
            "grid_template_rows": null,
            "height": null,
            "justify_content": null,
            "justify_items": null,
            "left": null,
            "margin": null,
            "max_height": null,
            "max_width": null,
            "min_height": null,
            "min_width": null,
            "object_fit": null,
            "object_position": null,
            "order": null,
            "overflow": null,
            "overflow_x": null,
            "overflow_y": null,
            "padding": null,
            "right": null,
            "top": null,
            "visibility": null,
            "width": null
          }
        },
        "055fcaddbef54177a18734011cda11e9": {
          "model_module": "@jupyter-widgets/controls",
          "model_name": "ProgressStyleModel",
          "model_module_version": "1.5.0",
          "state": {
            "_model_module": "@jupyter-widgets/controls",
            "_model_module_version": "1.5.0",
            "_model_name": "ProgressStyleModel",
            "_view_count": null,
            "_view_module": "@jupyter-widgets/base",
            "_view_module_version": "1.2.0",
            "_view_name": "StyleView",
            "bar_color": null,
            "description_width": ""
          }
        },
        "3230c91e3e7b46fca016b901784c2c40": {
          "model_module": "@jupyter-widgets/base",
          "model_name": "LayoutModel",
          "model_module_version": "1.2.0",
          "state": {
            "_model_module": "@jupyter-widgets/base",
            "_model_module_version": "1.2.0",
            "_model_name": "LayoutModel",
            "_view_count": null,
            "_view_module": "@jupyter-widgets/base",
            "_view_module_version": "1.2.0",
            "_view_name": "LayoutView",
            "align_content": null,
            "align_items": null,
            "align_self": null,
            "border": null,
            "bottom": null,
            "display": null,
            "flex": null,
            "flex_flow": null,
            "grid_area": null,
            "grid_auto_columns": null,
            "grid_auto_flow": null,
            "grid_auto_rows": null,
            "grid_column": null,
            "grid_gap": null,
            "grid_row": null,
            "grid_template_areas": null,
            "grid_template_columns": null,
            "grid_template_rows": null,
            "height": null,
            "justify_content": null,
            "justify_items": null,
            "left": null,
            "margin": null,
            "max_height": null,
            "max_width": null,
            "min_height": null,
            "min_width": null,
            "object_fit": null,
            "object_position": null,
            "order": null,
            "overflow": null,
            "overflow_x": null,
            "overflow_y": null,
            "padding": null,
            "right": null,
            "top": null,
            "visibility": null,
            "width": null
          }
        },
        "8efcc397cf664d048ab94fe993fd5472": {
          "model_module": "@jupyter-widgets/controls",
          "model_name": "DescriptionStyleModel",
          "model_module_version": "1.5.0",
          "state": {
            "_model_module": "@jupyter-widgets/controls",
            "_model_module_version": "1.5.0",
            "_model_name": "DescriptionStyleModel",
            "_view_count": null,
            "_view_module": "@jupyter-widgets/base",
            "_view_module_version": "1.2.0",
            "_view_name": "StyleView",
            "description_width": ""
          }
        }
      }
    }
  },
  "cells": [
    {
      "cell_type": "markdown",
      "metadata": {
        "id": "view-in-github",
        "colab_type": "text"
      },
      "source": [
        "<a href=\"https://colab.research.google.com/github/FrodoBaggins87/Machine_Learning/blob/main/Model_Deployment.ipynb\" target=\"_parent\"><img src=\"https://colab.research.google.com/assets/colab-badge.svg\" alt=\"Open In Colab\"/></a>"
      ]
    },
    {
      "cell_type": "markdown",
      "source": [
        "##Getting Setup"
      ],
      "metadata": {
        "id": "ybw8NZZB0S6v"
      }
    },
    {
      "cell_type": "code",
      "execution_count": null,
      "metadata": {
        "id": "wrSHuyl10HZu",
        "colab": {
          "base_uri": "https://localhost:8080/",
          "height": 1000
        },
        "outputId": "a79c94a8-d580-4667-855c-220a584e6ef1"
      },
      "outputs": [
        {
          "output_type": "stream",
          "name": "stdout",
          "text": [
            "Available libraries not updated, downloading updated libraries\n",
            "Looking in indexes: https://pypi.org/simple, https://download.pytorch.org/whl/cu113\n",
            "Requirement already satisfied: torch in /usr/local/lib/python3.10/dist-packages (2.3.0+cu121)\n",
            "Collecting torch\n",
            "  Downloading torch-2.3.1-cp310-cp310-manylinux1_x86_64.whl (779.1 MB)\n",
            "\u001b[2K     \u001b[90m━━━━━━━━━━━━━━━━━━━━━━━━━━━━━━━━━━━━━━━━\u001b[0m \u001b[32m779.1/779.1 MB\u001b[0m \u001b[31m1.3 MB/s\u001b[0m eta \u001b[36m0:00:00\u001b[0m\n",
            "\u001b[?25hRequirement already satisfied: torchvision in /usr/local/lib/python3.10/dist-packages (0.18.0+cu121)\n",
            "Collecting torchvision\n",
            "  Downloading torchvision-0.18.1-cp310-cp310-manylinux1_x86_64.whl (7.0 MB)\n",
            "\u001b[2K     \u001b[90m━━━━━━━━━━━━━━━━━━━━━━━━━━━━━━━━━━━━━━━━\u001b[0m \u001b[32m7.0/7.0 MB\u001b[0m \u001b[31m104.8 MB/s\u001b[0m eta \u001b[36m0:00:00\u001b[0m\n",
            "\u001b[?25hRequirement already satisfied: torchaudio in /usr/local/lib/python3.10/dist-packages (2.3.0+cu121)\n",
            "Collecting torchaudio\n",
            "  Downloading torchaudio-2.3.1-cp310-cp310-manylinux1_x86_64.whl (3.3 MB)\n",
            "\u001b[2K     \u001b[90m━━━━━━━━━━━━━━━━━━━━━━━━━━━━━━━━━━━━━━━━\u001b[0m \u001b[32m3.3/3.3 MB\u001b[0m \u001b[31m98.6 MB/s\u001b[0m eta \u001b[36m0:00:00\u001b[0m\n",
            "\u001b[?25hRequirement already satisfied: filelock in /usr/local/lib/python3.10/dist-packages (from torch) (3.14.0)\n",
            "Requirement already satisfied: typing-extensions>=4.8.0 in /usr/local/lib/python3.10/dist-packages (from torch) (4.12.2)\n",
            "Requirement already satisfied: sympy in /usr/local/lib/python3.10/dist-packages (from torch) (1.12.1)\n",
            "Requirement already satisfied: networkx in /usr/local/lib/python3.10/dist-packages (from torch) (3.3)\n",
            "Requirement already satisfied: jinja2 in /usr/local/lib/python3.10/dist-packages (from torch) (3.1.4)\n",
            "Requirement already satisfied: fsspec in /usr/local/lib/python3.10/dist-packages (from torch) (2023.6.0)\n",
            "Collecting nvidia-cuda-nvrtc-cu12==12.1.105 (from torch)\n",
            "  Using cached nvidia_cuda_nvrtc_cu12-12.1.105-py3-none-manylinux1_x86_64.whl (23.7 MB)\n",
            "Collecting nvidia-cuda-runtime-cu12==12.1.105 (from torch)\n",
            "  Using cached nvidia_cuda_runtime_cu12-12.1.105-py3-none-manylinux1_x86_64.whl (823 kB)\n",
            "Collecting nvidia-cuda-cupti-cu12==12.1.105 (from torch)\n",
            "  Using cached nvidia_cuda_cupti_cu12-12.1.105-py3-none-manylinux1_x86_64.whl (14.1 MB)\n",
            "Collecting nvidia-cudnn-cu12==8.9.2.26 (from torch)\n",
            "  Using cached nvidia_cudnn_cu12-8.9.2.26-py3-none-manylinux1_x86_64.whl (731.7 MB)\n",
            "Collecting nvidia-cublas-cu12==12.1.3.1 (from torch)\n",
            "  Using cached nvidia_cublas_cu12-12.1.3.1-py3-none-manylinux1_x86_64.whl (410.6 MB)\n",
            "Collecting nvidia-cufft-cu12==11.0.2.54 (from torch)\n",
            "  Using cached nvidia_cufft_cu12-11.0.2.54-py3-none-manylinux1_x86_64.whl (121.6 MB)\n",
            "Collecting nvidia-curand-cu12==10.3.2.106 (from torch)\n",
            "  Using cached nvidia_curand_cu12-10.3.2.106-py3-none-manylinux1_x86_64.whl (56.5 MB)\n",
            "Collecting nvidia-cusolver-cu12==11.4.5.107 (from torch)\n",
            "  Using cached nvidia_cusolver_cu12-11.4.5.107-py3-none-manylinux1_x86_64.whl (124.2 MB)\n",
            "Collecting nvidia-cusparse-cu12==12.1.0.106 (from torch)\n",
            "  Using cached nvidia_cusparse_cu12-12.1.0.106-py3-none-manylinux1_x86_64.whl (196.0 MB)\n",
            "Collecting nvidia-nccl-cu12==2.20.5 (from torch)\n",
            "  Using cached nvidia_nccl_cu12-2.20.5-py3-none-manylinux2014_x86_64.whl (176.2 MB)\n",
            "Collecting nvidia-nvtx-cu12==12.1.105 (from torch)\n",
            "  Using cached nvidia_nvtx_cu12-12.1.105-py3-none-manylinux1_x86_64.whl (99 kB)\n",
            "Collecting triton==2.3.1 (from torch)\n",
            "  Downloading https://download.pytorch.org/whl/triton-2.3.1-cp310-cp310-manylinux_2_17_x86_64.manylinux2014_x86_64.whl (168.1 MB)\n",
            "\u001b[2K     \u001b[90m━━━━━━━━━━━━━━━━━━━━━━━━━━━━━━━━━━━━━━━━\u001b[0m \u001b[32m168.1/168.1 MB\u001b[0m \u001b[31m7.2 MB/s\u001b[0m eta \u001b[36m0:00:00\u001b[0m\n",
            "\u001b[?25hCollecting nvidia-nvjitlink-cu12 (from nvidia-cusolver-cu12==11.4.5.107->torch)\n",
            "  Downloading nvidia_nvjitlink_cu12-12.5.40-py3-none-manylinux2014_x86_64.whl (21.3 MB)\n",
            "\u001b[2K     \u001b[90m━━━━━━━━━━━━━━━━━━━━━━━━━━━━━━━━━━━━━━━━\u001b[0m \u001b[32m21.3/21.3 MB\u001b[0m \u001b[31m67.9 MB/s\u001b[0m eta \u001b[36m0:00:00\u001b[0m\n",
            "\u001b[?25hRequirement already satisfied: numpy in /usr/local/lib/python3.10/dist-packages (from torchvision) (1.25.2)\n",
            "Requirement already satisfied: pillow!=8.3.*,>=5.3.0 in /usr/local/lib/python3.10/dist-packages (from torchvision) (9.4.0)\n",
            "Requirement already satisfied: MarkupSafe>=2.0 in /usr/local/lib/python3.10/dist-packages (from jinja2->torch) (2.1.5)\n",
            "Requirement already satisfied: mpmath<1.4.0,>=1.1.0 in /usr/local/lib/python3.10/dist-packages (from sympy->torch) (1.3.0)\n",
            "Installing collected packages: triton, nvidia-nvtx-cu12, nvidia-nvjitlink-cu12, nvidia-nccl-cu12, nvidia-curand-cu12, nvidia-cufft-cu12, nvidia-cuda-runtime-cu12, nvidia-cuda-nvrtc-cu12, nvidia-cuda-cupti-cu12, nvidia-cublas-cu12, nvidia-cusparse-cu12, nvidia-cudnn-cu12, nvidia-cusolver-cu12, torch, torchvision, torchaudio\n",
            "  Attempting uninstall: triton\n",
            "    Found existing installation: triton 2.3.0\n",
            "    Uninstalling triton-2.3.0:\n",
            "      Successfully uninstalled triton-2.3.0\n",
            "  Attempting uninstall: torch\n",
            "    Found existing installation: torch 2.3.0+cu121\n",
            "    Uninstalling torch-2.3.0+cu121:\n",
            "      Successfully uninstalled torch-2.3.0+cu121\n",
            "  Attempting uninstall: torchvision\n",
            "    Found existing installation: torchvision 0.18.0+cu121\n",
            "    Uninstalling torchvision-0.18.0+cu121:\n",
            "      Successfully uninstalled torchvision-0.18.0+cu121\n",
            "  Attempting uninstall: torchaudio\n",
            "    Found existing installation: torchaudio 2.3.0+cu121\n",
            "    Uninstalling torchaudio-2.3.0+cu121:\n",
            "      Successfully uninstalled torchaudio-2.3.0+cu121\n",
            "Successfully installed nvidia-cublas-cu12-12.1.3.1 nvidia-cuda-cupti-cu12-12.1.105 nvidia-cuda-nvrtc-cu12-12.1.105 nvidia-cuda-runtime-cu12-12.1.105 nvidia-cudnn-cu12-8.9.2.26 nvidia-cufft-cu12-11.0.2.54 nvidia-curand-cu12-10.3.2.106 nvidia-cusolver-cu12-11.4.5.107 nvidia-cusparse-cu12-12.1.0.106 nvidia-nccl-cu12-2.20.5 nvidia-nvjitlink-cu12-12.5.40 nvidia-nvtx-cu12-12.1.105 torch-2.3.1 torchaudio-2.3.1 torchvision-0.18.1 triton-2.3.1\n"
          ]
        },
        {
          "output_type": "display_data",
          "data": {
            "application/vnd.colab-display-data+json": {
              "pip_warning": {
                "packages": [
                  "torch",
                  "torchgen",
                  "torchvision"
                ]
              },
              "id": "337005283a3d41adbcbe290f6cf4c4d3"
            }
          },
          "metadata": {}
        },
        {
          "output_type": "stream",
          "name": "stdout",
          "text": [
            "Torch version:2.3.0+cu121\n",
            "torchvision version:0.18.0+cu121\n"
          ]
        }
      ],
      "source": [
        "#we need Torch 1.12 + and Torchvision 0.13 + for this study\n",
        "try:\n",
        "  import torch, torchvision\n",
        "  assert int(torch.__version__.split(\".\")[1])>=12, \"Torch version should be 1.12 or above\"\n",
        "  assert int(torchvision.__version__.split(\".\")[1])>=13, \"Torch version should be 0.12 or above\"\n",
        "  print(f\"Torch version:{torch.__version__}\")\n",
        "  print(f\"torchvision version:{torchvision.__version__}\")\n",
        "except:\n",
        "  print(\"Available libraries not updated, downloading updated libraries\")\n",
        "  !pip3 install -U torch torchvision torchaudio --extra-index-url https://download.pytorch.org/whl/cu113\n",
        "  import torch, torchvision\n",
        "  print(f\"Torch version:{torch.__version__}\")\n",
        "  print(f\"torchvision version:{torchvision.__version__}\")"
      ]
    },
    {
      "cell_type": "code",
      "source": [
        "import torch\n",
        "import torchvision\n",
        "import matplotlib.pyplot as plt\n",
        "from torch import nn\n",
        "from torchvision import transforms\n",
        "try:\n",
        "  from torchinfo import summary\n",
        "except:\n",
        "  !pip install -q torchinfo\n",
        "  from torchinfo import summary"
      ],
      "metadata": {
        "id": "8u4PytKs1Bbq"
      },
      "execution_count": null,
      "outputs": []
    },
    {
      "cell_type": "markdown",
      "source": [
        "##Importing previously written scripts"
      ],
      "metadata": {
        "id": "Cfck8y9Z1Dd-"
      }
    },
    {
      "cell_type": "code",
      "source": [
        "%%writefile data_setup.py\n",
        "import os\n",
        "from torchvision import transforms, datasets\n",
        "from torch.utils.data import DataLoader\n",
        "\n",
        "NUM_WORKERS= os.cpu_count()\n",
        "def create_dataloaders(\n",
        "    train_dir: str,\n",
        "    test_dir:str,\n",
        "    train_transform: transforms.Compose,\n",
        "    test_transform: transforms.Compose,\n",
        "    batch_size:int,\n",
        "    num_workers: int=NUM_WORKERS\n",
        "):\n",
        "\n",
        "  training_data=datasets.ImageFolder(root=train_dir, transform=train_transform)\n",
        "  testing_data=datasets.ImageFolder(root=test_dir, transform=test_transform)\n",
        "  class_names=training_data.classes\n",
        "  train_dataloader=DataLoader(dataset=training_data,\n",
        "                              batch_size=batch_size,#sample per dataloader\n",
        "                              num_workers=num_workers,\n",
        "                              shuffle=True,\n",
        "                              pin_memory= True)\n",
        "  test_dataloader=DataLoader(dataset=testing_data,\n",
        "                            batch_size=batch_size,\n",
        "                            num_workers=num_workers,\n",
        "                            shuffle=False,\n",
        "                            pin_memory= True)\n",
        "  return train_dataloader, test_dataloader, class_names\n"
      ],
      "metadata": {
        "id": "s1g_SzQZ1Hqz",
        "colab": {
          "base_uri": "https://localhost:8080/"
        },
        "outputId": "fe46239a-756c-43c5-d0af-519ad6275acd"
      },
      "execution_count": null,
      "outputs": [
        {
          "output_type": "stream",
          "name": "stdout",
          "text": [
            "Writing data_setup.py\n"
          ]
        }
      ]
    },
    {
      "cell_type": "code",
      "source": [
        "%%writefile engine.py\n",
        "import torch\n",
        "\n",
        "from tqdm.auto import tqdm\n",
        "from typing import Dict, List, Tuple\n",
        "def train_step(model:torch.nn.Module,\n",
        "               dataloader:torch.utils.data.DataLoader,\n",
        "               loss_fn:torch.nn.Module,\n",
        "               optimizer:torch.optim.Optimizer,\n",
        "              device: torch.device) -> Tuple[float, float]:\n",
        "  #putting in training mode\n",
        "  model.train()\n",
        "  #setup training loss and training accuracy\n",
        "  train_loss,train_acc=0,0\n",
        "\n",
        "  for batch,(x,y) in enumerate(dataloader):\n",
        "    #send data to target device\n",
        "    x,y=x.to(device),y.to(device)\n",
        "    #forward pass\n",
        "    y_pred=model(x)\n",
        "    #calculate and accumulate losses\n",
        "    loss=loss_fn(y_pred,y)\n",
        "    train_loss+=loss.item()\n",
        "    #optimizer zero grad\n",
        "    optimizer.zero_grad()\n",
        "    #loss backward\n",
        "    loss.backward()\n",
        "    #optimizer step\n",
        "    optimizer.step()\n",
        "\n",
        "    #calculate and accumulate accuracy metric for all batches\n",
        "    y_pred_class=torch.argmax(torch.softmax(y_pred,dim=1),dim=1)\n",
        "    train_acc+=(y_pred_class==y).sum().item()/len(y_pred)\n",
        "\n",
        "  #getting average loss and accuracy for each batch\n",
        "  train_loss/=len(dataloader)\n",
        "  train_acc/=len(dataloader)\n",
        "  return train_loss, train_acc\n",
        "\n",
        "def test_step(model:torch.nn.Module,\n",
        "               dataloader:torch.utils.data.DataLoader,\n",
        "               loss_fn:torch.nn.Module,\n",
        "              device: torch.device) -> Tuple[float,float]:\n",
        "  #putting in eval mode\n",
        "  model.eval()\n",
        "  #setup test loss and test accuracy\n",
        "  test_loss,test_acc=0,0\n",
        "  #turn on inference context manager\n",
        "  with torch.inference_mode():\n",
        "    #loop through dataloader batches\n",
        "    for batch,(x,y) in enumerate(dataloader):\n",
        "      #send data to target device\n",
        "      x,y=x.to(device),y.to(device)\n",
        "      #forward pass\n",
        "      test_pred_logits=model(x)\n",
        "      #calculate and accumulate loss\n",
        "      loss=loss_fn(test_pred_logits,y)\n",
        "      test_loss+=loss.item()\n",
        "      #calculate and accumulate accuracy\n",
        "      test_pred_labels=torch.argmax(torch.softmax(test_pred_logits,dim=1),dim=1)\n",
        "      test_acc+=(test_pred_labels==y).sum().item()/len(test_pred_labels)#can probably also use len(test_pred), not sure both should work i think\n",
        "  #getting average loss and accuracy for each batch\n",
        "  test_acc/=len(dataloader)\n",
        "  test_loss/=len(dataloader)\n",
        "  return test_loss, test_acc\n",
        "\n",
        "#defining functions and various required parameters\n",
        "def train(model:torch.nn.Module,\n",
        "          train_dataloader:torch.utils.data.DataLoader,\n",
        "          test_dataloader:torch.utils.data.DataLoader,\n",
        "          optimizer:torch.optim.Optimizer,\n",
        "          loss_fn:torch.nn.Module,\n",
        "          epochs: int,\n",
        "        device: torch.device) -> Dict[str, list]:\n",
        "  #create empty results dictionary\n",
        "  results={\"train_loss\":[],\n",
        "           \"test_loss\":[],\n",
        "           \"train_acc\":[],\n",
        "           \"test_acc\":[]}\n",
        "  #looping through train_step() and test_step()\n",
        "  for epoch in tqdm(range(epochs)):\n",
        "    train_loss,train_acc=train_step(model=model,\n",
        "                                    dataloader=train_dataloader,\n",
        "                                    loss_fn=loss_fn,\n",
        "                                    optimizer=optimizer,\n",
        "                                    device=device)\n",
        "    test_loss, test_acc=test_step(model=model,\n",
        "                                  dataloader=test_dataloader,\n",
        "                                  loss_fn=loss_fn,\n",
        "                                  device=device)\n",
        "  #print whats happening\n",
        "    print(\n",
        "        f\"Epoch:{epoch+1}|\"\n",
        "        f\"Train Loss:{train_loss:.4f}|\"\n",
        "        f\"Training Accuracy: {train_acc:.4f}|\"\n",
        "        f\"Test Loss: {test_loss:.4f}|\"\n",
        "        f\"Test Accuracy: {test_acc:.4f}\"\n",
        "    )\n",
        "    #updating result dictionary\n",
        "    results[\"train_loss\"].append(train_loss)\n",
        "    results[\"test_loss\"].append(test_loss)\n",
        "    results[\"train_acc\"].append(train_acc)\n",
        "    results[\"test_acc\"].append(test_acc)\n",
        "  return results\n"
      ],
      "metadata": {
        "id": "eGwCstRl1Oem",
        "colab": {
          "base_uri": "https://localhost:8080/"
        },
        "outputId": "d93401cb-9fb8-4023-df1c-fe69c7fb5b27"
      },
      "execution_count": null,
      "outputs": [
        {
          "output_type": "stream",
          "name": "stdout",
          "text": [
            "Writing engine.py\n"
          ]
        }
      ]
    },
    {
      "cell_type": "code",
      "source": [
        "%%writefile utils.py\n",
        "import torch\n",
        "from pathlib import Path\n",
        "def save_model(model:torch.nn.Module,\n",
        "               target_dir: str,\n",
        "               model_name:str):\n",
        "  #creating target directory\n",
        "  target_dir_path=Path(target_dir)\n",
        "  target_dir_path.mkdir(parents=True,\n",
        "                        exist_ok=True)\n",
        "  #creating model save path\n",
        "  assert model_name.endswith(\".pth\") or model_name.endswith(\".pt\"), \"model_name should end with '.pt' or '.pth'\"\n",
        "  model_save_path = target_dir_path/model_name\n",
        "\n",
        "  #save the model state_dict\n",
        "  print(f\"Saving model to:{model_save_path}\")\n",
        "  torch.save(obj=model.state_dict(),\n",
        "             f=model_save_path)"
      ],
      "metadata": {
        "id": "51o4fHZe1WJ-",
        "colab": {
          "base_uri": "https://localhost:8080/"
        },
        "outputId": "dd37748a-948b-471f-aae3-31f7675733c1"
      },
      "execution_count": null,
      "outputs": [
        {
          "output_type": "stream",
          "name": "stdout",
          "text": [
            "Writing utils.py\n"
          ]
        }
      ]
    },
    {
      "cell_type": "markdown",
      "source": [
        "##Device Agnostic Code"
      ],
      "metadata": {
        "id": "ukX_VwDn1ZaR"
      }
    },
    {
      "cell_type": "code",
      "source": [
        "device='cuda' if torch.cuda.is_available() else 'cpu'\n",
        "device"
      ],
      "metadata": {
        "id": "2zM-CBYN1cme",
        "colab": {
          "base_uri": "https://localhost:8080/",
          "height": 35
        },
        "outputId": "4687bb15-4ec8-400f-ec17-c0007089bbb3"
      },
      "execution_count": null,
      "outputs": [
        {
          "output_type": "execute_result",
          "data": {
            "text/plain": [
              "'cuda'"
            ],
            "application/vnd.google.colaboratory.intrinsic+json": {
              "type": "string"
            }
          },
          "metadata": {},
          "execution_count": 6
        }
      ]
    },
    {
      "cell_type": "markdown",
      "source": [
        "##Define function to set random seed"
      ],
      "metadata": {
        "id": "dteGqQ6I1lT3"
      }
    },
    {
      "cell_type": "code",
      "source": [
        "#set seeds\n",
        "def set_seeds(seed:int=69):\n",
        "  \"set seed whenver required before torch operations. Default seed = 69\"\n",
        "  torch.manual_seed(seed)\n",
        "  torch.cuda.manual_seed(seed)"
      ],
      "metadata": {
        "id": "Dsw1DyJ51o5x"
      },
      "execution_count": null,
      "outputs": []
    },
    {
      "cell_type": "markdown",
      "source": [
        "##Get Data"
      ],
      "metadata": {
        "id": "uxv43bSA2pUK"
      }
    },
    {
      "cell_type": "code",
      "source": [
        "import requests\n",
        "import zipfile\n",
        "from pathlib import Path\n",
        "import os\n",
        "def download_data(source:str,\n",
        "                  destination:str,\n",
        "                  remove_source:bool=True)->Path:\n",
        "  #setup path to data folder\n",
        "  data_path= Path(\"data/\")\n",
        "  image_path=data_path/destination\n",
        "  #check if image folder exists or not, if not prepare it\n",
        "  if image_path.is_dir():\n",
        "    print(f\"{image_path} directory exists\")\n",
        "  else:\n",
        "    print(f\"Didnt find {image_path}, creating...\")\n",
        "    image_path.mkdir(parents=True, exist_ok=True)\n",
        "    #the datset that will be used is a formatted dataset being taken from a github file, in general, wont get such formatted data\n",
        "    #download pizza, steak, sushi data in zip file\n",
        "    target_file=Path(source).name\n",
        "    with open(data_path/target_file,\"wb\") as f:\n",
        "      request = requests.get(source)\n",
        "      print(\"Downloading data...\")\n",
        "      f.write(request.content)\n",
        "    #unzip data\n",
        "    with zipfile.ZipFile(data_path/target_file,\"r\") as zip_ref:\n",
        "      print(\"Unzipping food_stuff file...\")\n",
        "      zip_ref.extractall(image_path)\n",
        "    if remove_source:\n",
        "      os.remove(data_path/target_file)\n",
        "  return image_path"
      ],
      "metadata": {
        "id": "N6BUp37y2rVS"
      },
      "execution_count": null,
      "outputs": []
    },
    {
      "cell_type": "code",
      "source": [
        "image_path=download_data(source=\"https://github.com/mrdbourke/pytorch-deep-learning/raw/main/data/pizza_steak_sushi_20_percent.zip\", destination='pizza_steak_sushi_20_percent')\n",
        "image_path"
      ],
      "metadata": {
        "id": "3F6XoXOL2sae",
        "colab": {
          "base_uri": "https://localhost:8080/"
        },
        "outputId": "8fc72e35-cef5-4660-efea-914bb80ef4be"
      },
      "execution_count": null,
      "outputs": [
        {
          "output_type": "stream",
          "name": "stdout",
          "text": [
            "Didnt find data/pizza_steak_sushi_20_percent, creating...\n",
            "Downloading data...\n",
            "Unzipping food_stuff file...\n"
          ]
        },
        {
          "output_type": "execute_result",
          "data": {
            "text/plain": [
              "PosixPath('data/pizza_steak_sushi_20_percent')"
            ]
          },
          "metadata": {},
          "execution_count": 9
        }
      ]
    },
    {
      "cell_type": "code",
      "source": [
        "!ls data/pizza_steak_sushi_20_percent"
      ],
      "metadata": {
        "id": "leR2j-No3uYL",
        "colab": {
          "base_uri": "https://localhost:8080/"
        },
        "outputId": "17493424-d595-46c2-cbf1-1602d059b969"
      },
      "execution_count": null,
      "outputs": [
        {
          "output_type": "stream",
          "name": "stdout",
          "text": [
            "test  train\n"
          ]
        }
      ]
    },
    {
      "cell_type": "code",
      "source": [
        "#creating paths to train and test directories\n",
        "train_dir=image_path/\"train\"\n",
        "test_dir=image_path/\"test\""
      ],
      "metadata": {
        "id": "w2kNAiBd3wPL"
      },
      "execution_count": null,
      "outputs": []
    },
    {
      "cell_type": "markdown",
      "source": [
        "##Get EfficientNet B2 Model"
      ],
      "metadata": {
        "id": "C2-Z9nOv2keU"
      }
    },
    {
      "cell_type": "code",
      "source": [
        "def create_effnet_b2(num_classes:int=3):\n",
        "  #1\n",
        "  weights=torchvision.models.EfficientNet_B2_Weights.DEFAULT\n",
        "  transforms=weights.transforms()\n",
        "  model=torchvision.models.efficientnet_b2(weights=weights).to(device)\n",
        "\n",
        "  #2. freeze all parameters in feature extraction layer\n",
        "  for param in model.features.parameters():\n",
        "    param.requires_grad=False\n",
        "  #3. set random seed\n",
        "  set_seeds()\n",
        "\n",
        "  #4. changing classifier layer\n",
        "  model.classifier= torch.nn.Sequential(nn.Dropout(p=0.2, inplace=True),\n",
        "                                        nn.Linear(in_features=1408,\n",
        "                                                  out_features=num_classes,\n",
        "                                                  bias=True).to(device))\n",
        "  #5. give name\n",
        "  model.name='effnet_b2'\n",
        "  print(f\"Making EfficientNet_B2\")\n",
        "\n",
        "  return model,weights,transforms"
      ],
      "metadata": {
        "id": "1OGSWny52oBj"
      },
      "execution_count": null,
      "outputs": []
    },
    {
      "cell_type": "code",
      "source": [
        "eff_net_b2,eff_net_weights,eff_net_transforms=create_effnet_b2(num_classes=3)"
      ],
      "metadata": {
        "colab": {
          "base_uri": "https://localhost:8080/"
        },
        "id": "Ne0rBdUG2tzB",
        "outputId": "41151ced-1b5a-479f-bd9c-9db955814a7c"
      },
      "execution_count": null,
      "outputs": [
        {
          "output_type": "stream",
          "name": "stderr",
          "text": [
            "Downloading: \"https://download.pytorch.org/models/efficientnet_b2_rwightman-c35c1473.pth\" to /root/.cache/torch/hub/checkpoints/efficientnet_b2_rwightman-c35c1473.pth\n",
            "100%|██████████| 35.2M/35.2M [00:00<00:00, 127MB/s]\n"
          ]
        },
        {
          "output_type": "stream",
          "name": "stdout",
          "text": [
            "Making EfficientNet_B2\n"
          ]
        }
      ]
    },
    {
      "cell_type": "code",
      "source": [
        "from torchinfo import summary\n",
        "summary(eff_net_b2,input_size=(32,3,224,224),col_names=['input_size','output_size','num_params','trainable'], row_settings=['var_names'])"
      ],
      "metadata": {
        "colab": {
          "base_uri": "https://localhost:8080/"
        },
        "id": "odKLLq2y4Hcr",
        "outputId": "3254a44d-b77e-4004-a29b-0c247fd90fd0"
      },
      "execution_count": null,
      "outputs": [
        {
          "output_type": "execute_result",
          "data": {
            "text/plain": [
              "================================================================================================================================================================\n",
              "Layer (type (var_name))                                      Input Shape               Output Shape              Param #                   Trainable\n",
              "================================================================================================================================================================\n",
              "EfficientNet (EfficientNet)                                  [32, 3, 224, 224]         [32, 3]                   --                        Partial\n",
              "├─Sequential (features)                                      [32, 3, 224, 224]         [32, 1408, 7, 7]          --                        False\n",
              "│    └─Conv2dNormActivation (0)                              [32, 3, 224, 224]         [32, 32, 112, 112]        --                        False\n",
              "│    │    └─Conv2d (0)                                       [32, 3, 224, 224]         [32, 32, 112, 112]        (864)                     False\n",
              "│    │    └─BatchNorm2d (1)                                  [32, 32, 112, 112]        [32, 32, 112, 112]        (64)                      False\n",
              "│    │    └─SiLU (2)                                         [32, 32, 112, 112]        [32, 32, 112, 112]        --                        --\n",
              "│    └─Sequential (1)                                        [32, 32, 112, 112]        [32, 16, 112, 112]        --                        False\n",
              "│    │    └─MBConv (0)                                       [32, 32, 112, 112]        [32, 16, 112, 112]        (1,448)                   False\n",
              "│    │    └─MBConv (1)                                       [32, 16, 112, 112]        [32, 16, 112, 112]        (612)                     False\n",
              "│    └─Sequential (2)                                        [32, 16, 112, 112]        [32, 24, 56, 56]          --                        False\n",
              "│    │    └─MBConv (0)                                       [32, 16, 112, 112]        [32, 24, 56, 56]          (6,004)                   False\n",
              "│    │    └─MBConv (1)                                       [32, 24, 56, 56]          [32, 24, 56, 56]          (10,710)                  False\n",
              "│    │    └─MBConv (2)                                       [32, 24, 56, 56]          [32, 24, 56, 56]          (10,710)                  False\n",
              "│    └─Sequential (3)                                        [32, 24, 56, 56]          [32, 48, 28, 28]          --                        False\n",
              "│    │    └─MBConv (0)                                       [32, 24, 56, 56]          [32, 48, 28, 28]          (16,518)                  False\n",
              "│    │    └─MBConv (1)                                       [32, 48, 28, 28]          [32, 48, 28, 28]          (43,308)                  False\n",
              "│    │    └─MBConv (2)                                       [32, 48, 28, 28]          [32, 48, 28, 28]          (43,308)                  False\n",
              "│    └─Sequential (4)                                        [32, 48, 28, 28]          [32, 88, 14, 14]          --                        False\n",
              "│    │    └─MBConv (0)                                       [32, 48, 28, 28]          [32, 88, 14, 14]          (50,300)                  False\n",
              "│    │    └─MBConv (1)                                       [32, 88, 14, 14]          [32, 88, 14, 14]          (123,750)                 False\n",
              "│    │    └─MBConv (2)                                       [32, 88, 14, 14]          [32, 88, 14, 14]          (123,750)                 False\n",
              "│    │    └─MBConv (3)                                       [32, 88, 14, 14]          [32, 88, 14, 14]          (123,750)                 False\n",
              "│    └─Sequential (5)                                        [32, 88, 14, 14]          [32, 120, 14, 14]         --                        False\n",
              "│    │    └─MBConv (0)                                       [32, 88, 14, 14]          [32, 120, 14, 14]         (149,158)                 False\n",
              "│    │    └─MBConv (1)                                       [32, 120, 14, 14]         [32, 120, 14, 14]         (237,870)                 False\n",
              "│    │    └─MBConv (2)                                       [32, 120, 14, 14]         [32, 120, 14, 14]         (237,870)                 False\n",
              "│    │    └─MBConv (3)                                       [32, 120, 14, 14]         [32, 120, 14, 14]         (237,870)                 False\n",
              "│    └─Sequential (6)                                        [32, 120, 14, 14]         [32, 208, 7, 7]           --                        False\n",
              "│    │    └─MBConv (0)                                       [32, 120, 14, 14]         [32, 208, 7, 7]           (301,406)                 False\n",
              "│    │    └─MBConv (1)                                       [32, 208, 7, 7]           [32, 208, 7, 7]           (686,868)                 False\n",
              "│    │    └─MBConv (2)                                       [32, 208, 7, 7]           [32, 208, 7, 7]           (686,868)                 False\n",
              "│    │    └─MBConv (3)                                       [32, 208, 7, 7]           [32, 208, 7, 7]           (686,868)                 False\n",
              "│    │    └─MBConv (4)                                       [32, 208, 7, 7]           [32, 208, 7, 7]           (686,868)                 False\n",
              "│    └─Sequential (7)                                        [32, 208, 7, 7]           [32, 352, 7, 7]           --                        False\n",
              "│    │    └─MBConv (0)                                       [32, 208, 7, 7]           [32, 352, 7, 7]           (846,900)                 False\n",
              "│    │    └─MBConv (1)                                       [32, 352, 7, 7]           [32, 352, 7, 7]           (1,888,920)               False\n",
              "│    └─Conv2dNormActivation (8)                              [32, 352, 7, 7]           [32, 1408, 7, 7]          --                        False\n",
              "│    │    └─Conv2d (0)                                       [32, 352, 7, 7]           [32, 1408, 7, 7]          (495,616)                 False\n",
              "│    │    └─BatchNorm2d (1)                                  [32, 1408, 7, 7]          [32, 1408, 7, 7]          (2,816)                   False\n",
              "│    │    └─SiLU (2)                                         [32, 1408, 7, 7]          [32, 1408, 7, 7]          --                        --\n",
              "├─AdaptiveAvgPool2d (avgpool)                                [32, 1408, 7, 7]          [32, 1408, 1, 1]          --                        --\n",
              "├─Sequential (classifier)                                    [32, 1408]                [32, 3]                   --                        True\n",
              "│    └─Dropout (0)                                           [32, 1408]                [32, 1408]                --                        --\n",
              "│    └─Linear (1)                                            [32, 1408]                [32, 3]                   4,227                     True\n",
              "================================================================================================================================================================\n",
              "Total params: 7,705,221\n",
              "Trainable params: 4,227\n",
              "Non-trainable params: 7,700,994\n",
              "Total mult-adds (G): 21.04\n",
              "================================================================================================================================================================\n",
              "Input size (MB): 19.27\n",
              "Forward/backward pass size (MB): 5017.53\n",
              "Params size (MB): 30.82\n",
              "Estimated Total Size (MB): 5067.62\n",
              "================================================================================================================================================================"
            ]
          },
          "metadata": {},
          "execution_count": 14
        }
      ]
    },
    {
      "cell_type": "markdown",
      "source": [
        "Make dataloaders"
      ],
      "metadata": {
        "id": "q4_wJ3pV4cdH"
      }
    },
    {
      "cell_type": "code",
      "source": [
        "import data_setup\n",
        "train_dataloader_eff_net_b2, test_dataloader_eff_net_b2, class_names=data_setup.create_dataloaders(train_dir=train_dir,\n",
        "                                                                              test_dir=test_dir,\n",
        "                                                                              train_transform=eff_net_transforms,\n",
        "                                                                              test_transform=eff_net_transforms,\n",
        "                                                                              batch_size=32)"
      ],
      "metadata": {
        "id": "biHXlGh84rY5"
      },
      "execution_count": null,
      "outputs": []
    },
    {
      "cell_type": "code",
      "source": [
        "import engine\n",
        "\n",
        "#set optimizer\n",
        "optimizer=torch.optim.Adam(params=eff_net_b2.parameters(),lr=0.001)\n",
        "\n",
        "#set loss function\n",
        "loss_fn=torch.nn.CrossEntropyLoss()\n",
        "\n",
        "#train\n",
        "eff_net_b2_results=engine.train(model=eff_net_b2,\n",
        "                                train_dataloader=train_dataloader_eff_net_b2,\n",
        "                                test_dataloader=test_dataloader_eff_net_b2,\n",
        "                                optimizer=optimizer,\n",
        "                                loss_fn=loss_fn,\n",
        "                                epochs=10,\n",
        "                                device=device)"
      ],
      "metadata": {
        "colab": {
          "base_uri": "https://localhost:8080/",
          "height": 223,
          "referenced_widgets": [
            "2ab2031530ae4c3dbd50b4326d81e303",
            "87641285c3784048ba93311a678c8f66",
            "28d5c907db0046059ca7f3414f4b3740",
            "c0b4866ab8ae48c1a57ddfa43562469c",
            "75bbde1581504921afb9f5095d61bd21",
            "0daccfd7c2954d4f8b44893d43d39a0e",
            "8de5468300ea4c0280c958ba07b7e42e",
            "1ac484de68d14f27b6106841df26edae",
            "055fcaddbef54177a18734011cda11e9",
            "3230c91e3e7b46fca016b901784c2c40",
            "8efcc397cf664d048ab94fe993fd5472"
          ]
        },
        "id": "HD5_XQBR5HnC",
        "outputId": "3304d5e3-30c1-48b7-9e88-5da52486a32c"
      },
      "execution_count": null,
      "outputs": [
        {
          "output_type": "display_data",
          "data": {
            "text/plain": [
              "  0%|          | 0/10 [00:00<?, ?it/s]"
            ],
            "application/vnd.jupyter.widget-view+json": {
              "version_major": 2,
              "version_minor": 0,
              "model_id": "2ab2031530ae4c3dbd50b4326d81e303"
            }
          },
          "metadata": {}
        },
        {
          "output_type": "stream",
          "name": "stdout",
          "text": [
            "Epoch:1|Train Loss:0.9679|Training Accuracy: 0.5750|Test Loss: 0.7033|Test Accuracy: 0.9284\n",
            "Epoch:2|Train Loss:0.7297|Training Accuracy: 0.7688|Test Loss: 0.5682|Test Accuracy: 0.9500\n",
            "Epoch:3|Train Loss:0.5565|Training Accuracy: 0.8667|Test Loss: 0.4957|Test Accuracy: 0.9165\n",
            "Epoch:4|Train Loss:0.5012|Training Accuracy: 0.8729|Test Loss: 0.4175|Test Accuracy: 0.9688\n",
            "Epoch:5|Train Loss:0.4238|Training Accuracy: 0.8750|Test Loss: 0.3816|Test Accuracy: 0.9625\n",
            "Epoch:6|Train Loss:0.3403|Training Accuracy: 0.9208|Test Loss: 0.3494|Test Accuracy: 0.9472\n",
            "Epoch:7|Train Loss:0.3914|Training Accuracy: 0.9021|Test Loss: 0.3257|Test Accuracy: 0.9688\n",
            "Epoch:8|Train Loss:0.3803|Training Accuracy: 0.8708|Test Loss: 0.3270|Test Accuracy: 0.9443\n",
            "Epoch:9|Train Loss:0.2908|Training Accuracy: 0.9375|Test Loss: 0.2766|Test Accuracy: 0.9563\n",
            "Epoch:10|Train Loss:0.3158|Training Accuracy: 0.9125|Test Loss: 0.2763|Test Accuracy: 0.9688\n"
          ]
        }
      ]
    },
    {
      "cell_type": "markdown",
      "source": [
        "Plotting Loss Curves"
      ],
      "metadata": {
        "id": "kKgjNmTE6HuF"
      }
    },
    {
      "cell_type": "code",
      "source": [
        "#define function to take the values in th e dictionary and plot\n",
        "def plot_loss_curves(results):\n",
        "  train_loss=results['train_loss']\n",
        "  test_loss=results['test_loss']\n",
        "  train_accuracy=results['train_acc']\n",
        "  test_accuracy= results['test_acc']\n",
        "  epochs=range(len(results['train_loss']))\n",
        "  plt.figure(figsize=(16,8))\n",
        "\n",
        "  #plotting loss\n",
        "  plt.subplot(1,2,1)\n",
        "  plt.plot(epochs, train_loss, label='train loss')\n",
        "  plt.plot(epochs,test_loss, label='test loss')\n",
        "  plt.title('Loss')\n",
        "  plt.xlabel('epochs')\n",
        "  plt.legend()\n",
        "  #plotting accuracy\n",
        "  plt.subplot(1,2,2)\n",
        "  plt.plot(epochs, train_accuracy, label='train accuracy')\n",
        "  plt.plot(epochs,test_accuracy, label='test accuracy')\n",
        "  plt.title('Accuracy')\n",
        "  plt.xlabel('epochs')\n",
        "  plt.legend()"
      ],
      "metadata": {
        "id": "z8brAA3U6J49"
      },
      "execution_count": null,
      "outputs": []
    },
    {
      "cell_type": "code",
      "source": [
        "plot_loss_curves(eff_net_b2_results)"
      ],
      "metadata": {
        "colab": {
          "base_uri": "https://localhost:8080/",
          "height": 718
        },
        "id": "OYs7iwg56RF9",
        "outputId": "507d14a9-42e8-4749-a7e4-f732e98845d4"
      },
      "execution_count": null,
      "outputs": [
        {
          "output_type": "display_data",
          "data": {
            "text/plain": [
              "<Figure size 1600x800 with 2 Axes>"
            ],
            "image/png": "[encoded data removed]"
          },
          "metadata": {}
        }
      ]
    },
    {
      "cell_type": "markdown",
      "source": [
        "Saving Eff_Net_B2 Feature Extractor"
      ],
      "metadata": {
        "id": "IJkWXuXH6hiA"
      }
    },
    {
      "cell_type": "code",
      "source": [
        "import utils\n",
        "utils.save_model(model=eff_net_b2,\n",
        "                 target_dir='models',\n",
        "                 model_name='pretrained_eff_net_b2_feature_extractor.pth')"
      ],
      "metadata": {
        "colab": {
          "base_uri": "https://localhost:8080/"
        },
        "id": "xdmVwxaD6lf7",
        "outputId": "6cf6d999-5c56-4674-e995-55e63fce3a0f"
      },
      "execution_count": null,
      "outputs": [
        {
          "output_type": "stream",
          "name": "stdout",
          "text": [
            "Saving model to:models/pretrained_eff_net_b2_feature_extractor.pth\n"
          ]
        }
      ]
    },
    {
      "cell_type": "markdown",
      "source": [
        "Checking Size of Model"
      ],
      "metadata": {
        "id": "XnQ1ssO17zfK"
      }
    },
    {
      "cell_type": "code",
      "source": [
        "from pathlib import Path\n",
        "eff_net_b2_size=Path('models/pretrained_eff_net_b2_feature_extractor.pth').stat().st_size//(1024*1024)#division converts bytes to MBs\n",
        "print(f\"The Pretrained EfficientNet_B2 feature extractor has size: {eff_net_b2_size} MB\")"
      ],
      "metadata": {
        "colab": {
          "base_uri": "https://localhost:8080/"
        },
        "id": "JVxvrIaC71Za",
        "outputId": "e25c8d1a-adda-4751-9777-35340922321d"
      },
      "execution_count": null,
      "outputs": [
        {
          "output_type": "stream",
          "name": "stdout",
          "text": [
            "The Pretrained EfficientNet_B2 feature extractor has size: 29 MB\n"
          ]
        }
      ]
    },
    {
      "cell_type": "markdown",
      "source": [
        "Counting number of parameters"
      ],
      "metadata": {
        "id": "BycnQGZm9mWM"
      }
    },
    {
      "cell_type": "code",
      "source": [
        "num_parameters=sum(p.numel() for p in eff_net_b2.parameters())"
      ],
      "metadata": {
        "id": "LHctKgKM9lT4"
      },
      "execution_count": null,
      "outputs": []
    },
    {
      "cell_type": "markdown",
      "source": [
        "Important Stats of Eff_Net_B2"
      ],
      "metadata": {
        "id": "yj6o5CPl-wOc"
      }
    },
    {
      "cell_type": "code",
      "source": [
        "eff_net_b2_stats={\"test loss\": eff_net_b2_results['test_loss'][-1],\n",
        "                  'test accuracy': eff_net_b2_results['test_acc'][-1],\n",
        "                  'Number of parameters':num_parameters,\n",
        "                  'Model Size(MB)': eff_net_b2_size}\n",
        "\n",
        "eff_net_b2_stats"
      ],
      "metadata": {
        "colab": {
          "base_uri": "https://localhost:8080/"
        },
        "id": "r6CDrwtI-z9X",
        "outputId": "1c1b2fd6-2e68-4e4f-fd75-84834da2c36b"
      },
      "execution_count": null,
      "outputs": [
        {
          "output_type": "execute_result",
          "data": {
            "text/plain": [
              "{'test loss': 0.27627702951431277,\n",
              " 'test accuracy': 0.96875,\n",
              " 'Number of parameters': 7705221,\n",
              " 'Model Size(MB)': 29}"
            ]
          },
          "metadata": {},
          "execution_count": 32
        }
      ]
    },
    {
      "cell_type": "markdown",
      "source": [
        "##Getting ViT model"
      ],
      "metadata": {
        "id": "6mh2bu1NBrXe"
      }
    },
    {
      "cell_type": "code",
      "source": [
        "def create_vit_b_16(num_classes:int=3):\n",
        "  #1\n",
        "  weights=torchvision.models.ViT_B_16_Weights.DEFAULT\n",
        "  transforms=weights.transforms()\n",
        "  model=torchvision.models.vit_b_16(weights=weights).to(device)\n",
        "\n",
        "  #2. freeze all parameters in feature extraction layer\n",
        "  for param in model.features.parameters():\n",
        "    param.requires_grad=False\n",
        "  #3. set random seed\n",
        "  set_seeds()\n",
        "\n",
        "  #4. changing classifier layer\n",
        "  model.heads= torch.nn.Sequential(nn.Dropout(p=0.2, inplace=True),\n",
        "                                        nn.Linear(in_features=1408,\n",
        "                                                  out_features=num_classes,\n",
        "                                                  bias=True).to(device))\n",
        "  #5. give name\n",
        "  model.name='vit_b_16'\n",
        "  print(f\"Making Vision_Transformer_B16\")\n",
        "\n",
        "  return model,weights,transforms"
      ],
      "metadata": {
        "id": "DZxnDCQKBvdE"
      },
      "execution_count": null,
      "outputs": []
    },
    {
      "cell_type": "code",
      "source": [
        "vit_b16,vit_b16_weights,vit_b16_transforms=create_vit_b_16(num_classes=3)"
      ],
      "metadata": {
        "id": "zSd7xmBvKzyb"
      },
      "execution_count": null,
      "outputs": []
    },
    {
      "cell_type": "code",
      "source": [
        "from torchinfo import summary\n",
        "summary(vit_b16,input_size=(32,3,224,224),col_names=['input_size','output_size','num_params','trainable'], row_settings=['var_names'])"
      ],
      "metadata": {
        "id": "caFAOZ2VLDGp"
      },
      "execution_count": null,
      "outputs": []
    },
    {
      "cell_type": "markdown",
      "source": [
        "Create dataloaders"
      ],
      "metadata": {
        "id": "9HAHXadDLTxG"
      }
    },
    {
      "cell_type": "code",
      "source": [
        "import data_setup\n",
        "train_dataloader_vit_b16, test_dataloader_vit_b16, class_names=data_setup.create_dataloaders(train_dir=train_dir,\n",
        "                                                                              test_dir=test_dir,\n",
        "                                                                              train_transform=vit_b16_transforms,\n",
        "                                                                              test_transform=vit_b16_transforms,\n",
        "                                                                              batch=32)"
      ],
      "metadata": {
        "id": "TLyrGRh8LVEq"
      },
      "execution_count": null,
      "outputs": []
    },
    {
      "cell_type": "markdown",
      "source": [
        "Training ViT feature extractor"
      ],
      "metadata": {
        "id": "o9FmiwK9LpoT"
      }
    },
    {
      "cell_type": "code",
      "source": [
        "import engine\n",
        "#set optimizer\n",
        "optimizer=torch.optim.Adam(params=vit_b16.parameters(),lr=0.001)\n",
        "\n",
        "#set loss function\n",
        "loss_fn=torch.nn.CrossEntropyLoss()\n",
        "\n",
        "#train\n",
        "vit_b16_results=engine.train(model=vit_b16,\n",
        "                             train_dataloader=train_dataloader_vit_b16,\n",
        "                             test_dataloader=test_dataloader_vit_b16,\n",
        "                             optimizer=optimizer,\n",
        "                             loss_fn=loss_fn,\n",
        "                             epochs=10,\n",
        "                             device=device)"
      ],
      "metadata": {
        "id": "M1sCky8ILsOj"
      },
      "execution_count": null,
      "outputs": []
    },
    {
      "cell_type": "markdown",
      "source": [
        "Plot loss curves"
      ],
      "metadata": {
        "id": "l1CbrqqeMW5G"
      }
    },
    {
      "cell_type": "code",
      "source": [
        "plot_loss_curves(vit_b16_results)"
      ],
      "metadata": {
        "id": "jJCPZ6DSMWVA"
      },
      "execution_count": null,
      "outputs": []
    },
    {
      "cell_type": "markdown",
      "source": [
        "Saving ViT Feature Extractor"
      ],
      "metadata": {
        "id": "RFhnj8XqMgMO"
      }
    },
    {
      "cell_type": "code",
      "source": [
        "import utils\n",
        "utils.save_model(model=vit_b16,\n",
        "                 target_dir='models',\n",
        "                 model_name='pretrained_vit_b16_feature_extractor.pth')"
      ],
      "metadata": {
        "id": "-9voMgNtMjmU"
      },
      "execution_count": null,
      "outputs": []
    },
    {
      "cell_type": "markdown",
      "source": [
        "Counting Number of Parameters"
      ],
      "metadata": {
        "id": "_bi3L4_BMwe1"
      }
    },
    {
      "cell_type": "code",
      "source": [
        "num_parameters_vit=sum(p.numel() for p in vit_b16.parameters())"
      ],
      "metadata": {
        "id": "LbNj4hgPMyrl"
      },
      "execution_count": null,
      "outputs": []
    },
    {
      "cell_type": "markdown",
      "source": [
        "Checking Size of ViT_B16"
      ],
      "metadata": {
        "id": "2wWgfaRxM9ux"
      }
    },
    {
      "cell_type": "code",
      "source": [
        "from pathlib import Path\n",
        "vit_b16_size=Path('models/pretrained_vit_b16_feature_extractor.pth').stat().st_size//(1024*1024)#division converts bytes to MBs"
      ],
      "metadata": {
        "id": "f321y863NBmY"
      },
      "execution_count": null,
      "outputs": []
    },
    {
      "cell_type": "markdown",
      "source": [
        "Important Stats of ViT_B16"
      ],
      "metadata": {
        "id": "hcythWLjNVyB"
      }
    },
    {
      "cell_type": "code",
      "source": [
        "vit_b16_stats={\"test loss\": vit_b16_results['test_loss'][-1],\n",
        "                  'test accuracy': vit_b16_results['test_acc'][-1],\n",
        "                  'Number of parameters':num_parameters_vit,\n",
        "                  'Model Size(MB)': vit_b16_size}\n",
        "\n",
        "vit_b16_stats"
      ],
      "metadata": {
        "id": "v4m_l9tjNVDv"
      },
      "execution_count": null,
      "outputs": []
    }
  ]
}
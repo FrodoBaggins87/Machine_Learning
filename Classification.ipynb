{
  "nbformat": 4,
  "nbformat_minor": 0,
  "metadata": {
    "colab": {
      "provenance": [],
      "authorship_tag": "ABX9TyOY86vDBJegc3lj4lPRJUiB",
      "include_colab_link": true
    },
    "kernelspec": {
      "name": "python3",
      "display_name": "Python 3"
    },
    "language_info": {
      "name": "python"
    }
  },
  "cells": [
    {
      "cell_type": "markdown",
      "metadata": {
        "id": "view-in-github",
        "colab_type": "text"
      },
      "source": [
        "<a href=\"https://colab.research.google.com/github/FrodoBaggins87/Machine_Learning/blob/main/Classification.ipynb\" target=\"_parent\"><img src=\"https://colab.research.google.com/assets/colab-badge.svg\" alt=\"Open In Colab\"/></a>"
      ]
    },
    {
      "cell_type": "markdown",
      "source": [
        "Generate Toy Dataset\n"
      ],
      "metadata": {
        "id": "sbtKz1TfFbLn"
      }
    },
    {
      "cell_type": "code",
      "execution_count": 33,
      "metadata": {
        "id": "r1rPY9dUAI-_"
      },
      "outputs": [],
      "source": [
        "import sklearn\n",
        "from sklearn.datasets import make_circles\n",
        "\n",
        "#choose number of samples\n",
        "n_samples=1000\n",
        "\n",
        "#create circles\n",
        "x,y=make_circles(n_samples,\n",
        "                 noise=0.02,\n",
        "                 random_state=66)"
      ]
    },
    {
      "cell_type": "code",
      "source": [
        "len(x), len(y)"
      ],
      "metadata": {
        "id": "U9-7N_7gCKri",
        "colab": {
          "base_uri": "https://localhost:8080/"
        },
        "outputId": "16ff3aa8-a5a9-47c3-b5e8-f4a7aeb15ae1"
      },
      "execution_count": 34,
      "outputs": [
        {
          "output_type": "execute_result",
          "data": {
            "text/plain": [
              "(1000, 1000)"
            ]
          },
          "metadata": {},
          "execution_count": 34
        }
      ]
    },
    {
      "cell_type": "code",
      "source": [
        "print(x[:5])\n",
        "print(y[:5])"
      ],
      "metadata": {
        "id": "0qLU_AAaCb3F",
        "colab": {
          "base_uri": "https://localhost:8080/"
        },
        "outputId": "d752eea6-57a4-4210-d36d-7cf004cb769e"
      },
      "execution_count": 35,
      "outputs": [
        {
          "output_type": "stream",
          "name": "stdout",
          "text": [
            "[[-0.72974363  0.68637738]\n",
            " [ 0.66264716 -0.44070676]\n",
            " [-0.25925316  0.77418256]\n",
            " [-0.48943149 -0.61886408]\n",
            " [ 0.08215533  1.04318507]]\n",
            "[0 1 1 1 0]\n"
          ]
        }
      ]
    },
    {
      "cell_type": "code",
      "source": [
        "import pandas as pd\n",
        "circle_data=pd.DataFrame({\"x_1\":x[:,0],\n",
        "                         \"x_2\":x[:,1],\n",
        "                         \"label\":y})\n",
        "circle_data.head()"
      ],
      "metadata": {
        "id": "mtxKNqYgCxmM",
        "colab": {
          "base_uri": "https://localhost:8080/",
          "height": 206
        },
        "outputId": "2f737187-2ab5-4337-9371-25a8e180ff90"
      },
      "execution_count": 36,
      "outputs": [
        {
          "output_type": "execute_result",
          "data": {
            "text/plain": [
              "        x_1       x_2  label\n",
              "0 -0.729744  0.686377      0\n",
              "1  0.662647 -0.440707      1\n",
              "2 -0.259253  0.774183      1\n",
              "3 -0.489431 -0.618864      1\n",
              "4  0.082155  1.043185      0"
            ],
            "text/html": [
              "\n",
              "  <div id=\"df-4203aa28-ea87-4fbf-b349-2b64e4f98155\" class=\"colab-df-container\">\n",
              "    <div>\n",
              "<style scoped>\n",
              "    .dataframe tbody tr th:only-of-type {\n",
              "        vertical-align: middle;\n",
              "    }\n",
              "\n",
              "    .dataframe tbody tr th {\n",
              "        vertical-align: top;\n",
              "    }\n",
              "\n",
              "    .dataframe thead th {\n",
              "        text-align: right;\n",
              "    }\n",
              "</style>\n",
              "<table border=\"1\" class=\"dataframe\">\n",
              "  <thead>\n",
              "    <tr style=\"text-align: right;\">\n",
              "      <th></th>\n",
              "      <th>x_1</th>\n",
              "      <th>x_2</th>\n",
              "      <th>label</th>\n",
              "    </tr>\n",
              "  </thead>\n",
              "  <tbody>\n",
              "    <tr>\n",
              "      <th>0</th>\n",
              "      <td>-0.729744</td>\n",
              "      <td>0.686377</td>\n",
              "      <td>0</td>\n",
              "    </tr>\n",
              "    <tr>\n",
              "      <th>1</th>\n",
              "      <td>0.662647</td>\n",
              "      <td>-0.440707</td>\n",
              "      <td>1</td>\n",
              "    </tr>\n",
              "    <tr>\n",
              "      <th>2</th>\n",
              "      <td>-0.259253</td>\n",
              "      <td>0.774183</td>\n",
              "      <td>1</td>\n",
              "    </tr>\n",
              "    <tr>\n",
              "      <th>3</th>\n",
              "      <td>-0.489431</td>\n",
              "      <td>-0.618864</td>\n",
              "      <td>1</td>\n",
              "    </tr>\n",
              "    <tr>\n",
              "      <th>4</th>\n",
              "      <td>0.082155</td>\n",
              "      <td>1.043185</td>\n",
              "      <td>0</td>\n",
              "    </tr>\n",
              "  </tbody>\n",
              "</table>\n",
              "</div>\n",
              "    <div class=\"colab-df-buttons\">\n",
              "\n",
              "  <div class=\"colab-df-container\">\n",
              "    <button class=\"colab-df-convert\" onclick=\"convertToInteractive('df-4203aa28-ea87-4fbf-b349-2b64e4f98155')\"\n",
              "            title=\"Convert this dataframe to an interactive table.\"\n",
              "            style=\"display:none;\">\n",
              "\n",
              "  <svg xmlns=\"http://www.w3.org/2000/svg\" height=\"24px\" viewBox=\"0 -960 960 960\">\n",
              "    <path d=\"M120-120v-720h720v720H120Zm60-500h600v-160H180v160Zm220 220h160v-160H400v160Zm0 220h160v-160H400v160ZM180-400h160v-160H180v160Zm440 0h160v-160H620v160ZM180-180h160v-160H180v160Zm440 0h160v-160H620v160Z\"/>\n",
              "  </svg>\n",
              "    </button>\n",
              "\n",
              "  <style>\n",
              "    .colab-df-container {\n",
              "      display:flex;\n",
              "      gap: 12px;\n",
              "    }\n",
              "\n",
              "    .colab-df-convert {\n",
              "      background-color: #E8F0FE;\n",
              "      border: none;\n",
              "      border-radius: 50%;\n",
              "      cursor: pointer;\n",
              "      display: none;\n",
              "      fill: #1967D2;\n",
              "      height: 32px;\n",
              "      padding: 0 0 0 0;\n",
              "      width: 32px;\n",
              "    }\n",
              "\n",
              "    .colab-df-convert:hover {\n",
              "      background-color: #E2EBFA;\n",
              "      box-shadow: 0px 1px 2px rgba(60, 64, 67, 0.3), 0px 1px 3px 1px rgba(60, 64, 67, 0.15);\n",
              "      fill: #174EA6;\n",
              "    }\n",
              "\n",
              "    .colab-df-buttons div {\n",
              "      margin-bottom: 4px;\n",
              "    }\n",
              "\n",
              "    [theme=dark] .colab-df-convert {\n",
              "      background-color: #3B4455;\n",
              "      fill: #D2E3FC;\n",
              "    }\n",
              "\n",
              "    [theme=dark] .colab-df-convert:hover {\n",
              "      background-color: #434B5C;\n",
              "      box-shadow: 0px 1px 3px 1px rgba(0, 0, 0, 0.15);\n",
              "      filter: drop-shadow(0px 1px 2px rgba(0, 0, 0, 0.3));\n",
              "      fill: #FFFFFF;\n",
              "    }\n",
              "  </style>\n",
              "\n",
              "    <script>\n",
              "      const buttonEl =\n",
              "        document.querySelector('#df-4203aa28-ea87-4fbf-b349-2b64e4f98155 button.colab-df-convert');\n",
              "      buttonEl.style.display =\n",
              "        google.colab.kernel.accessAllowed ? 'block' : 'none';\n",
              "\n",
              "      async function convertToInteractive(key) {\n",
              "        const element = document.querySelector('#df-4203aa28-ea87-4fbf-b349-2b64e4f98155');\n",
              "        const dataTable =\n",
              "          await google.colab.kernel.invokeFunction('convertToInteractive',\n",
              "                                                    [key], {});\n",
              "        if (!dataTable) return;\n",
              "\n",
              "        const docLinkHtml = 'Like what you see? Visit the ' +\n",
              "          '<a target=\"_blank\" href=https://colab.research.google.com/notebooks/data_table.ipynb>data table notebook</a>'\n",
              "          + ' to learn more about interactive tables.';\n",
              "        element.innerHTML = '';\n",
              "        dataTable['output_type'] = 'display_data';\n",
              "        await google.colab.output.renderOutput(dataTable, element);\n",
              "        const docLink = document.createElement('div');\n",
              "        docLink.innerHTML = docLinkHtml;\n",
              "        element.appendChild(docLink);\n",
              "      }\n",
              "    </script>\n",
              "  </div>\n",
              "\n",
              "\n",
              "<div id=\"df-d3766688-b584-4a38-a322-56773d0552e3\">\n",
              "  <button class=\"colab-df-quickchart\" onclick=\"quickchart('df-d3766688-b584-4a38-a322-56773d0552e3')\"\n",
              "            title=\"Suggest charts\"\n",
              "            style=\"display:none;\">\n",
              "\n",
              "<svg xmlns=\"http://www.w3.org/2000/svg\" height=\"24px\"viewBox=\"0 0 24 24\"\n",
              "     width=\"24px\">\n",
              "    <g>\n",
              "        <path d=\"M19 3H5c-1.1 0-2 .9-2 2v14c0 1.1.9 2 2 2h14c1.1 0 2-.9 2-2V5c0-1.1-.9-2-2-2zM9 17H7v-7h2v7zm4 0h-2V7h2v10zm4 0h-2v-4h2v4z\"/>\n",
              "    </g>\n",
              "</svg>\n",
              "  </button>\n",
              "\n",
              "<style>\n",
              "  .colab-df-quickchart {\n",
              "      --bg-color: #E8F0FE;\n",
              "      --fill-color: #1967D2;\n",
              "      --hover-bg-color: #E2EBFA;\n",
              "      --hover-fill-color: #174EA6;\n",
              "      --disabled-fill-color: #AAA;\n",
              "      --disabled-bg-color: #DDD;\n",
              "  }\n",
              "\n",
              "  [theme=dark] .colab-df-quickchart {\n",
              "      --bg-color: #3B4455;\n",
              "      --fill-color: #D2E3FC;\n",
              "      --hover-bg-color: #434B5C;\n",
              "      --hover-fill-color: #FFFFFF;\n",
              "      --disabled-bg-color: #3B4455;\n",
              "      --disabled-fill-color: #666;\n",
              "  }\n",
              "\n",
              "  .colab-df-quickchart {\n",
              "    background-color: var(--bg-color);\n",
              "    border: none;\n",
              "    border-radius: 50%;\n",
              "    cursor: pointer;\n",
              "    display: none;\n",
              "    fill: var(--fill-color);\n",
              "    height: 32px;\n",
              "    padding: 0;\n",
              "    width: 32px;\n",
              "  }\n",
              "\n",
              "  .colab-df-quickchart:hover {\n",
              "    background-color: var(--hover-bg-color);\n",
              "    box-shadow: 0 1px 2px rgba(60, 64, 67, 0.3), 0 1px 3px 1px rgba(60, 64, 67, 0.15);\n",
              "    fill: var(--button-hover-fill-color);\n",
              "  }\n",
              "\n",
              "  .colab-df-quickchart-complete:disabled,\n",
              "  .colab-df-quickchart-complete:disabled:hover {\n",
              "    background-color: var(--disabled-bg-color);\n",
              "    fill: var(--disabled-fill-color);\n",
              "    box-shadow: none;\n",
              "  }\n",
              "\n",
              "  .colab-df-spinner {\n",
              "    border: 2px solid var(--fill-color);\n",
              "    border-color: transparent;\n",
              "    border-bottom-color: var(--fill-color);\n",
              "    animation:\n",
              "      spin 1s steps(1) infinite;\n",
              "  }\n",
              "\n",
              "  @keyframes spin {\n",
              "    0% {\n",
              "      border-color: transparent;\n",
              "      border-bottom-color: var(--fill-color);\n",
              "      border-left-color: var(--fill-color);\n",
              "    }\n",
              "    20% {\n",
              "      border-color: transparent;\n",
              "      border-left-color: var(--fill-color);\n",
              "      border-top-color: var(--fill-color);\n",
              "    }\n",
              "    30% {\n",
              "      border-color: transparent;\n",
              "      border-left-color: var(--fill-color);\n",
              "      border-top-color: var(--fill-color);\n",
              "      border-right-color: var(--fill-color);\n",
              "    }\n",
              "    40% {\n",
              "      border-color: transparent;\n",
              "      border-right-color: var(--fill-color);\n",
              "      border-top-color: var(--fill-color);\n",
              "    }\n",
              "    60% {\n",
              "      border-color: transparent;\n",
              "      border-right-color: var(--fill-color);\n",
              "    }\n",
              "    80% {\n",
              "      border-color: transparent;\n",
              "      border-right-color: var(--fill-color);\n",
              "      border-bottom-color: var(--fill-color);\n",
              "    }\n",
              "    90% {\n",
              "      border-color: transparent;\n",
              "      border-bottom-color: var(--fill-color);\n",
              "    }\n",
              "  }\n",
              "</style>\n",
              "\n",
              "  <script>\n",
              "    async function quickchart(key) {\n",
              "      const quickchartButtonEl =\n",
              "        document.querySelector('#' + key + ' button');\n",
              "      quickchartButtonEl.disabled = true;  // To prevent multiple clicks.\n",
              "      quickchartButtonEl.classList.add('colab-df-spinner');\n",
              "      try {\n",
              "        const charts = await google.colab.kernel.invokeFunction(\n",
              "            'suggestCharts', [key], {});\n",
              "      } catch (error) {\n",
              "        console.error('Error during call to suggestCharts:', error);\n",
              "      }\n",
              "      quickchartButtonEl.classList.remove('colab-df-spinner');\n",
              "      quickchartButtonEl.classList.add('colab-df-quickchart-complete');\n",
              "    }\n",
              "    (() => {\n",
              "      let quickchartButtonEl =\n",
              "        document.querySelector('#df-d3766688-b584-4a38-a322-56773d0552e3 button');\n",
              "      quickchartButtonEl.style.display =\n",
              "        google.colab.kernel.accessAllowed ? 'block' : 'none';\n",
              "    })();\n",
              "  </script>\n",
              "</div>\n",
              "\n",
              "    </div>\n",
              "  </div>\n"
            ]
          },
          "metadata": {},
          "execution_count": 36
        }
      ]
    },
    {
      "cell_type": "code",
      "source": [
        "#Visulaizing data\n",
        "import matplotlib.pyplot as plt\n",
        "plt.scatter(x=x[:,0],\n",
        "            y=x[:,1],\n",
        "            c=y, #colour deided by the value in y\n",
        "            cmap=plt.cm.RdYlBu)#cmap sets the color map based on value of y"
      ],
      "metadata": {
        "id": "2tCLWx8JD7rD",
        "colab": {
          "base_uri": "https://localhost:8080/",
          "height": 447
        },
        "outputId": "b547099c-1078-469c-aac7-b89859007898"
      },
      "execution_count": 37,
      "outputs": [
        {
          "output_type": "execute_result",
          "data": {
            "text/plain": [
              "<matplotlib.collections.PathCollection at 0x7d40dbcd9180>"
            ]
          },
          "metadata": {},
          "execution_count": 37
        },
        {
          "output_type": "display_data",
          "data": {
            "text/plain": [
              "<Figure size 640x480 with 1 Axes>"
            ],
            "image/png": "[encoded data removed]"
          },
          "metadata": {}
        }
      ]
    },
    {
      "cell_type": "markdown",
      "source": [
        "Check input and output shapes\n"
      ],
      "metadata": {
        "id": "UuODMxLZFWc3"
      }
    },
    {
      "cell_type": "code",
      "source": [
        "x.shape,y.shape"
      ],
      "metadata": {
        "id": "jAy33Q9cFZ9S",
        "colab": {
          "base_uri": "https://localhost:8080/"
        },
        "outputId": "bbe5a97d-7f41-4482-cb56-0f8c5e68f92d"
      },
      "execution_count": 38,
      "outputs": [
        {
          "output_type": "execute_result",
          "data": {
            "text/plain": [
              "((1000, 2), (1000,))"
            ]
          },
          "metadata": {},
          "execution_count": 38
        }
      ]
    },
    {
      "cell_type": "code",
      "source": [
        "print(\"sample x value\", x[0])\n",
        "print(\"sample y value\", y[0])"
      ],
      "metadata": {
        "id": "iwEaEIVoFzEs",
        "colab": {
          "base_uri": "https://localhost:8080/"
        },
        "outputId": "bc26418f-8258-411c-b49e-2c8580d9232d"
      },
      "execution_count": 39,
      "outputs": [
        {
          "output_type": "stream",
          "name": "stdout",
          "text": [
            "sample x value [-0.72974363  0.68637738]\n",
            "sample y value 0\n"
          ]
        }
      ]
    },
    {
      "cell_type": "markdown",
      "source": [
        "Turn data into tensors\n"
      ],
      "metadata": {
        "id": "OhXXyXoqGFNa"
      }
    },
    {
      "cell_type": "code",
      "source": [
        "import torch\n",
        "torch.__version__"
      ],
      "metadata": {
        "id": "SWZL9oDSGIGL",
        "colab": {
          "base_uri": "https://localhost:8080/",
          "height": 35
        },
        "outputId": "37fe6873-d763-47bb-e085-43e325c38c86"
      },
      "execution_count": 40,
      "outputs": [
        {
          "output_type": "execute_result",
          "data": {
            "text/plain": [
              "'2.1.0+cu121'"
            ],
            "application/vnd.google.colaboratory.intrinsic+json": {
              "type": "string"
            }
          },
          "metadata": {},
          "execution_count": 40
        }
      ]
    },
    {
      "cell_type": "code",
      "source": [
        "type(x)"
      ],
      "metadata": {
        "id": "bhUfWok_HISn",
        "colab": {
          "base_uri": "https://localhost:8080/"
        },
        "outputId": "7d941011-f186-4e18-c8dd-033432f9f86c"
      },
      "execution_count": 41,
      "outputs": [
        {
          "output_type": "execute_result",
          "data": {
            "text/plain": [
              "numpy.ndarray"
            ]
          },
          "metadata": {},
          "execution_count": 41
        }
      ]
    },
    {
      "cell_type": "code",
      "source": [
        "#Turn into tensor\n",
        "x_tensor=torch.from_numpy(x).type(torch.float)\n",
        "y_tensor=torch.from_numpy(y).type(torch.float)#float will convert to float32 by default\n",
        "type(x_tensor),type(y_tensor),x_tensor.dtype,y_tensor.dtype"
      ],
      "metadata": {
        "id": "008dVhQ1HLI6",
        "colab": {
          "base_uri": "https://localhost:8080/"
        },
        "outputId": "70e8e783-6ac5-44b6-9295-34cde4d360b8"
      },
      "execution_count": 42,
      "outputs": [
        {
          "output_type": "execute_result",
          "data": {
            "text/plain": [
              "(torch.Tensor, torch.Tensor, torch.float32, torch.float32)"
            ]
          },
          "metadata": {},
          "execution_count": 42
        }
      ]
    },
    {
      "cell_type": "code",
      "source": [
        "#split into training and test dataset\n",
        "from sklearn.model_selection import train_test_split\n",
        "\n",
        "x_train,x_test,y_train,y_test= train_test_split(x_tensor,\n",
        "                                                y_tensor,\n",
        "                                                test_size=0.2) #20% of whole dataset)"
      ],
      "metadata": {
        "id": "aLaMXADPIkBy"
      },
      "execution_count": 43,
      "outputs": []
    },
    {
      "cell_type": "code",
      "source": [
        "len(x_train),len(x_test),len(y_train),len(y_test)"
      ],
      "metadata": {
        "id": "DhTje5WlJnoz",
        "colab": {
          "base_uri": "https://localhost:8080/"
        },
        "outputId": "fc87a9ab-1bf6-47e7-d93b-4ba360b42fcc"
      },
      "execution_count": 44,
      "outputs": [
        {
          "output_type": "execute_result",
          "data": {
            "text/plain": [
              "(800, 200, 800, 200)"
            ]
          },
          "metadata": {},
          "execution_count": 44
        }
      ]
    },
    {
      "cell_type": "markdown",
      "source": [
        "Building a model\n"
      ],
      "metadata": {
        "id": "oLIxr5rNJ1Ph"
      }
    },
    {
      "cell_type": "code",
      "source": [
        "import torch\n",
        "from torch import nn\n",
        "#make device agnostic code\n",
        "device= \"cuda\" if torch.cuda.is_available() else \"cpu\"\n",
        "device"
      ],
      "metadata": {
        "id": "yMm4UzNdJ3nW",
        "colab": {
          "base_uri": "https://localhost:8080/",
          "height": 35
        },
        "outputId": "e23994b2-bda7-4c86-d762-21c26766a287"
      },
      "execution_count": 45,
      "outputs": [
        {
          "output_type": "execute_result",
          "data": {
            "text/plain": [
              "'cpu'"
            ],
            "application/vnd.google.colaboratory.intrinsic+json": {
              "type": "string"
            }
          },
          "metadata": {},
          "execution_count": 45
        }
      ]
    },
    {
      "cell_type": "markdown",
      "source": [
        "Now, the following steps will be done:\n",
        "1. Make a subclass of nn.Module\n",
        "2. Create 2 nn.Linear layers that are capable of handling shapes of our data\n",
        "3. Define a forward() method based on forward computation required\n",
        "4. Make an instance of the subclass and send to target device"
      ],
      "metadata": {
        "id": "u1DfahXrcku8"
      }
    },
    {
      "cell_type": "code",
      "source": [
        "x_train.shape, y_train.shape #small side note: shape here is not a method but an attribute of ndarray thats why no ()"
      ],
      "metadata": {
        "id": "YvSS17HDhCB2",
        "colab": {
          "base_uri": "https://localhost:8080/"
        },
        "outputId": "0c05d63b-1d88-46c1-c811-67688316bde5"
      },
      "execution_count": 46,
      "outputs": [
        {
          "output_type": "execute_result",
          "data": {
            "text/plain": [
              "(torch.Size([800, 2]), torch.Size([800]))"
            ]
          },
          "metadata": {},
          "execution_count": 46
        }
      ]
    },
    {
      "cell_type": "code",
      "source": [
        "class Circle_Model(nn.Module):\n",
        "  def __init__(self):\n",
        "    super().__init__()\n",
        "    #in_features and out_features selected based on shape of x_train and y_train\n",
        "    self.layer_1=nn.Linear(in_features=2, out_features=5)#takes 2 features (the coordinates) and gives out a specific number of features chosen by out_features parameter\n",
        "    self.layer_2=nn.Linear(in_features=5, out_features=1)#takes features produced by first layer and gives 1 feature\n",
        "\n",
        "    #define forward pass\n",
        "    def forward(self,x):\n",
        "      return self.layer_2(self.layer_1(x)) #x goes through first layer then second layer then gives output\n",
        "\n",
        "#make an instance of our model\n",
        "model_0=Circle_Model().to(device)\n",
        "model_0"
      ],
      "metadata": {
        "id": "qN2aX1SBdGsS",
        "colab": {
          "base_uri": "https://localhost:8080/"
        },
        "outputId": "640c91e4-6e25-4000-8560-af86951be9dd"
      },
      "execution_count": 47,
      "outputs": [
        {
          "output_type": "execute_result",
          "data": {
            "text/plain": [
              "Circle_Model(\n",
              "  (layer_1): Linear(in_features=2, out_features=5, bias=True)\n",
              "  (layer_2): Linear(in_features=5, out_features=1, bias=True)\n",
              ")"
            ]
          },
          "metadata": {},
          "execution_count": 47
        }
      ]
    },
    {
      "cell_type": "code",
      "source": [
        "device"
      ],
      "metadata": {
        "id": "01O9AoqWBlbm",
        "colab": {
          "base_uri": "https://localhost:8080/",
          "height": 35
        },
        "outputId": "8f7dbaf1-c6b5-42e5-f6e0-7a8596b9b4f7"
      },
      "execution_count": 48,
      "outputs": [
        {
          "output_type": "execute_result",
          "data": {
            "text/plain": [
              "'cpu'"
            ],
            "application/vnd.google.colaboratory.intrinsic+json": {
              "type": "string"
            }
          },
          "metadata": {},
          "execution_count": 48
        }
      ]
    },
    {
      "cell_type": "code",
      "source": [
        "(next(model_0.parameters())).device# parameters() method in nn.Module returns an iterable over the parameters of the model, next() function is used to iterate once over the  iterable, hence reaching its fist value which is returned, .device is an attribute of nn.Module returning the device which the accessed parameter is stored in"
      ],
      "metadata": {
        "id": "K-Q0BvOYDeDG",
        "colab": {
          "base_uri": "https://localhost:8080/"
        },
        "outputId": "344e079c-8dbf-41d0-aca9-473ce1f4340c"
      },
      "execution_count": 49,
      "outputs": [
        {
          "output_type": "execute_result",
          "data": {
            "text/plain": [
              "device(type='cpu')"
            ]
          },
          "metadata": {},
          "execution_count": 49
        }
      ]
    },
    {
      "cell_type": "code",
      "source": [
        "type(model_0.parameters())"
      ],
      "metadata": {
        "id": "6UsuckwLD-5a",
        "colab": {
          "base_uri": "https://localhost:8080/"
        },
        "outputId": "4ecc1914-0886-429a-acf3-4528549fbafd"
      },
      "execution_count": 50,
      "outputs": [
        {
          "output_type": "execute_result",
          "data": {
            "text/plain": [
              "generator"
            ]
          },
          "metadata": {},
          "execution_count": 50
        }
      ]
    },
    {
      "cell_type": "code",
      "source": [
        "#replicating the model using nn.Sequential\n",
        "\n",
        "model_0=nn.Sequential(\n",
        "    nn.Linear(in_features=2, out_features=5),\n",
        "    nn.Linear(in_features=5, out_features=1)\n",
        ").to(device)\n",
        "\n",
        "model_0# figure out how to change dtype of weights of a model\n",
        "\n",
        "#makes essentially the same neural network as was made above as subclass of nn.Module\n",
        "#using this will make all the required layers of the network at once while defining attributes of subclass in nn.Module insteead of defining each individually\n",
        "#use this when network to be made is simple, if network is very customized use code like above making subclasses"
      ],
      "metadata": {
        "id": "pHRfxJvjHzCa",
        "colab": {
          "base_uri": "https://localhost:8080/"
        },
        "outputId": "523a80db-10cb-4d99-d649-58c481f5ef0c"
      },
      "execution_count": 51,
      "outputs": [
        {
          "output_type": "execute_result",
          "data": {
            "text/plain": [
              "Sequential(\n",
              "  (0): Linear(in_features=2, out_features=5, bias=True)\n",
              "  (1): Linear(in_features=5, out_features=1, bias=True)\n",
              ")"
            ]
          },
          "metadata": {},
          "execution_count": 51
        }
      ]
    },
    {
      "cell_type": "code",
      "source": [
        "#make untrained predictions\n",
        "with torch.inference_mode():\n",
        "  untrained_pred=model_0(x_test)\n",
        "print(\"shape of untrained predictions:\", untrained_pred.shape)\n",
        "print(\"shape of test sample\", x_test.shape)\n",
        "print(\"first 10 predictions\", torch.round(untrained_pred[:10]))\n",
        "print(\"first 10 y_test\", y_test[:10])\n"
      ],
      "metadata": {
        "id": "J4qyMQEGWgJF",
        "colab": {
          "base_uri": "https://localhost:8080/"
        },
        "outputId": "cd5dada6-8ba7-4354-c160-6b99578a44f0"
      },
      "execution_count": 52,
      "outputs": [
        {
          "output_type": "stream",
          "name": "stdout",
          "text": [
            "shape of untrained predictions: torch.Size([200, 1])\n",
            "shape of test sample torch.Size([200, 2])\n",
            "first 10 predictions tensor([[0.],\n",
            "        [1.],\n",
            "        [0.],\n",
            "        [0.],\n",
            "        [0.],\n",
            "        [0.],\n",
            "        [1.],\n",
            "        [0.],\n",
            "        [0.],\n",
            "        [0.]])\n",
            "first 10 y_test tensor([0., 0., 0., 1., 0., 0., 0., 1., 0., 1.])\n"
          ]
        }
      ]
    },
    {
      "cell_type": "markdown",
      "source": [
        "Setting up Loss Function and Optimizer:\n",
        "Which ones to use?\n",
        "1. For Regression: MAE or MSE is generally used.\n",
        "2. For Classificaiton: Binary Cross Entropy or Categorical Cross Entropy is used generally\n",
        "3. Optimizer: Most useful ones are SGD and Adam"
      ],
      "metadata": {
        "id": "ic95d_9hewr5"
      }
    },
    {
      "cell_type": "code",
      "source": [
        "#here will use BCE with Sigmoid function built in\n",
        "loss_fn=nn.BCEWithLogitsLoss()# read its documentaiton\n",
        "optimizer=torch.optim.SGD(params=model_0.parameters(),\n",
        "                          lr=0.1)"
      ],
      "metadata": {
        "id": "126iJnfmgi3J"
      },
      "execution_count": 53,
      "outputs": []
    },
    {
      "cell_type": "code",
      "source": [
        "#calculate accuracy\n",
        "def accuracy_calc(y_true, y_pred):\n",
        "  correct=torch.eq(y_true,y_pred).sum().item()#eq function makes a boolean tensor with True wherever both values are equal, sum() method adds up all elements and returns a tensor, item() method returns the numerical value of the values in tensor\n",
        "  acc=(correct/len(y_pred))*100# in percentage\n",
        "  return acc"
      ],
      "metadata": {
        "id": "I5eDXWn8hfo7"
      },
      "execution_count": 54,
      "outputs": []
    },
    {
      "cell_type": "markdown",
      "source": [
        "Train Model:\n",
        "1. Forward Pass\n",
        "2. Calculate Loss\n",
        "3. Set Optimizer Zero Grad\n",
        "4. BackPropogation\n",
        "5. Gradient Descent\n"
      ],
      "metadata": {
        "id": "jgvrZvLQq3MW"
      }
    },
    {
      "cell_type": "code",
      "source": [
        "model_0.eval() #putting in evaluation mode\n",
        "#havent started the training loop yet still manually seeing how training will go\n",
        "with torch.inference_mode():\n",
        "  y_logits=model_0(x_test)\n",
        "print(y_logits[:5])\n",
        "len(y_logits)"
      ],
      "metadata": {
        "colab": {
          "base_uri": "https://localhost:8080/"
        },
        "id": "aGHzKT-zrKhg",
        "outputId": "af10cd96-016b-492f-faa6-82ab0e1cebfb"
      },
      "execution_count": 84,
      "outputs": [
        {
          "output_type": "stream",
          "name": "stdout",
          "text": [
            "tensor([[ 0.0946],\n",
            "        [-0.0123],\n",
            "        [ 0.0733],\n",
            "        [ 0.0576],\n",
            "        [ 0.0685]])\n"
          ]
        },
        {
          "output_type": "execute_result",
          "data": {
            "text/plain": [
              "200"
            ]
          },
          "metadata": {},
          "execution_count": 84
        }
      ]
    },
    {
      "cell_type": "code",
      "source": [
        "y_test[:5]"
      ],
      "metadata": {
        "id": "ejMfLZI3sUYN",
        "colab": {
          "base_uri": "https://localhost:8080/"
        },
        "outputId": "52c80b29-1fb0-4dd5-c064-94c92fe81f3e"
      },
      "execution_count": 85,
      "outputs": [
        {
          "output_type": "execute_result",
          "data": {
            "text/plain": [
              "tensor([0., 0., 0., 1., 0.])"
            ]
          },
          "metadata": {},
          "execution_count": 85
        }
      ]
    },
    {
      "cell_type": "code",
      "source": [
        "y_pred_probs=torch.sigmoid(y_logits)# using sigmoid activation function\n",
        "print(y_pred_probs[:5])\n",
        "len(y_pred_probs)"
      ],
      "metadata": {
        "id": "SrdklF1HsV1A",
        "colab": {
          "base_uri": "https://localhost:8080/"
        },
        "outputId": "cbad3fcf-b925-4c01-e7c8-54db3c2bfd3b"
      },
      "execution_count": 86,
      "outputs": [
        {
          "output_type": "stream",
          "name": "stdout",
          "text": [
            "tensor([[0.5236],\n",
            "        [0.4969],\n",
            "        [0.5183],\n",
            "        [0.5144],\n",
            "        [0.5171]])\n"
          ]
        },
        {
          "output_type": "execute_result",
          "data": {
            "text/plain": [
              "200"
            ]
          },
          "metadata": {},
          "execution_count": 86
        }
      ]
    },
    {
      "cell_type": "code",
      "source": [
        "#Calculating prediction 2 diff ways\n",
        "y_preds=torch.round(y_pred_probs)\n",
        "# now in full\n",
        "y_preds_again= torch.round(torch.sigmoid(model_0(x_test)))\n",
        "#checking for equality\n",
        "print(torch.eq(y_preds.squeeze(),y_preds_again.squeeze()))\n",
        "#getting rid of extra dimension in prediction\n",
        "y_preds.squeeze()"
      ],
      "metadata": {
        "id": "bXTkhooMs0Yh",
        "colab": {
          "base_uri": "https://localhost:8080/"
        },
        "outputId": "465121c3-bbbe-4ce2-ba8e-740e89a4fb19"
      },
      "execution_count": 87,
      "outputs": [
        {
          "output_type": "stream",
          "name": "stdout",
          "text": [
            "tensor([True, True, True, True, True, True, True, True, True, True, True, True,\n",
            "        True, True, True, True, True, True, True, True, True, True, True, True,\n",
            "        True, True, True, True, True, True, True, True, True, True, True, True,\n",
            "        True, True, True, True, True, True, True, True, True, True, True, True,\n",
            "        True, True, True, True, True, True, True, True, True, True, True, True,\n",
            "        True, True, True, True, True, True, True, True, True, True, True, True,\n",
            "        True, True, True, True, True, True, True, True, True, True, True, True,\n",
            "        True, True, True, True, True, True, True, True, True, True, True, True,\n",
            "        True, True, True, True, True, True, True, True, True, True, True, True,\n",
            "        True, True, True, True, True, True, True, True, True, True, True, True,\n",
            "        True, True, True, True, True, True, True, True, True, True, True, True,\n",
            "        True, True, True, True, True, True, True, True, True, True, True, True,\n",
            "        True, True, True, True, True, True, True, True, True, True, True, True,\n",
            "        True, True, True, True, True, True, True, True, True, True, True, True,\n",
            "        True, True, True, True, True, True, True, True, True, True, True, True,\n",
            "        True, True, True, True, True, True, True, True, True, True, True, True,\n",
            "        True, True, True, True, True, True, True, True])\n"
          ]
        },
        {
          "output_type": "execute_result",
          "data": {
            "text/plain": [
              "tensor([1., 0., 1., 1., 1., 1., 0., 1., 1., 1., 1., 1., 1., 1., 0., 1., 1., 1.,\n",
              "        1., 1., 0., 1., 1., 0., 0., 0., 1., 1., 0., 1., 1., 0., 1., 1., 1., 0.,\n",
              "        1., 1., 1., 1., 1., 1., 0., 1., 1., 1., 1., 0., 1., 1., 1., 1., 1., 1.,\n",
              "        1., 0., 1., 1., 1., 1., 1., 1., 0., 1., 1., 1., 1., 1., 1., 1., 0., 1.,\n",
              "        1., 1., 1., 0., 0., 1., 1., 1., 1., 0., 0., 1., 1., 1., 1., 1., 1., 1.,\n",
              "        0., 0., 1., 1., 1., 1., 1., 1., 0., 1., 1., 1., 1., 0., 1., 1., 1., 0.,\n",
              "        1., 1., 0., 1., 1., 1., 1., 1., 1., 1., 0., 0., 1., 1., 1., 0., 1., 1.,\n",
              "        1., 1., 1., 1., 1., 1., 1., 1., 1., 1., 1., 1., 1., 0., 1., 1., 1., 1.,\n",
              "        1., 1., 1., 1., 1., 1., 1., 1., 1., 1., 1., 1., 1., 1., 1., 1., 1., 1.,\n",
              "        1., 1., 1., 1., 1., 1., 1., 0., 0., 1., 1., 1., 1., 0., 1., 1., 1., 1.,\n",
              "        1., 1., 1., 0., 1., 1., 1., 1., 1., 0., 1., 1., 1., 1., 1., 1., 1., 1.,\n",
              "        1., 0.])"
            ]
          },
          "metadata": {},
          "execution_count": 87
        }
      ]
    },
    {
      "cell_type": "code",
      "source": [
        "#making training loop\n",
        "torch.manual_seed(40)\n",
        "torch.cuda.manual_seed(40)\n",
        "\n",
        "#set number of epochs\n",
        "epochs=100\n",
        "\n",
        "#put data to target device\n",
        "x_train, y_train= x_train.to(device), y_train.to(device)\n",
        "x_test, y_test= x_test.to(device),y_test.to(device)\n",
        "\n",
        "#starting loop\n",
        "for epoch in range(epochs):\n",
        "  #Training\n",
        "  model_0.train()\n",
        "\n",
        "  #1. Forward Pass\n",
        "  y_logits=model_0(x_train).squeeze()\n",
        "  y_pred=torch.round(torch.sigmoid(y_logits))\n",
        "\n",
        "  #2. Calculate Loss\n",
        "  #loss_fn is calculated from the values coming from activation function without rounding off, calculating after rounding off wouldnt make sense because after a point it would become 0 and training would stop there and the model wont be as accurate\n",
        "  loss= loss_fn(y_logits,#here loss_fn function is used which uses BCEWithLogitsLoss, as it has sigmoid function built in it requires raw logits\n",
        "                y_train)\n",
        "  #loss= loss_fn(torch.sigmoid(y_logits), #if loss_fn is defined using nn.BCELoss instead of the way it is defined above, then raw logits need to be converted to prediction probabilities to put in BCELoss function\n",
        "  #              y_train)\n",
        "  acc=accuracy_calc(y_true=y_train,\n",
        "                  y_pred=y_pred)\n",
        "  #3. optimizer zero grad\n",
        "  optimizer.zero_grad()\n",
        "\n",
        "  #4. loss backward (backpropogation)\n",
        "  loss.backward()\n",
        "\n",
        "  #5. optimizer step (gradient descent)\n",
        "  optimizer.step()\n",
        "\n",
        "  #Testing\n",
        "  model_0.eval()\n",
        "  with torch.inference_mode():\n",
        "    # 1. Forward Pass\n",
        "    test_logits=model_0(x_test).squeeze()\n",
        "    test_pred=torch.round(torch.sigmoid(test_logits))\n",
        "\n",
        "    #2. Calculating loss\n",
        "    test_loss= loss_fn(test_logits,\n",
        "                       y_test)\n",
        "    test_acc=accuracy_calc(y_true=y_test,\n",
        "                           y_pred=test_pred)\n",
        "  if epoch%10==0:\n",
        "    print(\"Epoch:\", epoch, \"Training Loss:\", loss.item(), \"Training Accuracy:\", acc, \"Test Loss:\", test_loss.item(), \"Test Accuracy:\", test_acc)\n"
      ],
      "metadata": {
        "id": "h2NYobazSHLD",
        "colab": {
          "base_uri": "https://localhost:8080/"
        },
        "outputId": "5af78c60-bf4b-4934-b15c-a4227ea20209"
      },
      "execution_count": 88,
      "outputs": [
        {
          "output_type": "stream",
          "name": "stdout",
          "text": [
            "Epoch: 0 Training Loss: 0.692775547504425 Training Accuracy: 57.75 Test Loss: 0.6963915228843689 Test Accuracy: 50.5\n",
            "Epoch: 10 Training Loss: 0.6927752494812012 Training Accuracy: 57.49999999999999 Test Loss: 0.6964037418365479 Test Accuracy: 49.5\n",
            "Epoch: 20 Training Loss: 0.6927751302719116 Training Accuracy: 57.375 Test Loss: 0.6964149475097656 Test Accuracy: 49.5\n",
            "Epoch: 30 Training Loss: 0.6927749514579773 Training Accuracy: 57.25 Test Loss: 0.6964253783226013 Test Accuracy: 49.5\n",
            "Epoch: 40 Training Loss: 0.6927748918533325 Training Accuracy: 57.25 Test Loss: 0.6964349150657654 Test Accuracy: 49.5\n",
            "Epoch: 50 Training Loss: 0.6927748322486877 Training Accuracy: 57.125 Test Loss: 0.6964438557624817 Test Accuracy: 49.5\n",
            "Epoch: 60 Training Loss: 0.6927746534347534 Training Accuracy: 57.125 Test Loss: 0.6964520215988159 Test Accuracy: 49.5\n",
            "Epoch: 70 Training Loss: 0.6927745342254639 Training Accuracy: 57.25 Test Loss: 0.6964595913887024 Test Accuracy: 49.5\n",
            "Epoch: 80 Training Loss: 0.6927745342254639 Training Accuracy: 56.99999999999999 Test Loss: 0.6964666843414307 Test Accuracy: 49.5\n",
            "Epoch: 90 Training Loss: 0.6927744150161743 Training Accuracy: 56.99999999999999 Test Loss: 0.6964730620384216 Test Accuracy: 49.5\n"
          ]
        }
      ]
    },
    {
      "cell_type": "code",
      "source": [
        "#as can be seen accuracy remains very close to 50% so something seems wrong\n",
        "#lets check using helper functions\n",
        "#read what this helper function does from the link"
      ],
      "metadata": {
        "id": "0jvoysxo08VE"
      },
      "execution_count": 89,
      "outputs": []
    },
    {
      "cell_type": "code",
      "source": [
        "import requests\n",
        "from pathlib import Path\n",
        "\n",
        "# Download helper functions from Learn PyTorch repo (if not already downloaded)\n",
        "if Path(\"helper_functions.py\").is_file():\n",
        "  print(\"helper_functions.py already exists, skipping download\")\n",
        "else:\n",
        "  print(\"Downloading helper_functions.py\")\n",
        "  request = requests.get(\"https://raw.githubusercontent.com/mrdbourke/pytorch-deep-learning/main/helper_functions.py\")\n",
        "  with open(\"helper_functions.py\", \"wb\") as f:\n",
        "    f.write(request.content)\n",
        "\n",
        "from helper_functions import plot_predictions, plot_decision_boundary"
      ],
      "metadata": {
        "colab": {
          "base_uri": "https://localhost:8080/"
        },
        "id": "fFlcZZwU1HkE",
        "outputId": "75c4ccbf-886d-407e-be67-d4a99d322b04"
      },
      "execution_count": 90,
      "outputs": [
        {
          "output_type": "stream",
          "name": "stdout",
          "text": [
            "helper_functions.py already exists, skipping download\n"
          ]
        }
      ]
    },
    {
      "cell_type": "code",
      "source": [
        "# Plot decision boundaries for training and test sets\n",
        "plt.figure(figsize=(12, 6))\n",
        "plt.subplot(1, 2, 1)\n",
        "plt.title(\"Train\")\n",
        "plot_decision_boundary(model_0, x_train, y_train)\n",
        "plt.subplot(1, 2, 2)#why 1,2,2 here?\n",
        "plt.title(\"Test\")\n",
        "plot_decision_boundary(model_0, x_test, y_test)"
      ],
      "metadata": {
        "colab": {
          "base_uri": "https://localhost:8080/",
          "height": 545
        },
        "id": "NkHXFGQP1N0v",
        "outputId": "1fd7c2be-50f1-406d-cf12-1b357999176f"
      },
      "execution_count": 91,
      "outputs": [
        {
          "output_type": "display_data",
          "data": {
            "text/plain": [
              "<Figure size 1200x600 with 2 Axes>"
            ],
            "image/png": "[encoded data removed]"
          },
          "metadata": {}
        }
      ]
    },
    {
      "cell_type": "code",
      "source": [
        "#above graph makes it clear using linear layers is causing the problems as the boundary formed will be linear only"
      ],
      "metadata": {
        "id": "oar4c8xf5r9V"
      },
      "execution_count": 92,
      "outputs": []
    }
  ]
}
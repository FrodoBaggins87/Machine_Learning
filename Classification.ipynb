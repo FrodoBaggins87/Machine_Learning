{
  "nbformat": 4,
  "nbformat_minor": 0,
  "metadata": {
    "colab": {
      "provenance": [],
      "authorship_tag": "ABX9TyPi8xqJcexY+nxr1xlP2vz5",
      "include_colab_link": true
    },
    "kernelspec": {
      "name": "python3",
      "display_name": "Python 3"
    },
    "language_info": {
      "name": "python"
    }
  },
  "cells": [
    {
      "cell_type": "markdown",
      "metadata": {
        "id": "view-in-github",
        "colab_type": "text"
      },
      "source": [
        "<a href=\"https://colab.research.google.com/github/FrodoBaggins87/Machine_Learning/blob/main/Classification.ipynb\" target=\"_parent\"><img src=\"https://colab.research.google.com/assets/colab-badge.svg\" alt=\"Open In Colab\"/></a>"
      ]
    },
    {
      "cell_type": "markdown",
      "source": [
        "Generate Toy Dataset\n"
      ],
      "metadata": {
        "id": "sbtKz1TfFbLn"
      }
    },
    {
      "cell_type": "code",
      "execution_count": null,
      "metadata": {
        "id": "r1rPY9dUAI-_"
      },
      "outputs": [],
      "source": [
        "import sklearn\n",
        "from sklearn.datasets import make_circles\n",
        "\n",
        "#choose number of samples\n",
        "n_samples=1000\n",
        "\n",
        "#create circles\n",
        "x,y=make_circles(n_samples,\n",
        "                 noise=0.02,\n",
        "                 random_state=66)"
      ]
    },
    {
      "cell_type": "code",
      "source": [
        "len(x), len(y)"
      ],
      "metadata": {
        "id": "U9-7N_7gCKri"
      },
      "execution_count": null,
      "outputs": []
    },
    {
      "cell_type": "code",
      "source": [
        "print(x[:5])\n",
        "print(y[:5])"
      ],
      "metadata": {
        "id": "0qLU_AAaCb3F"
      },
      "execution_count": null,
      "outputs": []
    },
    {
      "cell_type": "code",
      "source": [
        "import pandas as pd\n",
        "circle_data=pd.DataFrame({\"x_1\":x[:,0],\n",
        "                         \"x_2\":x[:,1],\n",
        "                         \"label\":y})\n",
        "circle_data.head()"
      ],
      "metadata": {
        "id": "mtxKNqYgCxmM"
      },
      "execution_count": null,
      "outputs": []
    },
    {
      "cell_type": "code",
      "source": [
        "#Visulaizing data\n",
        "import matplotlib.pyplot as plt\n",
        "plt.scatter(x=x[:,0],\n",
        "            y=x[:,1],\n",
        "            c=y, #colour deided by the value in y\n",
        "            cmap=plt.cm.RdYlBu)#cmap sets the color map based on value of y"
      ],
      "metadata": {
        "id": "2tCLWx8JD7rD"
      },
      "execution_count": null,
      "outputs": []
    },
    {
      "cell_type": "markdown",
      "source": [
        "Check input and output shapes\n"
      ],
      "metadata": {
        "id": "UuODMxLZFWc3"
      }
    },
    {
      "cell_type": "code",
      "source": [
        "x.shape,y.shape"
      ],
      "metadata": {
        "id": "jAy33Q9cFZ9S"
      },
      "execution_count": null,
      "outputs": []
    },
    {
      "cell_type": "code",
      "source": [
        "print(\"sample x value\", x[0])\n",
        "print(\"sample y value\", y[0])"
      ],
      "metadata": {
        "id": "iwEaEIVoFzEs"
      },
      "execution_count": null,
      "outputs": []
    },
    {
      "cell_type": "markdown",
      "source": [
        "Turn data into tensors\n"
      ],
      "metadata": {
        "id": "OhXXyXoqGFNa"
      }
    },
    {
      "cell_type": "code",
      "source": [
        "import torch\n",
        "torch.__version__"
      ],
      "metadata": {
        "id": "SWZL9oDSGIGL"
      },
      "execution_count": null,
      "outputs": []
    },
    {
      "cell_type": "code",
      "source": [
        "type(x)"
      ],
      "metadata": {
        "id": "bhUfWok_HISn"
      },
      "execution_count": null,
      "outputs": []
    },
    {
      "cell_type": "code",
      "source": [
        "#Turn into tensor\n",
        "x_tensor=torch.from_numpy(x).type(torch.float)\n",
        "y_tensor=torch.from_numpy(y).type(torch.float)#float will convert to float32 by default\n",
        "type(x_tensor),type(y_tensor),x_tensor.dtype,y_tensor.dtype"
      ],
      "metadata": {
        "id": "008dVhQ1HLI6"
      },
      "execution_count": null,
      "outputs": []
    },
    {
      "cell_type": "code",
      "source": [
        "#split into training and test dataset\n",
        "from sklearn.model_selection import train_test_split\n",
        "\n",
        "x_train,x_test,y_train,y_test= train_test_split(x,\n",
        "                                                y,\n",
        "                                                test_size=0.2) #20% of whole dataset)"
      ],
      "metadata": {
        "id": "aLaMXADPIkBy"
      },
      "execution_count": null,
      "outputs": []
    },
    {
      "cell_type": "code",
      "source": [
        "len(x_train),len(x_test),len(y_train),len(y_test)"
      ],
      "metadata": {
        "id": "DhTje5WlJnoz"
      },
      "execution_count": null,
      "outputs": []
    },
    {
      "cell_type": "markdown",
      "source": [
        "Building a model\n"
      ],
      "metadata": {
        "id": "oLIxr5rNJ1Ph"
      }
    },
    {
      "cell_type": "code",
      "source": [
        "import torch\n",
        "from torch import nn\n",
        "#make device agnostic code\n",
        "device= \"cuda\" if torch.cuda.is_available() else \"cpu\"\n",
        "device"
      ],
      "metadata": {
        "id": "yMm4UzNdJ3nW"
      },
      "execution_count": null,
      "outputs": []
    },
    {
      "cell_type": "markdown",
      "source": [
        "Now, the following steps will be done:\n",
        "1. Make a subclass of nn.Module\n",
        "2. Create 2 nn.Linear layers that are capable of handling shapes of our data\n",
        "3. Define a forward() method based on forward computation required\n",
        "4. Make an instance of the subclass and send to target device"
      ],
      "metadata": {
        "id": "u1DfahXrcku8"
      }
    },
    {
      "cell_type": "code",
      "source": [
        "x_train.shape, y_train.shape #small side note: shape here is not a method but an attribute of ndarray thats why no ()"
      ],
      "metadata": {
        "id": "YvSS17HDhCB2"
      },
      "execution_count": null,
      "outputs": []
    },
    {
      "cell_type": "code",
      "source": [
        "class Circle_Model(nn.Module):\n",
        "  def __init__(self):\n",
        "    super().__init__()\n",
        "    #in_features and out_features selected based on shape of x_train and y_train\n",
        "    self.layer_1=nn.Linear(in_features=2, out_features=5)#takes 2 features (the coordinates) and gives out a specific number of features chosen by out_features parameter\n",
        "    self.layer_2=nn.Linear(in_features=5, out_features=1)#takes features produced by first layer and gives 1 feature\n",
        "\n",
        "    #define forward pass\n",
        "    def forward(self,x):\n",
        "      return self.layer_2(self.layer_1(x)) #x goes through first layer then second layer then gives output\n",
        "\n",
        "#make an instance of our model\n",
        "model_0=Circle_Model().to(device)\n",
        "model_0"
      ],
      "metadata": {
        "id": "qN2aX1SBdGsS"
      },
      "execution_count": null,
      "outputs": []
    },
    {
      "cell_type": "code",
      "source": [
        "device"
      ],
      "metadata": {
        "id": "01O9AoqWBlbm"
      },
      "execution_count": null,
      "outputs": []
    },
    {
      "cell_type": "code",
      "source": [
        "(next(model_0.parameters())).device# parameters() method in nn.Module returns an iterable over the parameters of the model, next() function is used to iterate once over the  iterable, hence reaching its fist value which is returned, .device is an attribute of nn.Module returning the device which the accessed parameter is stored in"
      ],
      "metadata": {
        "id": "K-Q0BvOYDeDG"
      },
      "execution_count": null,
      "outputs": []
    },
    {
      "cell_type": "code",
      "source": [
        "type(model_0.parameters())"
      ],
      "metadata": {
        "id": "6UsuckwLD-5a"
      },
      "execution_count": null,
      "outputs": []
    },
    {
      "cell_type": "code",
      "source": [
        "#replicating the model using nn.Sequential\n",
        "\n",
        "model_0=nn.Sequential(\n",
        "    nn.Linear(in_features=2, out_features=5),\n",
        "    nn.Linear(in_features=5, out_features=1)\n",
        ").to(device)\n",
        "\n",
        "model_0# figure out how to change dtype of weights of a model\n",
        "\n",
        "#makes essentially the same neural network as was made above as subclass of nn.Module\n",
        "#using this will make all the required layers of the network at once while defining attributes of subclass in nn.Module insteead of defining each individually\n",
        "#use this when network to be made is simple, if network is very customized use code like above making subclasses"
      ],
      "metadata": {
        "id": "pHRfxJvjHzCa"
      },
      "execution_count": null,
      "outputs": []
    },
    {
      "cell_type": "code",
      "source": [
        "#make untrained predictions\n",
        "with torch.inference_mode():\n",
        "  untrained_pred=model_0(torch.from_numpy(x_test.astype('float32')))\n",
        "print(\"shape of untrained predictions:\", untrained_pred.shape)\n",
        "print(\"shape of test sample\", x_test.shape)\n",
        "print(\"first 10 predictions\", torch.round(untrained_pred[:10]))\n",
        "print(\"first 10 y_test\", y_test[:10])\n"
      ],
      "metadata": {
        "id": "J4qyMQEGWgJF"
      },
      "execution_count": null,
      "outputs": []
    },
    {
      "cell_type": "markdown",
      "source": [
        "Setting up Loss Function and Optimizer:\n",
        "Which ones to use?\n",
        "1. For Regression: MAE or MSE is generally used.\n",
        "2. For Classificaiton: Binary Cross Entropy or Categorical Cross Entropy is used generally\n",
        "3. Optimizer: Most useful ones are SGD and Adam"
      ],
      "metadata": {
        "id": "ic95d_9hewr5"
      }
    },
    {
      "cell_type": "code",
      "source": [
        "#here will use BCE with Sigmoid function built in\n",
        "loss_fn=nn.BCEWithLogitsLoss()# read its documentaiton\n",
        "optimizer=torch.optim.SGD(params=model_0.parameters(),\n",
        "                          lr=0.1)"
      ],
      "metadata": {
        "id": "126iJnfmgi3J"
      },
      "execution_count": null,
      "outputs": []
    },
    {
      "cell_type": "code",
      "source": [
        "#calculate accuracy\n",
        "def accuracy_calc(y_true, y_pred):\n",
        "  correct=torch.eq(y_true,y_pred).sum().item()#eq function makes a boolean tensor with True wherever both values are equal, sum() method adds up all elements and returns a tensor, item() method returns the numerical value of the values in tensor\n",
        "  acc=(correct/len(y_pred))*100# in percentage\n",
        "  return acc"
      ],
      "metadata": {
        "id": "I5eDXWn8hfo7"
      },
      "execution_count": null,
      "outputs": []
    },
    {
      "cell_type": "markdown",
      "source": [
        "Train Model:\n",
        "1. Forward Pass\n",
        "2. Calculate Loss\n",
        "3. Set Optimizer Zero Grad\n",
        "4. BackPropogation\n",
        "5. Gradient Descent\n"
      ],
      "metadata": {
        "id": "jgvrZvLQq3MW"
      }
    },
    {
      "cell_type": "code",
      "source": [
        "model_0.eval() #putting in evaluation mode\n",
        "#havent started the training loop yet still manually seeing how training will go\n",
        "with torch.inference_mode():\n",
        "  y_logits=model_0(torch.from_numpy(x_test.astype('float32')).to(device))\n",
        "y_logits[:5]"
      ],
      "metadata": {
        "colab": {
          "base_uri": "https://localhost:8080/",
          "height": 228
        },
        "id": "aGHzKT-zrKhg",
        "outputId": "6f5dc431-d0f0-46e9-9678-189b224464e2"
      },
      "execution_count": 1,
      "outputs": [
        {
          "output_type": "error",
          "ename": "NameError",
          "evalue": "name 'model_0' is not defined",
          "traceback": [
            "\u001b[0;31m---------------------------------------------------------------------------\u001b[0m",
            "\u001b[0;31mNameError\u001b[0m                                 Traceback (most recent call last)",
            "\u001b[0;32m<ipython-input-1-19233cca2760>\u001b[0m in \u001b[0;36m<cell line: 1>\u001b[0;34m()\u001b[0m\n\u001b[0;32m----> 1\u001b[0;31m \u001b[0mmodel_0\u001b[0m\u001b[0;34m.\u001b[0m\u001b[0meval\u001b[0m\u001b[0;34m(\u001b[0m\u001b[0;34m)\u001b[0m \u001b[0;31m#putting in evaluation mode\u001b[0m\u001b[0;34m\u001b[0m\u001b[0;34m\u001b[0m\u001b[0m\n\u001b[0m\u001b[1;32m      2\u001b[0m \u001b[0;32mwith\u001b[0m \u001b[0mtorch\u001b[0m\u001b[0;34m.\u001b[0m\u001b[0minference_mode\u001b[0m\u001b[0;34m(\u001b[0m\u001b[0;34m)\u001b[0m\u001b[0;34m:\u001b[0m\u001b[0;34m\u001b[0m\u001b[0;34m\u001b[0m\u001b[0m\n\u001b[1;32m      3\u001b[0m   \u001b[0my_logits\u001b[0m\u001b[0;34m=\u001b[0m\u001b[0mmodel_0\u001b[0m\u001b[0;34m(\u001b[0m\u001b[0mtorch\u001b[0m\u001b[0;34m.\u001b[0m\u001b[0mfrom_numpy\u001b[0m\u001b[0;34m(\u001b[0m\u001b[0mx_test\u001b[0m\u001b[0;34m.\u001b[0m\u001b[0mastype\u001b[0m\u001b[0;34m(\u001b[0m\u001b[0;34m'float32'\u001b[0m\u001b[0;34m)\u001b[0m\u001b[0;34m)\u001b[0m\u001b[0;34m.\u001b[0m\u001b[0mto\u001b[0m\u001b[0;34m(\u001b[0m\u001b[0mdevice\u001b[0m\u001b[0;34m)\u001b[0m\u001b[0;34m)\u001b[0m\u001b[0;34m\u001b[0m\u001b[0;34m\u001b[0m\u001b[0m\n\u001b[1;32m      4\u001b[0m \u001b[0my_logits\u001b[0m\u001b[0;34m[\u001b[0m\u001b[0;34m:\u001b[0m\u001b[0;36m5\u001b[0m\u001b[0;34m]\u001b[0m\u001b[0;34m\u001b[0m\u001b[0;34m\u001b[0m\u001b[0m\n",
            "\u001b[0;31mNameError\u001b[0m: name 'model_0' is not defined"
          ]
        }
      ]
    },
    {
      "cell_type": "code",
      "source": [
        "y_test[:5]"
      ],
      "metadata": {
        "id": "ejMfLZI3sUYN"
      },
      "execution_count": null,
      "outputs": []
    },
    {
      "cell_type": "code",
      "source": [
        "y_pred_probs=torch.sigmoid(y_logits)# using sigmoid activation function\n",
        "y_pred_probs"
      ],
      "metadata": {
        "id": "SrdklF1HsV1A"
      },
      "execution_count": null,
      "outputs": []
    },
    {
      "cell_type": "code",
      "source": [
        "#Calculating prediction 2 diff ways\n",
        "y_preds=torch.round(y_pred_probs)\n",
        "# now in full\n",
        "y_preds_again= torch.round(torch.sigmoid(model_0(torch.from_numpy(x_test.astype('float32')).to(device))))\n",
        "#checking for equality\n",
        "print(torch.eq(y_preds.squeeze(),y_preds_again.squeeze()))\n",
        "#getting rid of extra dimension in prediction\n",
        "y_preds.squeeze()"
      ],
      "metadata": {
        "id": "bXTkhooMs0Yh"
      },
      "execution_count": null,
      "outputs": []
    }
  ]
}
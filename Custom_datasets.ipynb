{
  "nbformat": 4,
  "nbformat_minor": 0,
  "metadata": {
    "colab": {
      "provenance": [],
      "authorship_tag": "ABX9TyO9xLSh2/EUrwzeUOiQJmv3",
      "include_colab_link": true
    },
    "kernelspec": {
      "name": "python3",
      "display_name": "Python 3"
    },
    "language_info": {
      "name": "python"
    }
  },
  "cells": [
    {
      "cell_type": "markdown",
      "metadata": {
        "id": "view-in-github",
        "colab_type": "text"
      },
      "source": [
        "<a href=\"https://colab.research.google.com/github/FrodoBaggins87/Machine_Learning/blob/main/Custom_datasets.ipynb\" target=\"_parent\"><img src=\"https://colab.research.google.com/assets/colab-badge.svg\" alt=\"Open In Colab\"/></a>"
      ]
    },
    {
      "cell_type": "markdown",
      "source": [
        "Import pytorch and make data agnostic code\n"
      ],
      "metadata": {
        "id": "1-yiY9m95IxN"
      }
    },
    {
      "cell_type": "code",
      "source": [
        "import torch\n",
        "from torch import nn\n",
        "#version>=1.10.0 requried for this notebook\n",
        "torch.__version__"
      ],
      "metadata": {
        "colab": {
          "base_uri": "https://localhost:8080/",
          "height": 35
        },
        "id": "2ul6Nduj5IFz",
        "outputId": "c4cfba94-9bdf-4994-eb3e-096b3759b917"
      },
      "execution_count": null,
      "outputs": [
        {
          "output_type": "execute_result",
          "data": {
            "text/plain": [
              "'2.1.0+cu121'"
            ],
            "application/vnd.google.colaboratory.intrinsic+json": {
              "type": "string"
            }
          },
          "metadata": {},
          "execution_count": 5
        }
      ]
    },
    {
      "cell_type": "code",
      "execution_count": null,
      "metadata": {
        "colab": {
          "base_uri": "https://localhost:8080/",
          "height": 35
        },
        "id": "cXeQFSkd4vbq",
        "outputId": "50c99893-89d2-4813-d8c1-111e7565a510"
      },
      "outputs": [
        {
          "output_type": "execute_result",
          "data": {
            "text/plain": [
              "'cpu'"
            ],
            "application/vnd.google.colaboratory.intrinsic+json": {
              "type": "string"
            }
          },
          "metadata": {},
          "execution_count": 6
        }
      ],
      "source": [
        "#device agnostic code\n",
        "device=\"cuda\" if torch.cuda.is_available() else \"cpu\"\n",
        "device"
      ]
    },
    {
      "cell_type": "markdown",
      "source": [
        "Getting data"
      ],
      "metadata": {
        "id": "JEBeiiTs77wQ"
      }
    },
    {
      "cell_type": "code",
      "source": [
        "#Data of commonly used dataset Food101 will be used. It has 1000 datapoints of 101 different food items\n",
        "#will take 3 food items here. starting small to build the neural network, will then increase later"
      ],
      "metadata": {
        "id": "LXaZbQAi796L"
      },
      "execution_count": null,
      "outputs": []
    },
    {
      "cell_type": "code",
      "source": [
        "import requests\n",
        "import zipfile\n",
        "from pathlib import Path\n",
        "\n",
        "#setup path to data folder\n",
        "data_path= Path(\"data/\")\n",
        "image_path=data_path/\"food_stuff\"\n",
        "#check if image folder exists or not, if not prepare it\n",
        "if image_path.is_dir():\n",
        "  print(f\"{image_path} directory exists\")\n",
        "else:\n",
        "  print(f\"Didnt find {image_path}, creating...\")\n",
        "  image_path.mkdir(parents=True, exist_ok=True)\n",
        "  #the datset that will be used is a formatted dataset being taken from a github file, in general, wont get such formatted data\n",
        "  #download pizza, steak, sushi data in zip file\n",
        "  with open(data_path/\"food_stuff.zip\",\"wb\") as f:\n",
        "    request = requests.get(\"https://github.com/mrdbourke/pytorch-deep-learning/raw/main/data/pizza_steak_sushi.zip\")\n",
        "    print(\"Downloading data...\")\n",
        "    f.write(request.content)\n",
        "  #unzip data\n",
        "  with zipfile.ZipFile(data_path/\"food_stuff.zip\",\"r\") as zip_ref:\n",
        "    print(\"Unzipping food_stuff file...\")\n",
        "    zip_ref.extractall(image_path)"
      ],
      "metadata": {
        "colab": {
          "base_uri": "https://localhost:8080/"
        },
        "id": "s530gAeR94Hr",
        "outputId": "63c1d3b9-49d4-41e1-ddf1-1790031ed294"
      },
      "execution_count": 11,
      "outputs": [
        {
          "output_type": "stream",
          "name": "stdout",
          "text": [
            "Didnt find data/food_stuff, creating...\n",
            "Downloading data...\n",
            "Unzipping food_stuff file...\n"
          ]
        }
      ]
    },
    {
      "cell_type": "markdown",
      "source": [
        "Visualizing how data is given"
      ],
      "metadata": {
        "id": "EN5MWUQ7GVAw"
      }
    },
    {
      "cell_type": "code",
      "source": [
        "import os\n",
        "def walk_through_dir(dir_path):\n",
        "  for dirpath, dirnames, filenames in os.walk(dir_path):\n",
        "    print(f\"There's {len(dirnames)} directories and {len(filenames)} images/files in '{dirpath}'.\")"
      ],
      "metadata": {
        "id": "lEXTsCICFfgs"
      },
      "execution_count": 15,
      "outputs": []
    },
    {
      "cell_type": "code",
      "source": [
        "walk_through_dir(image_path)"
      ],
      "metadata": {
        "colab": {
          "base_uri": "https://localhost:8080/"
        },
        "id": "AtbcNTa8HUS2",
        "outputId": "6730b20a-21e5-425c-f392-61bac1f22393"
      },
      "execution_count": 17,
      "outputs": [
        {
          "output_type": "stream",
          "name": "stdout",
          "text": [
            "There's 2 directories and 0 images/files in 'data/food_stuff'.\n",
            "There's 3 directories and 0 images/files in 'data/food_stuff/train'.\n",
            "There's 0 directories and 75 images/files in 'data/food_stuff/train/steak'.\n",
            "There's 0 directories and 72 images/files in 'data/food_stuff/train/sushi'.\n",
            "There's 0 directories and 78 images/files in 'data/food_stuff/train/pizza'.\n",
            "There's 3 directories and 0 images/files in 'data/food_stuff/test'.\n",
            "There's 0 directories and 19 images/files in 'data/food_stuff/test/steak'.\n",
            "There's 0 directories and 31 images/files in 'data/food_stuff/test/sushi'.\n",
            "There's 0 directories and 25 images/files in 'data/food_stuff/test/pizza'.\n"
          ]
        }
      ]
    },
    {
      "cell_type": "code",
      "source": [
        "#setting up training and testing data paths\n",
        "train_dir=image_path/\"train\"\n",
        "test_dir=image_path/\"test\"\n",
        "\n",
        "train_dir, test_dir"
      ],
      "metadata": {
        "colab": {
          "base_uri": "https://localhost:8080/"
        },
        "id": "R-6Etph0H-Y-",
        "outputId": "31225f83-7469-472f-c7d2-f8f27de0c9e8"
      },
      "execution_count": 18,
      "outputs": [
        {
          "output_type": "execute_result",
          "data": {
            "text/plain": [
              "(PosixPath('data/food_stuff/train'), PosixPath('data/food_stuff/test'))"
            ]
          },
          "metadata": {},
          "execution_count": 18
        }
      ]
    }
  ]
}